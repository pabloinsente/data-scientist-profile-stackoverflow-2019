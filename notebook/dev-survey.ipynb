{
 "cells": [
  {
   "cell_type": "markdown",
   "metadata": {},
   "source": [
    "# Stack Overflow Developer Survey 2019: Part I - Data Scientist Profile"
   ]
  },
  {
   "cell_type": "markdown",
   "metadata": {},
   "source": [
    "## Outline:\n",
    "0. Intro\n",
    "1. Read in data\n",
    "2. Subset data scientists \n",
    "3. Missing data\n",
    "4. Data scientist profile\n",
    "5. Key Observations and Conclusions"
   ]
  },
  {
   "cell_type": "markdown",
   "metadata": {},
   "source": [
    "## 0. Intro "
   ]
  },
  {
   "cell_type": "markdown",
   "metadata": {},
   "source": [
    "Since 2011, Stack Overflow has been conducting the **\"Stack Overflow Annual Developer Survey\"**. As grad student and aspiring Data Scientist, I was interested in learning more about the **Data Scientist results** in this survey.\n",
    "\n",
    "The Stack Overflow survey is very, very long. There are four main sections: **Developers Profile, Technology, Work, and Community**. My goal is ***roughly*** replicate the analysis offered by Stack Overflow in each section. I will skip a few plots, add a few that I found useful, and to offer additional commentaries and analysis.\n",
    "\n",
    "This Jupyter Notebook contains my analysis for the first section of the survey: **Data Scientist Profile**. I developed all the analysis using Python, pandas, numpy, and plotly (for Bubble Maps). I intentionally avoided using additional Python graphical libraries (matplotlib, seaborn, etc.), just to practice and show how easily you can get an exploratory data analysis done in Python.\n",
    "\n",
    "**My work is by no means perfect. Feel free to comment, share, extend, and improve the analysis/code/plots as you like!**"
   ]
  },
  {
   "cell_type": "code",
   "execution_count": 103,
   "metadata": {},
   "outputs": [],
   "source": [
    "import pandas as pd\n",
    "import numpy as np\n",
    "import plotly.express as px\n",
    "import pycountry"
   ]
  },
  {
   "cell_type": "code",
   "execution_count": 104,
   "metadata": {},
   "outputs": [
    {
     "name": "stdout",
     "output_type": "stream",
     "text": [
      "Python 3.6.9 :: Anaconda, Inc.\r\n"
     ]
    }
   ],
   "source": [
    "!python --version"
   ]
  },
  {
   "cell_type": "code",
   "execution_count": 105,
   "metadata": {},
   "outputs": [
    {
     "name": "stdout",
     "output_type": "stream",
     "text": [
      "6.0.1\r\n"
     ]
    }
   ],
   "source": [
    "!jupyter-notebook --version"
   ]
  },
  {
   "cell_type": "code",
   "execution_count": 106,
   "metadata": {},
   "outputs": [
    {
     "name": "stdout",
     "output_type": "stream",
     "text": [
      "Pandas version: 0.25.1, Numpy version: 1.16.4\n"
     ]
    }
   ],
   "source": [
    "print(f'Pandas version: {pd.__version__}, Numpy version: {np.__version__}')"
   ]
  },
  {
   "cell_type": "markdown",
   "metadata": {},
   "source": [
    "## I. Read in data"
   ]
  },
  {
   "cell_type": "markdown",
   "metadata": {},
   "source": [
    "We will read in the survey data using pandas read_csv function. Fortunately, the dataset seems to be very well organized so this is pretty straight forward to do."
   ]
  },
  {
   "cell_type": "code",
   "execution_count": 107,
   "metadata": {},
   "outputs": [
    {
     "data": {
      "text/html": [
       "<div>\n",
       "<style scoped>\n",
       "    .dataframe tbody tr th:only-of-type {\n",
       "        vertical-align: middle;\n",
       "    }\n",
       "\n",
       "    .dataframe tbody tr th {\n",
       "        vertical-align: top;\n",
       "    }\n",
       "\n",
       "    .dataframe thead th {\n",
       "        text-align: right;\n",
       "    }\n",
       "</style>\n",
       "<table border=\"1\" class=\"dataframe\">\n",
       "  <thead>\n",
       "    <tr style=\"text-align: right;\">\n",
       "      <th></th>\n",
       "      <th>Respondent</th>\n",
       "      <th>MainBranch</th>\n",
       "      <th>Hobbyist</th>\n",
       "      <th>OpenSourcer</th>\n",
       "      <th>OpenSource</th>\n",
       "      <th>Employment</th>\n",
       "      <th>Country</th>\n",
       "      <th>Student</th>\n",
       "      <th>EdLevel</th>\n",
       "      <th>UndergradMajor</th>\n",
       "      <th>...</th>\n",
       "      <th>WelcomeChange</th>\n",
       "      <th>SONewContent</th>\n",
       "      <th>Age</th>\n",
       "      <th>Gender</th>\n",
       "      <th>Trans</th>\n",
       "      <th>Sexuality</th>\n",
       "      <th>Ethnicity</th>\n",
       "      <th>Dependents</th>\n",
       "      <th>SurveyLength</th>\n",
       "      <th>SurveyEase</th>\n",
       "    </tr>\n",
       "  </thead>\n",
       "  <tbody>\n",
       "    <tr>\n",
       "      <td>0</td>\n",
       "      <td>1</td>\n",
       "      <td>I am a student who is learning to code</td>\n",
       "      <td>Yes</td>\n",
       "      <td>Never</td>\n",
       "      <td>The quality of OSS and closed source software ...</td>\n",
       "      <td>Not employed, and not looking for work</td>\n",
       "      <td>United Kingdom</td>\n",
       "      <td>No</td>\n",
       "      <td>Primary/elementary school</td>\n",
       "      <td>NaN</td>\n",
       "      <td>...</td>\n",
       "      <td>Just as welcome now as I felt last year</td>\n",
       "      <td>Tech articles written by other developers;Indu...</td>\n",
       "      <td>14.0</td>\n",
       "      <td>Man</td>\n",
       "      <td>No</td>\n",
       "      <td>Straight / Heterosexual</td>\n",
       "      <td>NaN</td>\n",
       "      <td>No</td>\n",
       "      <td>Appropriate in length</td>\n",
       "      <td>Neither easy nor difficult</td>\n",
       "    </tr>\n",
       "    <tr>\n",
       "      <td>1</td>\n",
       "      <td>2</td>\n",
       "      <td>I am a student who is learning to code</td>\n",
       "      <td>No</td>\n",
       "      <td>Less than once per year</td>\n",
       "      <td>The quality of OSS and closed source software ...</td>\n",
       "      <td>Not employed, but looking for work</td>\n",
       "      <td>Bosnia and Herzegovina</td>\n",
       "      <td>Yes, full-time</td>\n",
       "      <td>Secondary school (e.g. American high school, G...</td>\n",
       "      <td>NaN</td>\n",
       "      <td>...</td>\n",
       "      <td>Just as welcome now as I felt last year</td>\n",
       "      <td>Tech articles written by other developers;Indu...</td>\n",
       "      <td>19.0</td>\n",
       "      <td>Man</td>\n",
       "      <td>No</td>\n",
       "      <td>Straight / Heterosexual</td>\n",
       "      <td>NaN</td>\n",
       "      <td>No</td>\n",
       "      <td>Appropriate in length</td>\n",
       "      <td>Neither easy nor difficult</td>\n",
       "    </tr>\n",
       "  </tbody>\n",
       "</table>\n",
       "<p>2 rows × 85 columns</p>\n",
       "</div>"
      ],
      "text/plain": [
       "   Respondent                              MainBranch Hobbyist  \\\n",
       "0           1  I am a student who is learning to code      Yes   \n",
       "1           2  I am a student who is learning to code       No   \n",
       "\n",
       "               OpenSourcer                                         OpenSource  \\\n",
       "0                    Never  The quality of OSS and closed source software ...   \n",
       "1  Less than once per year  The quality of OSS and closed source software ...   \n",
       "\n",
       "                               Employment                 Country  \\\n",
       "0  Not employed, and not looking for work          United Kingdom   \n",
       "1      Not employed, but looking for work  Bosnia and Herzegovina   \n",
       "\n",
       "          Student                                            EdLevel  \\\n",
       "0              No                          Primary/elementary school   \n",
       "1  Yes, full-time  Secondary school (e.g. American high school, G...   \n",
       "\n",
       "  UndergradMajor  ...                            WelcomeChange  \\\n",
       "0            NaN  ...  Just as welcome now as I felt last year   \n",
       "1            NaN  ...  Just as welcome now as I felt last year   \n",
       "\n",
       "                                        SONewContent   Age Gender Trans  \\\n",
       "0  Tech articles written by other developers;Indu...  14.0    Man    No   \n",
       "1  Tech articles written by other developers;Indu...  19.0    Man    No   \n",
       "\n",
       "                 Sexuality Ethnicity Dependents           SurveyLength  \\\n",
       "0  Straight / Heterosexual       NaN         No  Appropriate in length   \n",
       "1  Straight / Heterosexual       NaN         No  Appropriate in length   \n",
       "\n",
       "                   SurveyEase  \n",
       "0  Neither easy nor difficult  \n",
       "1  Neither easy nor difficult  \n",
       "\n",
       "[2 rows x 85 columns]"
      ]
     },
     "execution_count": 107,
     "metadata": {},
     "output_type": "execute_result"
    }
   ],
   "source": [
    "df = pd.read_csv('../data/survey_results_public.zip', compression='zip')\n",
    "df.head(2)"
   ]
  },
  {
   "cell_type": "code",
   "execution_count": 108,
   "metadata": {},
   "outputs": [
    {
     "data": {
      "text/plain": [
       "(88883, 85)"
      ]
     },
     "execution_count": 108,
     "metadata": {},
     "output_type": "execute_result"
    }
   ],
   "source": [
    "df.shape"
   ]
  },
  {
   "cell_type": "code",
   "execution_count": 212,
   "metadata": {},
   "outputs": [
    {
     "data": {
      "text/plain": [
       "array([dtype('int64'), dtype('O'), dtype('float64')], dtype=object)"
      ]
     },
     "execution_count": 212,
     "metadata": {},
     "output_type": "execute_result"
    }
   ],
   "source": [
    "df.dtypes.unique()"
   ]
  },
  {
   "cell_type": "code",
   "execution_count": 218,
   "metadata": {},
   "outputs": [
    {
     "name": "stdout",
     "output_type": "stream",
     "text": [
      "int64 count: 1\n",
      "float64 count: 5\n",
      "object count: 79\n"
     ]
    }
   ],
   "source": [
    "print(f'int64 count: {df.dtypes.apply(lambda x: x == \"int64\").sum()}')\n",
    "print(f'float64 count: {df.dtypes.apply(lambda x: x == \"float64\").sum()}')\n",
    "print(f'object count: {df.dtypes.apply(lambda x: x == \"O\").sum()}')"
   ]
  },
  {
   "cell_type": "markdown",
   "metadata": {},
   "source": [
    "The survey dataset contains **88,883 rows and 85 columns**, with **6 numerical columns and 79 'object' columns**. When pandas returns a 'object' type usually means that the column (or 'Series' in pandas jargon) contains strings or a mix of data types. pandas does not allow for multiple data types in a Series, which is preciselly why pandas **upcast such columns to the type 'object'**, which is the more general data type in pandas. The 'mixing' usually comes from **combining strings cases with 'NaN' cases**, and 'NaN' values tuns out to be 'float' data types. Now let's find the variable that will help us to extract the Data Scientists from the survey."
   ]
  },
  {
   "cell_type": "code",
   "execution_count": 222,
   "metadata": {},
   "outputs": [
    {
     "data": {
      "text/plain": [
       "Index(['Respondent', 'MainBranch', 'Hobbyist', 'OpenSourcer', 'OpenSource',\n",
       "       'Employment', 'Country', 'Student', 'EdLevel', 'UndergradMajor',\n",
       "       'EduOther', 'OrgSize', 'DevType', 'YearsCode', 'Age1stCode',\n",
       "       'YearsCodePro', 'CareerSat', 'JobSat', 'MgrIdiot', 'MgrMoney',\n",
       "       'MgrWant', 'JobSeek', 'LastHireDate', 'LastInt', 'FizzBuzz',\n",
       "       'JobFactors', 'ResumeUpdate', 'CurrencySymbol', 'CurrencyDesc',\n",
       "       'CompTotal', 'CompFreq', 'ConvertedComp', 'WorkWeekHrs', 'WorkPlan',\n",
       "       'WorkChallenge', 'WorkRemote', 'WorkLoc', 'ImpSyn', 'CodeRev',\n",
       "       'CodeRevHrs', 'UnitTests', 'PurchaseHow', 'PurchaseWhat',\n",
       "       'LanguageWorkedWith', 'LanguageDesireNextYear', 'DatabaseWorkedWith',\n",
       "       'DatabaseDesireNextYear', 'PlatformWorkedWith',\n",
       "       'PlatformDesireNextYear', 'WebFrameWorkedWith',\n",
       "       'WebFrameDesireNextYear', 'MiscTechWorkedWith',\n",
       "       'MiscTechDesireNextYear', 'DevEnviron', 'OpSys', 'Containers',\n",
       "       'BlockchainOrg', 'BlockchainIs', 'BetterLife', 'ITperson', 'OffOn',\n",
       "       'SocialMedia', 'Extraversion', 'ScreenName', 'SOVisit1st',\n",
       "       'SOVisitFreq', 'SOVisitTo', 'SOFindAnswer', 'SOTimeSaved',\n",
       "       'SOHowMuchTime', 'SOAccount', 'SOPartFreq', 'SOJobs', 'EntTeams',\n",
       "       'SOComm', 'WelcomeChange', 'SONewContent', 'Age', 'Gender', 'Trans',\n",
       "       'Sexuality', 'Ethnicity', 'Dependents', 'SurveyLength', 'SurveyEase'],\n",
       "      dtype='object')"
      ]
     },
     "execution_count": 222,
     "metadata": {},
     "output_type": "execute_result"
    }
   ],
   "source": [
    "df.columns"
   ]
  },
  {
   "cell_type": "markdown",
   "metadata": {},
   "source": [
    "A quick glance to the column names suggest that **'Employment' or maybe 'DevType'** may contain what we are looking for. Let's subset and print out those columns. "
   ]
  },
  {
   "cell_type": "code",
   "execution_count": 111,
   "metadata": {},
   "outputs": [
    {
     "data": {
      "text/html": [
       "<div>\n",
       "<style scoped>\n",
       "    .dataframe tbody tr th:only-of-type {\n",
       "        vertical-align: middle;\n",
       "    }\n",
       "\n",
       "    .dataframe tbody tr th {\n",
       "        vertical-align: top;\n",
       "    }\n",
       "\n",
       "    .dataframe thead th {\n",
       "        text-align: right;\n",
       "    }\n",
       "</style>\n",
       "<table border=\"1\" class=\"dataframe\">\n",
       "  <thead>\n",
       "    <tr style=\"text-align: right;\">\n",
       "      <th></th>\n",
       "      <th>Employment</th>\n",
       "      <th>DevType</th>\n",
       "    </tr>\n",
       "  </thead>\n",
       "  <tbody>\n",
       "    <tr>\n",
       "      <td>0</td>\n",
       "      <td>Not employed, and not looking for work</td>\n",
       "      <td>NaN</td>\n",
       "    </tr>\n",
       "    <tr>\n",
       "      <td>1</td>\n",
       "      <td>Not employed, but looking for work</td>\n",
       "      <td>Developer, desktop or enterprise applications;...</td>\n",
       "    </tr>\n",
       "    <tr>\n",
       "      <td>2</td>\n",
       "      <td>Employed full-time</td>\n",
       "      <td>Designer;Developer, back-end;Developer, front-...</td>\n",
       "    </tr>\n",
       "    <tr>\n",
       "      <td>3</td>\n",
       "      <td>Employed full-time</td>\n",
       "      <td>Developer, full-stack</td>\n",
       "    </tr>\n",
       "    <tr>\n",
       "      <td>4</td>\n",
       "      <td>Employed full-time</td>\n",
       "      <td>Academic researcher;Developer, desktop or ente...</td>\n",
       "    </tr>\n",
       "  </tbody>\n",
       "</table>\n",
       "</div>"
      ],
      "text/plain": [
       "                               Employment  \\\n",
       "0  Not employed, and not looking for work   \n",
       "1      Not employed, but looking for work   \n",
       "2                      Employed full-time   \n",
       "3                      Employed full-time   \n",
       "4                      Employed full-time   \n",
       "\n",
       "                                             DevType  \n",
       "0                                                NaN  \n",
       "1  Developer, desktop or enterprise applications;...  \n",
       "2  Designer;Developer, back-end;Developer, front-...  \n",
       "3                              Developer, full-stack  \n",
       "4  Academic researcher;Developer, desktop or ente...  "
      ]
     },
     "execution_count": 111,
     "metadata": {},
     "output_type": "execute_result"
    }
   ],
   "source": [
    "df[['Employment', 'DevType']][0:5]"
   ]
  },
  {
   "cell_type": "markdown",
   "metadata": {},
   "source": [
    "**'Devtype' contains what we are looking for**."
   ]
  },
  {
   "cell_type": "markdown",
   "metadata": {},
   "source": [
    "## 2. Subsetting Data Scientists"
   ]
  },
  {
   "cell_type": "markdown",
   "metadata": {},
   "source": [
    "There are multiple ways to approach the data subsetting. If you are into text analysis, natural language processing and the likes, you may be a regular expression wizard, and solve this using regex. I have a particular distaste for memorizing regular expressions syntax which I happen to think is one of the most useful, yet, ugly abominations ever invented. Therefore, I'll take advantage of a few of Python tricks to get the job done. This is what I'm going to do:\n",
    "\n",
    "1. Create a list of keyword to search within each string\n",
    "2. Cast the DevType column into a list of strings\n",
    "3. Search within each string in the list the keywords in my 'search' list\n",
    "4. Return 'True' if ANY of the keywords is the string, and 'False' otherwise\n",
    "5. Use the resulting boolean array of 'True' and 'False' values to filter the original dataframe\n",
    "\n",
    "The way in which step 5 works, is simple: pandas will retain the rows where 'True' is passed, and drop the rest.\n",
    "\n",
    "Note that **there isn't such a thing as a universally accepted way to define who is a Data Scientist**, so feel free to define your own keywords for search. For instance, I decided to not add *Database administrator*, which tend to overlap with back-end software engineers, but some people may consider them Data Scientist as well."
   ]
  },
  {
   "cell_type": "code",
   "execution_count": 112,
   "metadata": {},
   "outputs": [
    {
     "data": {
      "text/plain": [
       "(10675, 85)"
      ]
     },
     "execution_count": 112,
     "metadata": {},
     "output_type": "execute_result"
    }
   ],
   "source": [
    "search = ['data scientist', 'data analyst', 'business analyst', 'machine learning'] # keywords to be searched\n",
    "filter = list(df.DevType.astype(str)) # list to be filtered\n",
    "mask = [True if search[0] in x.lower() or search[1] in x.lower() or search[2] in x.lower() or search[3] in x.lower() else False for x in filter] # boolean mask to retain keywords\n",
    "df_mask = df[mask]\n",
    "df_ds = df_mask.copy() # we create a new copy to avoid changing the raw data\n",
    "df_ds.shape"
   ]
  },
  {
   "cell_type": "code",
   "execution_count": 113,
   "metadata": {},
   "outputs": [
    {
     "data": {
      "text/plain": [
       "5     Data or business analyst;Data scientist or mac...\n",
       "9     Data or business analyst;Data scientist or mac...\n",
       "11    Data or business analyst;Data scientist or mac...\n",
       "12    Data or business analyst;Database administrato...\n",
       "17                             Data or business analyst\n",
       "21    Data or business analyst;Designer;Developer, b...\n",
       "32    Academic researcher;Data scientist or machine ...\n",
       "41    Academic researcher;Data or business analyst;D...\n",
       "50       Data or business analyst;Developer, full-stack\n",
       "58    Data or business analyst;Database administrato...\n",
       "Name: DevType, dtype: object"
      ]
     },
     "execution_count": 113,
     "metadata": {},
     "output_type": "execute_result"
    }
   ],
   "source": [
    "df_ds.DevType.head(10)"
   ]
  },
  {
   "cell_type": "markdown",
   "metadata": {},
   "source": [
    "We obtained a dataframe with **10,675** rows where people mentioned **at least one** of our keywords. At this point we can eyeball that **1/8 or ~12%** of the respondent self-identify as Data Scientist, which looks a pretty decent sample size for our analysis."
   ]
  },
  {
   "cell_type": "markdown",
   "metadata": {},
   "source": [
    "## II. Missing Data"
   ]
  },
  {
   "cell_type": "markdown",
   "metadata": {},
   "source": [
    "Cheking for missing values is standard practice, particularly in hypothesis testing, machine learning, or predictive modeling. Some people may prefer to do this only under the aforementioned circumstances, but I consider **this is important for exploratory data analysis as well**. If you find patterns of missing data, for instance, by gender, data might offer a misleading representation of the population. pandas makes this very simple."
   ]
  },
  {
   "cell_type": "code",
   "execution_count": 114,
   "metadata": {},
   "outputs": [
    {
     "data": {
      "image/png": "[encoded data removed]",
      "text/plain": [
       "<Figure size 720x1440 with 1 Axes>"
      ]
     },
     "metadata": {
      "needs_background": "light"
     },
     "output_type": "display_data"
    }
   ],
   "source": [
    "df_ds.isnull().sum().sort_values(ascending=True).plot(kind='barh', figsize=(10, 20));"
   ]
  },
  {
   "cell_type": "markdown",
   "metadata": {},
   "source": [
    "The barplot display the number of rows with missing values. We see that *CodRevHrs* has almost 5,000 missing values, which is around 50% of the data. **Only 5 features have zero missing values**. In general, it seems to be a lot of missing values in most variables, which calls for precaution when interpreting results from this survey for some variables.  \n",
    "\n",
    "Before proceding, **a note about plots in Python**: I often read/hear R users mentioning that ploting in Python is harder. I think that such impression can be a product of two things: first, comparing Matplotlib and ggplot2. Matplotlib is verbose and uses a different philosophy than ggplot2, which makes it unintuitive for R users; second, simpler ways to make plots (like the out-of-the-box functionality of Pandas) are often unknown. As an exercise, I'll avoid using Matplotlib, Seaborn, or Altair, and **I'll restric myself to pandas default plot functionality**. The only exception will be using plotly.express to create Bubble Maps."
   ]
  },
  {
   "cell_type": "markdown",
   "metadata": {},
   "source": [
    "## III. Data Scientist Profile"
   ]
  },
  {
   "cell_type": "markdown",
   "metadata": {},
   "source": [
    "Our goal is to characterize Data Scientist's profiles by **roughly reproducing the StackOverflow results for all Developers in 2019**. You can find the 2019 results here https://insights.stackoverflow.com/survey/2019#overview \n",
    "\n",
    "Most features in the survey are text. Text makes data exploration a bit complicated, because it requires extra data wrangling before plotting. I will create a few functions for plotting using pandas default functionality. "
   ]
  },
  {
   "cell_type": "code",
   "execution_count": 223,
   "metadata": {},
   "outputs": [],
   "source": [
    "def bar_plot_percent(series: str, kind: str ='barh', title: str = 'Title', order=None, sort=False, size=None, df=df_ds):\n",
    "    '''Plot a series\n",
    "    \n",
    "    Arguments:\n",
    "    ----------\n",
    "    series(str)   -- series to be plot (default None)\n",
    "    kind(str)     -- type of plot (default barh)\n",
    "    title(str)    -- plot title (defaul 'Title')\n",
    "    order(list)   -- apply custom order (default None)\n",
    "    sort(bool)    -- sort in descending order (default False)\n",
    "    size(tuple)   -- width and hight dimensions (default None)\n",
    "    df(DataFrame) -- DataFrame to be plot (default df_ds)\n",
    "    \n",
    "    Returns:\n",
    "    --------\n",
    "    plot\n",
    "    '''\n",
    "    if sort:\n",
    "        return df[series].value_counts().apply(lambda x: np.round((x/df[series].notna().sum())*100, decimals=2)).reindex(order).sort_values(ascending = sort).plot(kind=kind, figsize=size, title=title);\n",
    "    else:\n",
    "        return df[series].value_counts().apply(lambda x: np.round((x/len(df))*100, decimals=2)).reindex(order).plot(kind=kind, figsize=size, title=title);"
   ]
  },
  {
   "cell_type": "code",
   "execution_count": 225,
   "metadata": {},
   "outputs": [],
   "source": [
    "def get_percent(series: str, df=df_ds):\n",
    "    '''Compute percentage for a series\n",
    "    \n",
    "    Arguments:\n",
    "    ----------\n",
    "    series(str)   -- series to be computed\n",
    "    df(DataFrame) -- Drataframe\n",
    "    \n",
    "    Returns:\n",
    "    --------\n",
    "    Percentage for series'''\n",
    "    return df[series].value_counts().apply(lambda x: np.round((x/df[series].notna().sum())*100, decimals=2))"
   ]
  },
  {
   "cell_type": "markdown",
   "metadata": {},
   "source": [
    "### I. Geography"
   ]
  },
  {
   "cell_type": "markdown",
   "metadata": {},
   "source": [
    "The Stack Overflow survey was answered by developers from all over the world. In the case of Data Scientist, we found respondents from **143 countries**, but the bulk of the data comes from a few countries. To better understand this, we will create an **interactive bubble map** using *plotly*. One inconvinience, is the requirement of **ISO Alpha 3** codes for each country (i.e., the standard 3 letter code). Fortunately, we can use the *pycountry* library to map country names to ISO Alpha 3 codes. Unfortunately, *pycountry* requires the official name of each country to work, and some countries are named incorrectly. As painful as it was, I checked and replaced each country name with the correct one below."
   ]
  },
  {
   "cell_type": "code",
   "execution_count": 117,
   "metadata": {},
   "outputs": [],
   "source": [
    "df_ds.Country.replace({\n",
    "    'Iran':'Iran, Islamic Republic of',\n",
    "    'Czech Republic':'Czechia',\n",
    "    'Taiwan':'Taiwan, Province of China',\n",
    "    'Hong Kong (S.A.R.)':'Hong Kong',\n",
    "    'South Korea': 'Korea, Republic of',\n",
    "    'United Republic of Tanzania':'Tanzania, United Republic of',\n",
    "    'Venezuela, Bolivarian Republic of...':'Venezuela, Bolivarian Republic of',\n",
    "    'The former Yugoslav Republic of Macedonia':'North Macedonia',\n",
    "    'Bolivia':'Bolivia, Plurinational State of',\n",
    "    'Libyan Arab Jamahiriya':'Libya',\n",
    "    'Republic of Moldova':'Moldova, Republic of',\n",
    "    'Democratic Republic of the Congo':'Congo',\n",
    "    'Republic of Korea': 'Korea, Republic of',\n",
    "    'Congo, Republic of the...': 'Congo',\n",
    "    \"Democratic People's Republic of Korea\":\"Korea, Democratic People's Republic of\"\n",
    "                       }, inplace=True)"
   ]
  },
  {
   "cell_type": "markdown",
   "metadata": {},
   "source": [
    "To create the Bubble Map, we need to create a country dataframe, with country, percentage, and frequency"
   ]
  },
  {
   "cell_type": "code",
   "execution_count": 118,
   "metadata": {},
   "outputs": [
    {
     "data": {
      "text/html": [
       "<div>\n",
       "<style scoped>\n",
       "    .dataframe tbody tr th:only-of-type {\n",
       "        vertical-align: middle;\n",
       "    }\n",
       "\n",
       "    .dataframe tbody tr th {\n",
       "        vertical-align: top;\n",
       "    }\n",
       "\n",
       "    .dataframe thead th {\n",
       "        text-align: right;\n",
       "    }\n",
       "</style>\n",
       "<table border=\"1\" class=\"dataframe\">\n",
       "  <thead>\n",
       "    <tr style=\"text-align: right;\">\n",
       "      <th></th>\n",
       "      <th>percentage</th>\n",
       "      <th>countries</th>\n",
       "      <th>frequency</th>\n",
       "    </tr>\n",
       "  </thead>\n",
       "  <tbody>\n",
       "    <tr>\n",
       "      <td>United States</td>\n",
       "      <td>27.17</td>\n",
       "      <td>United States</td>\n",
       "      <td>2897</td>\n",
       "    </tr>\n",
       "    <tr>\n",
       "      <td>India</td>\n",
       "      <td>9.12</td>\n",
       "      <td>India</td>\n",
       "      <td>972</td>\n",
       "    </tr>\n",
       "    <tr>\n",
       "      <td>Germany</td>\n",
       "      <td>6.33</td>\n",
       "      <td>Germany</td>\n",
       "      <td>675</td>\n",
       "    </tr>\n",
       "    <tr>\n",
       "      <td>United Kingdom</td>\n",
       "      <td>5.87</td>\n",
       "      <td>United Kingdom</td>\n",
       "      <td>626</td>\n",
       "    </tr>\n",
       "    <tr>\n",
       "      <td>Canada</td>\n",
       "      <td>3.63</td>\n",
       "      <td>Canada</td>\n",
       "      <td>387</td>\n",
       "    </tr>\n",
       "  </tbody>\n",
       "</table>\n",
       "</div>"
      ],
      "text/plain": [
       "                percentage       countries  frequency\n",
       "United States        27.17   United States       2897\n",
       "India                 9.12           India        972\n",
       "Germany               6.33         Germany        675\n",
       "United Kingdom        5.87  United Kingdom        626\n",
       "Canada                3.63          Canada        387"
      ]
     },
     "execution_count": 118,
     "metadata": {},
     "output_type": "execute_result"
    }
   ],
   "source": [
    "mask_countries = (df_ds.Country != 'Other Country (Not Listed Above)') # exclude unknown countries\n",
    "countries_plot = get_percent('Country', df_ds[mask_countries]).to_frame() # add percentage by country\n",
    "countries_plot['countries'] = countries_plot.index # add country column\n",
    "countries_plot_2 = countries_plot.merge(df_ds.Country.value_counts().to_frame(), left_index=True, right_index=True) # add frequency by country\n",
    "countries_plot_2.rename(columns={\"Country_x\": \"percentage\", \"Country_y\": \"frequency\"}, inplace=True)\n",
    "countries_plot_2.head()"
   ]
  },
  {
   "cell_type": "markdown",
   "metadata": {},
   "source": [
    "As we mentioned, we will add the **ISO Alpha 3** using the ```pycountry.countries.get method```"
   ]
  },
  {
   "cell_type": "code",
   "execution_count": 119,
   "metadata": {},
   "outputs": [
    {
     "data": {
      "text/html": [
       "<div>\n",
       "<style scoped>\n",
       "    .dataframe tbody tr th:only-of-type {\n",
       "        vertical-align: middle;\n",
       "    }\n",
       "\n",
       "    .dataframe tbody tr th {\n",
       "        vertical-align: top;\n",
       "    }\n",
       "\n",
       "    .dataframe thead th {\n",
       "        text-align: right;\n",
       "    }\n",
       "</style>\n",
       "<table border=\"1\" class=\"dataframe\">\n",
       "  <thead>\n",
       "    <tr style=\"text-align: right;\">\n",
       "      <th></th>\n",
       "      <th>percentage</th>\n",
       "      <th>countries</th>\n",
       "      <th>frequency</th>\n",
       "      <th>iso_alpha</th>\n",
       "    </tr>\n",
       "  </thead>\n",
       "  <tbody>\n",
       "    <tr>\n",
       "      <td>United States</td>\n",
       "      <td>27.17</td>\n",
       "      <td>United States</td>\n",
       "      <td>2897</td>\n",
       "      <td>USA</td>\n",
       "    </tr>\n",
       "    <tr>\n",
       "      <td>India</td>\n",
       "      <td>9.12</td>\n",
       "      <td>India</td>\n",
       "      <td>972</td>\n",
       "      <td>IND</td>\n",
       "    </tr>\n",
       "    <tr>\n",
       "      <td>Germany</td>\n",
       "      <td>6.33</td>\n",
       "      <td>Germany</td>\n",
       "      <td>675</td>\n",
       "      <td>DEU</td>\n",
       "    </tr>\n",
       "    <tr>\n",
       "      <td>United Kingdom</td>\n",
       "      <td>5.87</td>\n",
       "      <td>United Kingdom</td>\n",
       "      <td>626</td>\n",
       "      <td>GBR</td>\n",
       "    </tr>\n",
       "    <tr>\n",
       "      <td>Canada</td>\n",
       "      <td>3.63</td>\n",
       "      <td>Canada</td>\n",
       "      <td>387</td>\n",
       "      <td>CAN</td>\n",
       "    </tr>\n",
       "  </tbody>\n",
       "</table>\n",
       "</div>"
      ],
      "text/plain": [
       "                percentage       countries  frequency iso_alpha\n",
       "United States        27.17   United States       2897       USA\n",
       "India                 9.12           India        972       IND\n",
       "Germany               6.33         Germany        675       DEU\n",
       "United Kingdom        5.87  United Kingdom        626       GBR\n",
       "Canada                3.63          Canada        387       CAN"
      ]
     },
     "execution_count": 119,
     "metadata": {},
     "output_type": "execute_result"
    }
   ],
   "source": [
    "countries_plot_2[\"iso_alpha\"] = countries_plot.countries.apply(lambda x: pycountry.countries.get(name=x).alpha_3)\n",
    "countries_plot_2.head()"
   ]
  },
  {
   "cell_type": "markdown",
   "metadata": {},
   "source": [
    "##### Bubble Map of Data Scientist by Country as Percentage\n",
    "If you hover over the bubble on each country, you will get the country name and information"
   ]
  },
  {
   "cell_type": "code",
   "execution_count": 120,
   "metadata": {},
   "outputs": [
    {
     "data": {
      "application/vnd.plotly.v1+json": {
       "config": {
        "plotlyServerURL": "https://plot.ly"
       },
       "data": [
        {
         "geo": "geo",
         "hoverlabel": {
          "namelength": 0
         },
         "hovertemplate": "<b>%{hovertext}</b><br><br>percentage=%{marker.color}<br>iso_alpha=%{location}",
         "hovertext": [
          "United States",
          "India",
          "Germany",
          "United Kingdom",
          "Canada",
          "Brazil",
          "Australia",
          "Netherlands",
          "France",
          "Russian Federation",
          "Poland",
          "Spain",
          "Italy",
          "Switzerland",
          "Iran, Islamic Republic of",
          "Sweden",
          "Pakistan",
          "Turkey",
          "South Africa",
          "Mexico",
          "Denmark",
          "Israel",
          "Belgium",
          "Bangladesh",
          "Austria",
          "Greece",
          "Czechia",
          "Ukraine",
          "Norway",
          "Finland",
          "Indonesia",
          "Romania",
          "Argentina",
          "Bulgaria",
          "Portugal",
          "Nigeria",
          "Philippines",
          "Ireland",
          "New Zealand",
          "Japan",
          "China",
          "Hungary",
          "Chile",
          "Thailand",
          "Slovenia",
          "Malaysia",
          "Serbia",
          "Kenya",
          "Colombia",
          "Singapore",
          "Egypt",
          "Croatia",
          "Sri Lanka",
          "Lithuania",
          "Viet Nam",
          "Slovakia",
          "Taiwan, Province of China",
          "Hong Kong",
          "Nepal",
          "United Arab Emirates",
          "Latvia",
          "Korea, Republic of",
          "Tunisia",
          "Lebanon",
          "Estonia",
          "Belarus",
          "Morocco",
          "Saudi Arabia",
          "Costa Rica",
          "El Salvador",
          "Uruguay",
          "Uganda",
          "Ecuador",
          "Dominican Republic",
          "Peru",
          "Albania",
          "Algeria",
          "Ghana",
          "Cameroon",
          "Georgia",
          "Myanmar",
          "Tanzania, United Republic of",
          "Armenia",
          "Cambodia",
          "Jordan",
          "Guatemala",
          "Venezuela, Bolivarian Republic of",
          "Luxembourg",
          "Côte d'Ivoire",
          "Cuba",
          "Bosnia and Herzegovina",
          "Mauritius",
          "North Macedonia",
          "Zimbabwe",
          "Qatar",
          "Cyprus",
          "Iceland",
          "Malta",
          "Montenegro",
          "Kazakhstan",
          "Syrian Arab Republic",
          "Paraguay",
          "Sudan",
          "Ethiopia",
          "Afghanistan",
          "Uzbekistan",
          "Mongolia",
          "Nicaragua",
          "Bolivia, Plurinational State of",
          "Libya",
          "Azerbaijan",
          "Panama",
          "Yemen",
          "Honduras",
          "Jamaica",
          "Kuwait",
          "Congo",
          "Trinidad and Tobago",
          "Haiti",
          "Namibia",
          "Madagascar",
          "Fiji",
          "Senegal",
          "Moldova, Republic of",
          "Iraq",
          "Guyana",
          "Botswana",
          "Malawi",
          "Mali",
          "Benin",
          "Togo",
          "Zambia",
          "Bhutan",
          "Guinea",
          "Kyrgyzstan",
          "Oman",
          "Korea, Democratic People's Republic of",
          "Djibouti",
          "Liberia",
          "Mauritania",
          "Bahrain",
          "Mozambique"
         ],
         "legendgroup": "",
         "locations": [
          "USA",
          "IND",
          "DEU",
          "GBR",
          "CAN",
          "BRA",
          "AUS",
          "NLD",
          "FRA",
          "RUS",
          "POL",
          "ESP",
          "ITA",
          "CHE",
          "IRN",
          "SWE",
          "PAK",
          "TUR",
          "ZAF",
          "MEX",
          "DNK",
          "ISR",
          "BEL",
          "BGD",
          "AUT",
          "GRC",
          "CZE",
          "UKR",
          "NOR",
          "FIN",
          "IDN",
          "ROU",
          "ARG",
          "BGR",
          "PRT",
          "NGA",
          "PHL",
          "IRL",
          "NZL",
          "JPN",
          "CHN",
          "HUN",
          "CHL",
          "THA",
          "SVN",
          "MYS",
          "SRB",
          "KEN",
          "COL",
          "SGP",
          "EGY",
          "HRV",
          "LKA",
          "LTU",
          "VNM",
          "SVK",
          "TWN",
          "HKG",
          "NPL",
          "ARE",
          "LVA",
          "KOR",
          "TUN",
          "LBN",
          "EST",
          "BLR",
          "MAR",
          "SAU",
          "CRI",
          "SLV",
          "URY",
          "UGA",
          "ECU",
          "DOM",
          "PER",
          "ALB",
          "DZA",
          "GHA",
          "CMR",
          "GEO",
          "MMR",
          "TZA",
          "ARM",
          "KHM",
          "JOR",
          "GTM",
          "VEN",
          "LUX",
          "CIV",
          "CUB",
          "BIH",
          "MUS",
          "MKD",
          "ZWE",
          "QAT",
          "CYP",
          "ISL",
          "MLT",
          "MNE",
          "KAZ",
          "SYR",
          "PRY",
          "SDN",
          "ETH",
          "AFG",
          "UZB",
          "MNG",
          "NIC",
          "BOL",
          "LBY",
          "AZE",
          "PAN",
          "YEM",
          "HND",
          "JAM",
          "KWT",
          "COG",
          "TTO",
          "HTI",
          "NAM",
          "MDG",
          "FJI",
          "SEN",
          "MDA",
          "IRQ",
          "GUY",
          "BWA",
          "MWI",
          "MLI",
          "BEN",
          "TGO",
          "ZMB",
          "BTN",
          "GIN",
          "KGZ",
          "OMN",
          "PRK",
          "DJI",
          "LBR",
          "MRT",
          "BHR",
          "MOZ"
         ],
         "marker": {
          "color": [
           27.17,
           9.12,
           6.33,
           5.87,
           3.63,
           2.38,
           2.35,
           2.22,
           2.13,
           1.85,
           1.78,
           1.73,
           1.61,
           1.4,
           1.15,
           1.13,
           1.11,
           1.04,
           1,
           0.97,
           0.89,
           0.88,
           0.8,
           0.77,
           0.76,
           0.72,
           0.71,
           0.68,
           0.65,
           0.63,
           0.61,
           0.58,
           0.57,
           0.56,
           0.54,
           0.53,
           0.53,
           0.48,
           0.45,
           0.44,
           0.44,
           0.43,
           0.39,
           0.38,
           0.37,
           0.33,
           0.32,
           0.32,
           0.31,
           0.3,
           0.3,
           0.3,
           0.29,
           0.29,
           0.27,
           0.27,
           0.25,
           0.24,
           0.23,
           0.2,
           0.2,
           0.2,
           0.19,
           0.17,
           0.15,
           0.15,
           0.14,
           0.14,
           0.13,
           0.12,
           0.12,
           0.12,
           0.12,
           0.12,
           0.11,
           0.11,
           0.11,
           0.11,
           0.09,
           0.09,
           0.09,
           0.09,
           0.09,
           0.08,
           0.08,
           0.08,
           0.08,
           0.08,
           0.07,
           0.07,
           0.07,
           0.07,
           0.07,
           0.06,
           0.06,
           0.06,
           0.05,
           0.05,
           0.05,
           0.05,
           0.05,
           0.04,
           0.04,
           0.04,
           0.04,
           0.04,
           0.04,
           0.04,
           0.04,
           0.04,
           0.04,
           0.03,
           0.03,
           0.03,
           0.03,
           0.03,
           0.03,
           0.03,
           0.03,
           0.02,
           0.02,
           0.02,
           0.02,
           0.02,
           0.02,
           0.01,
           0.01,
           0.01,
           0.01,
           0.01,
           0.01,
           0.01,
           0.01,
           0.01,
           0.01,
           0.01,
           0.01,
           0.01,
           0.01,
           0.01,
           0.01,
           0.01
          ],
          "coloraxis": "coloraxis",
          "size": [
           27.17,
           9.12,
           6.33,
           5.87,
           3.63,
           2.38,
           2.35,
           2.22,
           2.13,
           1.85,
           1.78,
           1.73,
           1.61,
           1.4,
           1.15,
           1.13,
           1.11,
           1.04,
           1,
           0.97,
           0.89,
           0.88,
           0.8,
           0.77,
           0.76,
           0.72,
           0.71,
           0.68,
           0.65,
           0.63,
           0.61,
           0.58,
           0.57,
           0.56,
           0.54,
           0.53,
           0.53,
           0.48,
           0.45,
           0.44,
           0.44,
           0.43,
           0.39,
           0.38,
           0.37,
           0.33,
           0.32,
           0.32,
           0.31,
           0.3,
           0.3,
           0.3,
           0.29,
           0.29,
           0.27,
           0.27,
           0.25,
           0.24,
           0.23,
           0.2,
           0.2,
           0.2,
           0.19,
           0.17,
           0.15,
           0.15,
           0.14,
           0.14,
           0.13,
           0.12,
           0.12,
           0.12,
           0.12,
           0.12,
           0.11,
           0.11,
           0.11,
           0.11,
           0.09,
           0.09,
           0.09,
           0.09,
           0.09,
           0.08,
           0.08,
           0.08,
           0.08,
           0.08,
           0.07,
           0.07,
           0.07,
           0.07,
           0.07,
           0.06,
           0.06,
           0.06,
           0.05,
           0.05,
           0.05,
           0.05,
           0.05,
           0.04,
           0.04,
           0.04,
           0.04,
           0.04,
           0.04,
           0.04,
           0.04,
           0.04,
           0.04,
           0.03,
           0.03,
           0.03,
           0.03,
           0.03,
           0.03,
           0.03,
           0.03,
           0.02,
           0.02,
           0.02,
           0.02,
           0.02,
           0.02,
           0.01,
           0.01,
           0.01,
           0.01,
           0.01,
           0.01,
           0.01,
           0.01,
           0.01,
           0.01,
           0.01,
           0.01,
           0.01,
           0.01,
           0.01,
           0.01,
           0.01
          ],
          "sizemode": "area",
          "sizeref": 0.067925
         },
         "name": "",
         "showlegend": false,
         "type": "scattergeo"
        }
       ],
       "layout": {
        "coloraxis": {
         "colorbar": {
          "title": {
           "text": "percentage"
          }
         },
         "colorscale": [
          [
           0,
           "#0d0887"
          ],
          [
           0.1111111111111111,
           "#46039f"
          ],
          [
           0.2222222222222222,
           "#7201a8"
          ],
          [
           0.3333333333333333,
           "#9c179e"
          ],
          [
           0.4444444444444444,
           "#bd3786"
          ],
          [
           0.5555555555555556,
           "#d8576b"
          ],
          [
           0.6666666666666666,
           "#ed7953"
          ],
          [
           0.7777777777777778,
           "#fb9f3a"
          ],
          [
           0.8888888888888888,
           "#fdca26"
          ],
          [
           1,
           "#f0f921"
          ]
         ]
        },
        "geo": {
         "center": {},
         "domain": {
          "x": [
           0,
           0.98
          ],
          "y": [
           0,
           1
          ]
         },
         "projection": {
          "type": "natural earth"
         }
        },
        "height": 600,
        "legend": {
         "itemsizing": "constant",
         "tracegroupgap": 0
        },
        "margin": {
         "t": 60
        },
        "template": {
         "data": {
          "bar": [
           {
            "error_x": {
             "color": "#2a3f5f"
            },
            "error_y": {
             "color": "#2a3f5f"
            },
            "marker": {
             "line": {
              "color": "#E5ECF6",
              "width": 0.5
             }
            },
            "type": "bar"
           }
          ],
          "barpolar": [
           {
            "marker": {
             "line": {
              "color": "#E5ECF6",
              "width": 0.5
             }
            },
            "type": "barpolar"
           }
          ],
          "carpet": [
           {
            "aaxis": {
             "endlinecolor": "#2a3f5f",
             "gridcolor": "white",
             "linecolor": "white",
             "minorgridcolor": "white",
             "startlinecolor": "#2a3f5f"
            },
            "baxis": {
             "endlinecolor": "#2a3f5f",
             "gridcolor": "white",
             "linecolor": "white",
             "minorgridcolor": "white",
             "startlinecolor": "#2a3f5f"
            },
            "type": "carpet"
           }
          ],
          "choropleth": [
           {
            "colorbar": {
             "outlinewidth": 0,
             "ticks": ""
            },
            "type": "choropleth"
           }
          ],
          "contour": [
           {
            "colorbar": {
             "outlinewidth": 0,
             "ticks": ""
            },
            "colorscale": [
             [
              0,
              "#0d0887"
             ],
             [
              0.1111111111111111,
              "#46039f"
             ],
             [
              0.2222222222222222,
              "#7201a8"
             ],
             [
              0.3333333333333333,
              "#9c179e"
             ],
             [
              0.4444444444444444,
              "#bd3786"
             ],
             [
              0.5555555555555556,
              "#d8576b"
             ],
             [
              0.6666666666666666,
              "#ed7953"
             ],
             [
              0.7777777777777778,
              "#fb9f3a"
             ],
             [
              0.8888888888888888,
              "#fdca26"
             ],
             [
              1,
              "#f0f921"
             ]
            ],
            "type": "contour"
           }
          ],
          "contourcarpet": [
           {
            "colorbar": {
             "outlinewidth": 0,
             "ticks": ""
            },
            "type": "contourcarpet"
           }
          ],
          "heatmap": [
           {
            "colorbar": {
             "outlinewidth": 0,
             "ticks": ""
            },
            "colorscale": [
             [
              0,
              "#0d0887"
             ],
             [
              0.1111111111111111,
              "#46039f"
             ],
             [
              0.2222222222222222,
              "#7201a8"
             ],
             [
              0.3333333333333333,
              "#9c179e"
             ],
             [
              0.4444444444444444,
              "#bd3786"
             ],
             [
              0.5555555555555556,
              "#d8576b"
             ],
             [
              0.6666666666666666,
              "#ed7953"
             ],
             [
              0.7777777777777778,
              "#fb9f3a"
             ],
             [
              0.8888888888888888,
              "#fdca26"
             ],
             [
              1,
              "#f0f921"
             ]
            ],
            "type": "heatmap"
           }
          ],
          "heatmapgl": [
           {
            "colorbar": {
             "outlinewidth": 0,
             "ticks": ""
            },
            "colorscale": [
             [
              0,
              "#0d0887"
             ],
             [
              0.1111111111111111,
              "#46039f"
             ],
             [
              0.2222222222222222,
              "#7201a8"
             ],
             [
              0.3333333333333333,
              "#9c179e"
             ],
             [
              0.4444444444444444,
              "#bd3786"
             ],
             [
              0.5555555555555556,
              "#d8576b"
             ],
             [
              0.6666666666666666,
              "#ed7953"
             ],
             [
              0.7777777777777778,
              "#fb9f3a"
             ],
             [
              0.8888888888888888,
              "#fdca26"
             ],
             [
              1,
              "#f0f921"
             ]
            ],
            "type": "heatmapgl"
           }
          ],
          "histogram": [
           {
            "marker": {
             "colorbar": {
              "outlinewidth": 0,
              "ticks": ""
             }
            },
            "type": "histogram"
           }
          ],
          "histogram2d": [
           {
            "colorbar": {
             "outlinewidth": 0,
             "ticks": ""
            },
            "colorscale": [
             [
              0,
              "#0d0887"
             ],
             [
              0.1111111111111111,
              "#46039f"
             ],
             [
              0.2222222222222222,
              "#7201a8"
             ],
             [
              0.3333333333333333,
              "#9c179e"
             ],
             [
              0.4444444444444444,
              "#bd3786"
             ],
             [
              0.5555555555555556,
              "#d8576b"
             ],
             [
              0.6666666666666666,
              "#ed7953"
             ],
             [
              0.7777777777777778,
              "#fb9f3a"
             ],
             [
              0.8888888888888888,
              "#fdca26"
             ],
             [
              1,
              "#f0f921"
             ]
            ],
            "type": "histogram2d"
           }
          ],
          "histogram2dcontour": [
           {
            "colorbar": {
             "outlinewidth": 0,
             "ticks": ""
            },
            "colorscale": [
             [
              0,
              "#0d0887"
             ],
             [
              0.1111111111111111,
              "#46039f"
             ],
             [
              0.2222222222222222,
              "#7201a8"
             ],
             [
              0.3333333333333333,
              "#9c179e"
             ],
             [
              0.4444444444444444,
              "#bd3786"
             ],
             [
              0.5555555555555556,
              "#d8576b"
             ],
             [
              0.6666666666666666,
              "#ed7953"
             ],
             [
              0.7777777777777778,
              "#fb9f3a"
             ],
             [
              0.8888888888888888,
              "#fdca26"
             ],
             [
              1,
              "#f0f921"
             ]
            ],
            "type": "histogram2dcontour"
           }
          ],
          "mesh3d": [
           {
            "colorbar": {
             "outlinewidth": 0,
             "ticks": ""
            },
            "type": "mesh3d"
           }
          ],
          "parcoords": [
           {
            "line": {
             "colorbar": {
              "outlinewidth": 0,
              "ticks": ""
             }
            },
            "type": "parcoords"
           }
          ],
          "scatter": [
           {
            "marker": {
             "colorbar": {
              "outlinewidth": 0,
              "ticks": ""
             }
            },
            "type": "scatter"
           }
          ],
          "scatter3d": [
           {
            "line": {
             "colorbar": {
              "outlinewidth": 0,
              "ticks": ""
             }
            },
            "marker": {
             "colorbar": {
              "outlinewidth": 0,
              "ticks": ""
             }
            },
            "type": "scatter3d"
           }
          ],
          "scattercarpet": [
           {
            "marker": {
             "colorbar": {
              "outlinewidth": 0,
              "ticks": ""
             }
            },
            "type": "scattercarpet"
           }
          ],
          "scattergeo": [
           {
            "marker": {
             "colorbar": {
              "outlinewidth": 0,
              "ticks": ""
             }
            },
            "type": "scattergeo"
           }
          ],
          "scattergl": [
           {
            "marker": {
             "colorbar": {
              "outlinewidth": 0,
              "ticks": ""
             }
            },
            "type": "scattergl"
           }
          ],
          "scattermapbox": [
           {
            "marker": {
             "colorbar": {
              "outlinewidth": 0,
              "ticks": ""
             }
            },
            "type": "scattermapbox"
           }
          ],
          "scatterpolar": [
           {
            "marker": {
             "colorbar": {
              "outlinewidth": 0,
              "ticks": ""
             }
            },
            "type": "scatterpolar"
           }
          ],
          "scatterpolargl": [
           {
            "marker": {
             "colorbar": {
              "outlinewidth": 0,
              "ticks": ""
             }
            },
            "type": "scatterpolargl"
           }
          ],
          "scatterternary": [
           {
            "marker": {
             "colorbar": {
              "outlinewidth": 0,
              "ticks": ""
             }
            },
            "type": "scatterternary"
           }
          ],
          "surface": [
           {
            "colorbar": {
             "outlinewidth": 0,
             "ticks": ""
            },
            "colorscale": [
             [
              0,
              "#0d0887"
             ],
             [
              0.1111111111111111,
              "#46039f"
             ],
             [
              0.2222222222222222,
              "#7201a8"
             ],
             [
              0.3333333333333333,
              "#9c179e"
             ],
             [
              0.4444444444444444,
              "#bd3786"
             ],
             [
              0.5555555555555556,
              "#d8576b"
             ],
             [
              0.6666666666666666,
              "#ed7953"
             ],
             [
              0.7777777777777778,
              "#fb9f3a"
             ],
             [
              0.8888888888888888,
              "#fdca26"
             ],
             [
              1,
              "#f0f921"
             ]
            ],
            "type": "surface"
           }
          ],
          "table": [
           {
            "cells": {
             "fill": {
              "color": "#EBF0F8"
             },
             "line": {
              "color": "white"
             }
            },
            "header": {
             "fill": {
              "color": "#C8D4E3"
             },
             "line": {
              "color": "white"
             }
            },
            "type": "table"
           }
          ]
         },
         "layout": {
          "annotationdefaults": {
           "arrowcolor": "#2a3f5f",
           "arrowhead": 0,
           "arrowwidth": 1
          },
          "colorscale": {
           "diverging": [
            [
             0,
             "#8e0152"
            ],
            [
             0.1,
             "#c51b7d"
            ],
            [
             0.2,
             "#de77ae"
            ],
            [
             0.3,
             "#f1b6da"
            ],
            [
             0.4,
             "#fde0ef"
            ],
            [
             0.5,
             "#f7f7f7"
            ],
            [
             0.6,
             "#e6f5d0"
            ],
            [
             0.7,
             "#b8e186"
            ],
            [
             0.8,
             "#7fbc41"
            ],
            [
             0.9,
             "#4d9221"
            ],
            [
             1,
             "#276419"
            ]
           ],
           "sequential": [
            [
             0,
             "#0d0887"
            ],
            [
             0.1111111111111111,
             "#46039f"
            ],
            [
             0.2222222222222222,
             "#7201a8"
            ],
            [
             0.3333333333333333,
             "#9c179e"
            ],
            [
             0.4444444444444444,
             "#bd3786"
            ],
            [
             0.5555555555555556,
             "#d8576b"
            ],
            [
             0.6666666666666666,
             "#ed7953"
            ],
            [
             0.7777777777777778,
             "#fb9f3a"
            ],
            [
             0.8888888888888888,
             "#fdca26"
            ],
            [
             1,
             "#f0f921"
            ]
           ],
           "sequentialminus": [
            [
             0,
             "#0d0887"
            ],
            [
             0.1111111111111111,
             "#46039f"
            ],
            [
             0.2222222222222222,
             "#7201a8"
            ],
            [
             0.3333333333333333,
             "#9c179e"
            ],
            [
             0.4444444444444444,
             "#bd3786"
            ],
            [
             0.5555555555555556,
             "#d8576b"
            ],
            [
             0.6666666666666666,
             "#ed7953"
            ],
            [
             0.7777777777777778,
             "#fb9f3a"
            ],
            [
             0.8888888888888888,
             "#fdca26"
            ],
            [
             1,
             "#f0f921"
            ]
           ]
          },
          "colorway": [
           "#636efa",
           "#EF553B",
           "#00cc96",
           "#ab63fa",
           "#FFA15A",
           "#19d3f3",
           "#FF6692",
           "#B6E880",
           "#FF97FF",
           "#FECB52"
          ],
          "font": {
           "color": "#2a3f5f"
          },
          "geo": {
           "bgcolor": "white",
           "lakecolor": "white",
           "landcolor": "#E5ECF6",
           "showlakes": true,
           "showland": true,
           "subunitcolor": "white"
          },
          "hoverlabel": {
           "align": "left"
          },
          "hovermode": "closest",
          "mapbox": {
           "style": "light"
          },
          "paper_bgcolor": "white",
          "plot_bgcolor": "#E5ECF6",
          "polar": {
           "angularaxis": {
            "gridcolor": "white",
            "linecolor": "white",
            "ticks": ""
           },
           "bgcolor": "#E5ECF6",
           "radialaxis": {
            "gridcolor": "white",
            "linecolor": "white",
            "ticks": ""
           }
          },
          "scene": {
           "xaxis": {
            "backgroundcolor": "#E5ECF6",
            "gridcolor": "white",
            "gridwidth": 2,
            "linecolor": "white",
            "showbackground": true,
            "ticks": "",
            "zerolinecolor": "white"
           },
           "yaxis": {
            "backgroundcolor": "#E5ECF6",
            "gridcolor": "white",
            "gridwidth": 2,
            "linecolor": "white",
            "showbackground": true,
            "ticks": "",
            "zerolinecolor": "white"
           },
           "zaxis": {
            "backgroundcolor": "#E5ECF6",
            "gridcolor": "white",
            "gridwidth": 2,
            "linecolor": "white",
            "showbackground": true,
            "ticks": "",
            "zerolinecolor": "white"
           }
          },
          "shapedefaults": {
           "line": {
            "color": "#2a3f5f"
           }
          },
          "ternary": {
           "aaxis": {
            "gridcolor": "white",
            "linecolor": "white",
            "ticks": ""
           },
           "baxis": {
            "gridcolor": "white",
            "linecolor": "white",
            "ticks": ""
           },
           "bgcolor": "#E5ECF6",
           "caxis": {
            "gridcolor": "white",
            "linecolor": "white",
            "ticks": ""
           }
          },
          "title": {
           "x": 0.05
          },
          "xaxis": {
           "automargin": true,
           "gridcolor": "white",
           "linecolor": "white",
           "ticks": "",
           "zerolinecolor": "white",
           "zerolinewidth": 2
          },
          "yaxis": {
           "automargin": true,
           "gridcolor": "white",
           "linecolor": "white",
           "ticks": "",
           "zerolinecolor": "white",
           "zerolinewidth": 2
          }
         }
        }
       }
      },
      "text/html": [
       "<div>\n",
       "        \n",
       "        \n",
       "            <div id=\"35cd6997-a389-4c54-928f-edb0f8ce62fa\" class=\"plotly-graph-div\" style=\"height:600px; width:100%;\"></div>\n",
       "            <script type=\"text/javascript\">\n",
       "                require([\"plotly\"], function(Plotly) {\n",
       "                    window.PLOTLYENV=window.PLOTLYENV || {};\n",
       "                    \n",
       "                if (document.getElementById(\"35cd6997-a389-4c54-928f-edb0f8ce62fa\")) {\n",
       "                    Plotly.newPlot(\n",
       "                        '35cd6997-a389-4c54-928f-edb0f8ce62fa',\n",
       "                        [{\"geo\": \"geo\", \"hoverlabel\": {\"namelength\": 0}, \"hovertemplate\": \"<b>%{hovertext}</b><br><br>percentage=%{marker.color}<br>iso_alpha=%{location}\", \"hovertext\": [\"United States\", \"India\", \"Germany\", \"United Kingdom\", \"Canada\", \"Brazil\", \"Australia\", \"Netherlands\", \"France\", \"Russian Federation\", \"Poland\", \"Spain\", \"Italy\", \"Switzerland\", \"Iran, Islamic Republic of\", \"Sweden\", \"Pakistan\", \"Turkey\", \"South Africa\", \"Mexico\", \"Denmark\", \"Israel\", \"Belgium\", \"Bangladesh\", \"Austria\", \"Greece\", \"Czechia\", \"Ukraine\", \"Norway\", \"Finland\", \"Indonesia\", \"Romania\", \"Argentina\", \"Bulgaria\", \"Portugal\", \"Nigeria\", \"Philippines\", \"Ireland\", \"New Zealand\", \"Japan\", \"China\", \"Hungary\", \"Chile\", \"Thailand\", \"Slovenia\", \"Malaysia\", \"Serbia\", \"Kenya\", \"Colombia\", \"Singapore\", \"Egypt\", \"Croatia\", \"Sri Lanka\", \"Lithuania\", \"Viet Nam\", \"Slovakia\", \"Taiwan, Province of China\", \"Hong Kong\", \"Nepal\", \"United Arab Emirates\", \"Latvia\", \"Korea, Republic of\", \"Tunisia\", \"Lebanon\", \"Estonia\", \"Belarus\", \"Morocco\", \"Saudi Arabia\", \"Costa Rica\", \"El Salvador\", \"Uruguay\", \"Uganda\", \"Ecuador\", \"Dominican Republic\", \"Peru\", \"Albania\", \"Algeria\", \"Ghana\", \"Cameroon\", \"Georgia\", \"Myanmar\", \"Tanzania, United Republic of\", \"Armenia\", \"Cambodia\", \"Jordan\", \"Guatemala\", \"Venezuela, Bolivarian Republic of\", \"Luxembourg\", \"C\\u00f4te d'Ivoire\", \"Cuba\", \"Bosnia and Herzegovina\", \"Mauritius\", \"North Macedonia\", \"Zimbabwe\", \"Qatar\", \"Cyprus\", \"Iceland\", \"Malta\", \"Montenegro\", \"Kazakhstan\", \"Syrian Arab Republic\", \"Paraguay\", \"Sudan\", \"Ethiopia\", \"Afghanistan\", \"Uzbekistan\", \"Mongolia\", \"Nicaragua\", \"Bolivia, Plurinational State of\", \"Libya\", \"Azerbaijan\", \"Panama\", \"Yemen\", \"Honduras\", \"Jamaica\", \"Kuwait\", \"Congo\", \"Trinidad and Tobago\", \"Haiti\", \"Namibia\", \"Madagascar\", \"Fiji\", \"Senegal\", \"Moldova, Republic of\", \"Iraq\", \"Guyana\", \"Botswana\", \"Malawi\", \"Mali\", \"Benin\", \"Togo\", \"Zambia\", \"Bhutan\", \"Guinea\", \"Kyrgyzstan\", \"Oman\", \"Korea, Democratic People's Republic of\", \"Djibouti\", \"Liberia\", \"Mauritania\", \"Bahrain\", \"Mozambique\"], \"legendgroup\": \"\", \"locations\": [\"USA\", \"IND\", \"DEU\", \"GBR\", \"CAN\", \"BRA\", \"AUS\", \"NLD\", \"FRA\", \"RUS\", \"POL\", \"ESP\", \"ITA\", \"CHE\", \"IRN\", \"SWE\", \"PAK\", \"TUR\", \"ZAF\", \"MEX\", \"DNK\", \"ISR\", \"BEL\", \"BGD\", \"AUT\", \"GRC\", \"CZE\", \"UKR\", \"NOR\", \"FIN\", \"IDN\", \"ROU\", \"ARG\", \"BGR\", \"PRT\", \"NGA\", \"PHL\", \"IRL\", \"NZL\", \"JPN\", \"CHN\", \"HUN\", \"CHL\", \"THA\", \"SVN\", \"MYS\", \"SRB\", \"KEN\", \"COL\", \"SGP\", \"EGY\", \"HRV\", \"LKA\", \"LTU\", \"VNM\", \"SVK\", \"TWN\", \"HKG\", \"NPL\", \"ARE\", \"LVA\", \"KOR\", \"TUN\", \"LBN\", \"EST\", \"BLR\", \"MAR\", \"SAU\", \"CRI\", \"SLV\", \"URY\", \"UGA\", \"ECU\", \"DOM\", \"PER\", \"ALB\", \"DZA\", \"GHA\", \"CMR\", \"GEO\", \"MMR\", \"TZA\", \"ARM\", \"KHM\", \"JOR\", \"GTM\", \"VEN\", \"LUX\", \"CIV\", \"CUB\", \"BIH\", \"MUS\", \"MKD\", \"ZWE\", \"QAT\", \"CYP\", \"ISL\", \"MLT\", \"MNE\", \"KAZ\", \"SYR\", \"PRY\", \"SDN\", \"ETH\", \"AFG\", \"UZB\", \"MNG\", \"NIC\", \"BOL\", \"LBY\", \"AZE\", \"PAN\", \"YEM\", \"HND\", \"JAM\", \"KWT\", \"COG\", \"TTO\", \"HTI\", \"NAM\", \"MDG\", \"FJI\", \"SEN\", \"MDA\", \"IRQ\", \"GUY\", \"BWA\", \"MWI\", \"MLI\", \"BEN\", \"TGO\", \"ZMB\", \"BTN\", \"GIN\", \"KGZ\", \"OMN\", \"PRK\", \"DJI\", \"LBR\", \"MRT\", \"BHR\", \"MOZ\"], \"marker\": {\"color\": [27.17, 9.12, 6.33, 5.87, 3.63, 2.38, 2.35, 2.22, 2.13, 1.85, 1.78, 1.73, 1.61, 1.4, 1.15, 1.13, 1.11, 1.04, 1.0, 0.97, 0.89, 0.88, 0.8, 0.77, 0.76, 0.72, 0.71, 0.68, 0.65, 0.63, 0.61, 0.58, 0.57, 0.56, 0.54, 0.53, 0.53, 0.48, 0.45, 0.44, 0.44, 0.43, 0.39, 0.38, 0.37, 0.33, 0.32, 0.32, 0.31, 0.3, 0.3, 0.3, 0.29, 0.29, 0.27, 0.27, 0.25, 0.24, 0.23, 0.2, 0.2, 0.2, 0.19, 0.17, 0.15, 0.15, 0.14, 0.14, 0.13, 0.12, 0.12, 0.12, 0.12, 0.12, 0.11, 0.11, 0.11, 0.11, 0.09, 0.09, 0.09, 0.09, 0.09, 0.08, 0.08, 0.08, 0.08, 0.08, 0.07, 0.07, 0.07, 0.07, 0.07, 0.06, 0.06, 0.06, 0.05, 0.05, 0.05, 0.05, 0.05, 0.04, 0.04, 0.04, 0.04, 0.04, 0.04, 0.04, 0.04, 0.04, 0.04, 0.03, 0.03, 0.03, 0.03, 0.03, 0.03, 0.03, 0.03, 0.02, 0.02, 0.02, 0.02, 0.02, 0.02, 0.01, 0.01, 0.01, 0.01, 0.01, 0.01, 0.01, 0.01, 0.01, 0.01, 0.01, 0.01, 0.01, 0.01, 0.01, 0.01, 0.01], \"coloraxis\": \"coloraxis\", \"size\": [27.17, 9.12, 6.33, 5.87, 3.63, 2.38, 2.35, 2.22, 2.13, 1.85, 1.78, 1.73, 1.61, 1.4, 1.15, 1.13, 1.11, 1.04, 1.0, 0.97, 0.89, 0.88, 0.8, 0.77, 0.76, 0.72, 0.71, 0.68, 0.65, 0.63, 0.61, 0.58, 0.57, 0.56, 0.54, 0.53, 0.53, 0.48, 0.45, 0.44, 0.44, 0.43, 0.39, 0.38, 0.37, 0.33, 0.32, 0.32, 0.31, 0.3, 0.3, 0.3, 0.29, 0.29, 0.27, 0.27, 0.25, 0.24, 0.23, 0.2, 0.2, 0.2, 0.19, 0.17, 0.15, 0.15, 0.14, 0.14, 0.13, 0.12, 0.12, 0.12, 0.12, 0.12, 0.11, 0.11, 0.11, 0.11, 0.09, 0.09, 0.09, 0.09, 0.09, 0.08, 0.08, 0.08, 0.08, 0.08, 0.07, 0.07, 0.07, 0.07, 0.07, 0.06, 0.06, 0.06, 0.05, 0.05, 0.05, 0.05, 0.05, 0.04, 0.04, 0.04, 0.04, 0.04, 0.04, 0.04, 0.04, 0.04, 0.04, 0.03, 0.03, 0.03, 0.03, 0.03, 0.03, 0.03, 0.03, 0.02, 0.02, 0.02, 0.02, 0.02, 0.02, 0.01, 0.01, 0.01, 0.01, 0.01, 0.01, 0.01, 0.01, 0.01, 0.01, 0.01, 0.01, 0.01, 0.01, 0.01, 0.01, 0.01], \"sizemode\": \"area\", \"sizeref\": 0.067925}, \"name\": \"\", \"showlegend\": false, \"type\": \"scattergeo\"}],\n",
       "                        {\"coloraxis\": {\"colorbar\": {\"title\": {\"text\": \"percentage\"}}, \"colorscale\": [[0.0, \"#0d0887\"], [0.1111111111111111, \"#46039f\"], [0.2222222222222222, \"#7201a8\"], [0.3333333333333333, \"#9c179e\"], [0.4444444444444444, \"#bd3786\"], [0.5555555555555556, \"#d8576b\"], [0.6666666666666666, \"#ed7953\"], [0.7777777777777778, \"#fb9f3a\"], [0.8888888888888888, \"#fdca26\"], [1.0, \"#f0f921\"]]}, \"geo\": {\"center\": {}, \"domain\": {\"x\": [0.0, 0.98], \"y\": [0.0, 1.0]}, \"projection\": {\"type\": \"natural earth\"}}, \"height\": 600, \"legend\": {\"itemsizing\": \"constant\", \"tracegroupgap\": 0}, \"margin\": {\"t\": 60}, \"template\": {\"data\": {\"bar\": [{\"error_x\": {\"color\": \"#2a3f5f\"}, \"error_y\": {\"color\": \"#2a3f5f\"}, \"marker\": {\"line\": {\"color\": \"#E5ECF6\", \"width\": 0.5}}, \"type\": \"bar\"}], \"barpolar\": [{\"marker\": {\"line\": {\"color\": \"#E5ECF6\", \"width\": 0.5}}, \"type\": \"barpolar\"}], \"carpet\": [{\"aaxis\": {\"endlinecolor\": \"#2a3f5f\", \"gridcolor\": \"white\", \"linecolor\": \"white\", \"minorgridcolor\": \"white\", \"startlinecolor\": \"#2a3f5f\"}, \"baxis\": {\"endlinecolor\": \"#2a3f5f\", \"gridcolor\": \"white\", \"linecolor\": \"white\", \"minorgridcolor\": \"white\", \"startlinecolor\": \"#2a3f5f\"}, \"type\": \"carpet\"}], \"choropleth\": [{\"colorbar\": {\"outlinewidth\": 0, \"ticks\": \"\"}, \"type\": \"choropleth\"}], \"contour\": [{\"colorbar\": {\"outlinewidth\": 0, \"ticks\": \"\"}, \"colorscale\": [[0.0, \"#0d0887\"], [0.1111111111111111, \"#46039f\"], [0.2222222222222222, \"#7201a8\"], [0.3333333333333333, \"#9c179e\"], [0.4444444444444444, \"#bd3786\"], [0.5555555555555556, \"#d8576b\"], [0.6666666666666666, \"#ed7953\"], [0.7777777777777778, \"#fb9f3a\"], [0.8888888888888888, \"#fdca26\"], [1.0, \"#f0f921\"]], \"type\": \"contour\"}], \"contourcarpet\": [{\"colorbar\": {\"outlinewidth\": 0, \"ticks\": \"\"}, \"type\": \"contourcarpet\"}], \"heatmap\": [{\"colorbar\": {\"outlinewidth\": 0, \"ticks\": \"\"}, \"colorscale\": [[0.0, \"#0d0887\"], [0.1111111111111111, \"#46039f\"], [0.2222222222222222, \"#7201a8\"], [0.3333333333333333, \"#9c179e\"], [0.4444444444444444, \"#bd3786\"], [0.5555555555555556, \"#d8576b\"], [0.6666666666666666, \"#ed7953\"], [0.7777777777777778, \"#fb9f3a\"], [0.8888888888888888, \"#fdca26\"], [1.0, \"#f0f921\"]], \"type\": \"heatmap\"}], \"heatmapgl\": [{\"colorbar\": {\"outlinewidth\": 0, \"ticks\": \"\"}, \"colorscale\": [[0.0, \"#0d0887\"], [0.1111111111111111, \"#46039f\"], [0.2222222222222222, \"#7201a8\"], [0.3333333333333333, \"#9c179e\"], [0.4444444444444444, \"#bd3786\"], [0.5555555555555556, \"#d8576b\"], [0.6666666666666666, \"#ed7953\"], [0.7777777777777778, \"#fb9f3a\"], [0.8888888888888888, \"#fdca26\"], [1.0, \"#f0f921\"]], \"type\": \"heatmapgl\"}], \"histogram\": [{\"marker\": {\"colorbar\": {\"outlinewidth\": 0, \"ticks\": \"\"}}, \"type\": \"histogram\"}], \"histogram2d\": [{\"colorbar\": {\"outlinewidth\": 0, \"ticks\": \"\"}, \"colorscale\": [[0.0, \"#0d0887\"], [0.1111111111111111, \"#46039f\"], [0.2222222222222222, \"#7201a8\"], [0.3333333333333333, \"#9c179e\"], [0.4444444444444444, \"#bd3786\"], [0.5555555555555556, \"#d8576b\"], [0.6666666666666666, \"#ed7953\"], [0.7777777777777778, \"#fb9f3a\"], [0.8888888888888888, \"#fdca26\"], [1.0, \"#f0f921\"]], \"type\": \"histogram2d\"}], \"histogram2dcontour\": [{\"colorbar\": {\"outlinewidth\": 0, \"ticks\": \"\"}, \"colorscale\": [[0.0, \"#0d0887\"], [0.1111111111111111, \"#46039f\"], [0.2222222222222222, \"#7201a8\"], [0.3333333333333333, \"#9c179e\"], [0.4444444444444444, \"#bd3786\"], [0.5555555555555556, \"#d8576b\"], [0.6666666666666666, \"#ed7953\"], [0.7777777777777778, \"#fb9f3a\"], [0.8888888888888888, \"#fdca26\"], [1.0, \"#f0f921\"]], \"type\": \"histogram2dcontour\"}], \"mesh3d\": [{\"colorbar\": {\"outlinewidth\": 0, \"ticks\": \"\"}, \"type\": \"mesh3d\"}], \"parcoords\": [{\"line\": {\"colorbar\": {\"outlinewidth\": 0, \"ticks\": \"\"}}, \"type\": \"parcoords\"}], \"scatter\": [{\"marker\": {\"colorbar\": {\"outlinewidth\": 0, \"ticks\": \"\"}}, \"type\": \"scatter\"}], \"scatter3d\": [{\"line\": {\"colorbar\": {\"outlinewidth\": 0, \"ticks\": \"\"}}, \"marker\": {\"colorbar\": {\"outlinewidth\": 0, \"ticks\": \"\"}}, \"type\": \"scatter3d\"}], \"scattercarpet\": [{\"marker\": {\"colorbar\": {\"outlinewidth\": 0, \"ticks\": \"\"}}, \"type\": \"scattercarpet\"}], \"scattergeo\": [{\"marker\": {\"colorbar\": {\"outlinewidth\": 0, \"ticks\": \"\"}}, \"type\": \"scattergeo\"}], \"scattergl\": [{\"marker\": {\"colorbar\": {\"outlinewidth\": 0, \"ticks\": \"\"}}, \"type\": \"scattergl\"}], \"scattermapbox\": [{\"marker\": {\"colorbar\": {\"outlinewidth\": 0, \"ticks\": \"\"}}, \"type\": \"scattermapbox\"}], \"scatterpolar\": [{\"marker\": {\"colorbar\": {\"outlinewidth\": 0, \"ticks\": \"\"}}, \"type\": \"scatterpolar\"}], \"scatterpolargl\": [{\"marker\": {\"colorbar\": {\"outlinewidth\": 0, \"ticks\": \"\"}}, \"type\": \"scatterpolargl\"}], \"scatterternary\": [{\"marker\": {\"colorbar\": {\"outlinewidth\": 0, \"ticks\": \"\"}}, \"type\": \"scatterternary\"}], \"surface\": [{\"colorbar\": {\"outlinewidth\": 0, \"ticks\": \"\"}, \"colorscale\": [[0.0, \"#0d0887\"], [0.1111111111111111, \"#46039f\"], [0.2222222222222222, \"#7201a8\"], [0.3333333333333333, \"#9c179e\"], [0.4444444444444444, \"#bd3786\"], [0.5555555555555556, \"#d8576b\"], [0.6666666666666666, \"#ed7953\"], [0.7777777777777778, \"#fb9f3a\"], [0.8888888888888888, \"#fdca26\"], [1.0, \"#f0f921\"]], \"type\": \"surface\"}], \"table\": [{\"cells\": {\"fill\": {\"color\": \"#EBF0F8\"}, \"line\": {\"color\": \"white\"}}, \"header\": {\"fill\": {\"color\": \"#C8D4E3\"}, \"line\": {\"color\": \"white\"}}, \"type\": \"table\"}]}, \"layout\": {\"annotationdefaults\": {\"arrowcolor\": \"#2a3f5f\", \"arrowhead\": 0, \"arrowwidth\": 1}, \"colorscale\": {\"diverging\": [[0, \"#8e0152\"], [0.1, \"#c51b7d\"], [0.2, \"#de77ae\"], [0.3, \"#f1b6da\"], [0.4, \"#fde0ef\"], [0.5, \"#f7f7f7\"], [0.6, \"#e6f5d0\"], [0.7, \"#b8e186\"], [0.8, \"#7fbc41\"], [0.9, \"#4d9221\"], [1, \"#276419\"]], \"sequential\": [[0.0, \"#0d0887\"], [0.1111111111111111, \"#46039f\"], [0.2222222222222222, \"#7201a8\"], [0.3333333333333333, \"#9c179e\"], [0.4444444444444444, \"#bd3786\"], [0.5555555555555556, \"#d8576b\"], [0.6666666666666666, \"#ed7953\"], [0.7777777777777778, \"#fb9f3a\"], [0.8888888888888888, \"#fdca26\"], [1.0, \"#f0f921\"]], \"sequentialminus\": [[0.0, \"#0d0887\"], [0.1111111111111111, \"#46039f\"], [0.2222222222222222, \"#7201a8\"], [0.3333333333333333, \"#9c179e\"], [0.4444444444444444, \"#bd3786\"], [0.5555555555555556, \"#d8576b\"], [0.6666666666666666, \"#ed7953\"], [0.7777777777777778, \"#fb9f3a\"], [0.8888888888888888, \"#fdca26\"], [1.0, \"#f0f921\"]]}, \"colorway\": [\"#636efa\", \"#EF553B\", \"#00cc96\", \"#ab63fa\", \"#FFA15A\", \"#19d3f3\", \"#FF6692\", \"#B6E880\", \"#FF97FF\", \"#FECB52\"], \"font\": {\"color\": \"#2a3f5f\"}, \"geo\": {\"bgcolor\": \"white\", \"lakecolor\": \"white\", \"landcolor\": \"#E5ECF6\", \"showlakes\": true, \"showland\": true, \"subunitcolor\": \"white\"}, \"hoverlabel\": {\"align\": \"left\"}, \"hovermode\": \"closest\", \"mapbox\": {\"style\": \"light\"}, \"paper_bgcolor\": \"white\", \"plot_bgcolor\": \"#E5ECF6\", \"polar\": {\"angularaxis\": {\"gridcolor\": \"white\", \"linecolor\": \"white\", \"ticks\": \"\"}, \"bgcolor\": \"#E5ECF6\", \"radialaxis\": {\"gridcolor\": \"white\", \"linecolor\": \"white\", \"ticks\": \"\"}}, \"scene\": {\"xaxis\": {\"backgroundcolor\": \"#E5ECF6\", \"gridcolor\": \"white\", \"gridwidth\": 2, \"linecolor\": \"white\", \"showbackground\": true, \"ticks\": \"\", \"zerolinecolor\": \"white\"}, \"yaxis\": {\"backgroundcolor\": \"#E5ECF6\", \"gridcolor\": \"white\", \"gridwidth\": 2, \"linecolor\": \"white\", \"showbackground\": true, \"ticks\": \"\", \"zerolinecolor\": \"white\"}, \"zaxis\": {\"backgroundcolor\": \"#E5ECF6\", \"gridcolor\": \"white\", \"gridwidth\": 2, \"linecolor\": \"white\", \"showbackground\": true, \"ticks\": \"\", \"zerolinecolor\": \"white\"}}, \"shapedefaults\": {\"line\": {\"color\": \"#2a3f5f\"}}, \"ternary\": {\"aaxis\": {\"gridcolor\": \"white\", \"linecolor\": \"white\", \"ticks\": \"\"}, \"baxis\": {\"gridcolor\": \"white\", \"linecolor\": \"white\", \"ticks\": \"\"}, \"bgcolor\": \"#E5ECF6\", \"caxis\": {\"gridcolor\": \"white\", \"linecolor\": \"white\", \"ticks\": \"\"}}, \"title\": {\"x\": 0.05}, \"xaxis\": {\"automargin\": true, \"gridcolor\": \"white\", \"linecolor\": \"white\", \"ticks\": \"\", \"zerolinecolor\": \"white\", \"zerolinewidth\": 2}, \"yaxis\": {\"automargin\": true, \"gridcolor\": \"white\", \"linecolor\": \"white\", \"ticks\": \"\", \"zerolinecolor\": \"white\", \"zerolinewidth\": 2}}}},\n",
       "                        {\"responsive\": true}\n",
       "                    ).then(function(){\n",
       "                            \n",
       "var gd = document.getElementById('35cd6997-a389-4c54-928f-edb0f8ce62fa');\n",
       "var x = new MutationObserver(function (mutations, observer) {{\n",
       "        var display = window.getComputedStyle(gd).display;\n",
       "        if (!display || display === 'none') {{\n",
       "            console.log([gd, 'removed!']);\n",
       "            Plotly.purge(gd);\n",
       "            observer.disconnect();\n",
       "        }}\n",
       "}});\n",
       "\n",
       "// Listen for the removal of the full notebook cells\n",
       "var notebookContainer = gd.closest('#notebook-container');\n",
       "if (notebookContainer) {{\n",
       "    x.observe(notebookContainer, {childList: true});\n",
       "}}\n",
       "\n",
       "// Listen for the clearing of the current output cell\n",
       "var outputEl = gd.closest('.output');\n",
       "if (outputEl) {{\n",
       "    x.observe(outputEl, {childList: true});\n",
       "}}\n",
       "\n",
       "                        })\n",
       "                };\n",
       "                });\n",
       "            </script>\n",
       "        </div>"
      ]
     },
     "metadata": {},
     "output_type": "display_data"
    }
   ],
   "source": [
    "fig = px.scatter_geo(countries_plot_2, locations=\"iso_alpha\",\n",
    "                     hover_name=\"countries\", size=\"percentage\", color=\"percentage\",\n",
    "                     projection=\"natural earth\")\n",
    "fig.show()"
   ]
  },
  {
   "cell_type": "markdown",
   "metadata": {},
   "source": [
    "##### Bubble Map of Data Scientist by Country as Frequency\n",
    "You can zoom in, zoom out, and move the map around to explore"
   ]
  },
  {
   "cell_type": "code",
   "execution_count": 121,
   "metadata": {},
   "outputs": [
    {
     "data": {
      "application/vnd.plotly.v1+json": {
       "config": {
        "plotlyServerURL": "https://plot.ly"
       },
       "data": [
        {
         "geo": "geo",
         "hoverlabel": {
          "namelength": 0
         },
         "hovertemplate": "<b>%{hovertext}</b><br><br>frequency=%{marker.color}<br>iso_alpha=%{location}",
         "hovertext": [
          "United States",
          "India",
          "Germany",
          "United Kingdom",
          "Canada",
          "Brazil",
          "Australia",
          "Netherlands",
          "France",
          "Russian Federation",
          "Poland",
          "Spain",
          "Italy",
          "Switzerland",
          "Iran, Islamic Republic of",
          "Sweden",
          "Pakistan",
          "Turkey",
          "South Africa",
          "Mexico",
          "Denmark",
          "Israel",
          "Belgium",
          "Bangladesh",
          "Austria",
          "Greece",
          "Czechia",
          "Ukraine",
          "Norway",
          "Finland",
          "Indonesia",
          "Romania",
          "Argentina",
          "Bulgaria",
          "Portugal",
          "Nigeria",
          "Philippines",
          "Ireland",
          "New Zealand",
          "Japan",
          "China",
          "Hungary",
          "Chile",
          "Thailand",
          "Slovenia",
          "Malaysia",
          "Serbia",
          "Kenya",
          "Colombia",
          "Singapore",
          "Egypt",
          "Croatia",
          "Sri Lanka",
          "Lithuania",
          "Viet Nam",
          "Slovakia",
          "Taiwan, Province of China",
          "Hong Kong",
          "Nepal",
          "United Arab Emirates",
          "Latvia",
          "Korea, Republic of",
          "Tunisia",
          "Lebanon",
          "Estonia",
          "Belarus",
          "Morocco",
          "Saudi Arabia",
          "Costa Rica",
          "El Salvador",
          "Uruguay",
          "Uganda",
          "Ecuador",
          "Dominican Republic",
          "Peru",
          "Albania",
          "Algeria",
          "Ghana",
          "Cameroon",
          "Georgia",
          "Myanmar",
          "Tanzania, United Republic of",
          "Armenia",
          "Cambodia",
          "Jordan",
          "Guatemala",
          "Venezuela, Bolivarian Republic of",
          "Luxembourg",
          "Côte d'Ivoire",
          "Cuba",
          "Bosnia and Herzegovina",
          "Mauritius",
          "North Macedonia",
          "Zimbabwe",
          "Qatar",
          "Cyprus",
          "Iceland",
          "Malta",
          "Montenegro",
          "Kazakhstan",
          "Syrian Arab Republic",
          "Paraguay",
          "Sudan",
          "Ethiopia",
          "Afghanistan",
          "Uzbekistan",
          "Mongolia",
          "Nicaragua",
          "Bolivia, Plurinational State of",
          "Libya",
          "Azerbaijan",
          "Panama",
          "Yemen",
          "Honduras",
          "Jamaica",
          "Kuwait",
          "Congo",
          "Trinidad and Tobago",
          "Haiti",
          "Namibia",
          "Madagascar",
          "Fiji",
          "Senegal",
          "Moldova, Republic of",
          "Iraq",
          "Guyana",
          "Botswana",
          "Malawi",
          "Mali",
          "Benin",
          "Togo",
          "Zambia",
          "Bhutan",
          "Guinea",
          "Kyrgyzstan",
          "Oman",
          "Korea, Democratic People's Republic of",
          "Djibouti",
          "Liberia",
          "Mauritania",
          "Bahrain",
          "Mozambique"
         ],
         "legendgroup": "",
         "locations": [
          "USA",
          "IND",
          "DEU",
          "GBR",
          "CAN",
          "BRA",
          "AUS",
          "NLD",
          "FRA",
          "RUS",
          "POL",
          "ESP",
          "ITA",
          "CHE",
          "IRN",
          "SWE",
          "PAK",
          "TUR",
          "ZAF",
          "MEX",
          "DNK",
          "ISR",
          "BEL",
          "BGD",
          "AUT",
          "GRC",
          "CZE",
          "UKR",
          "NOR",
          "FIN",
          "IDN",
          "ROU",
          "ARG",
          "BGR",
          "PRT",
          "NGA",
          "PHL",
          "IRL",
          "NZL",
          "JPN",
          "CHN",
          "HUN",
          "CHL",
          "THA",
          "SVN",
          "MYS",
          "SRB",
          "KEN",
          "COL",
          "SGP",
          "EGY",
          "HRV",
          "LKA",
          "LTU",
          "VNM",
          "SVK",
          "TWN",
          "HKG",
          "NPL",
          "ARE",
          "LVA",
          "KOR",
          "TUN",
          "LBN",
          "EST",
          "BLR",
          "MAR",
          "SAU",
          "CRI",
          "SLV",
          "URY",
          "UGA",
          "ECU",
          "DOM",
          "PER",
          "ALB",
          "DZA",
          "GHA",
          "CMR",
          "GEO",
          "MMR",
          "TZA",
          "ARM",
          "KHM",
          "JOR",
          "GTM",
          "VEN",
          "LUX",
          "CIV",
          "CUB",
          "BIH",
          "MUS",
          "MKD",
          "ZWE",
          "QAT",
          "CYP",
          "ISL",
          "MLT",
          "MNE",
          "KAZ",
          "SYR",
          "PRY",
          "SDN",
          "ETH",
          "AFG",
          "UZB",
          "MNG",
          "NIC",
          "BOL",
          "LBY",
          "AZE",
          "PAN",
          "YEM",
          "HND",
          "JAM",
          "KWT",
          "COG",
          "TTO",
          "HTI",
          "NAM",
          "MDG",
          "FJI",
          "SEN",
          "MDA",
          "IRQ",
          "GUY",
          "BWA",
          "MWI",
          "MLI",
          "BEN",
          "TGO",
          "ZMB",
          "BTN",
          "GIN",
          "KGZ",
          "OMN",
          "PRK",
          "DJI",
          "LBR",
          "MRT",
          "BHR",
          "MOZ"
         ],
         "marker": {
          "color": [
           2897,
           972,
           675,
           626,
           387,
           254,
           251,
           237,
           227,
           197,
           190,
           185,
           172,
           149,
           123,
           120,
           118,
           111,
           107,
           103,
           95,
           94,
           85,
           82,
           81,
           77,
           76,
           72,
           69,
           67,
           65,
           62,
           61,
           60,
           58,
           57,
           57,
           51,
           48,
           47,
           47,
           46,
           42,
           41,
           39,
           35,
           34,
           34,
           33,
           32,
           32,
           32,
           31,
           31,
           29,
           29,
           27,
           26,
           25,
           21,
           21,
           21,
           20,
           18,
           16,
           16,
           15,
           15,
           14,
           13,
           13,
           13,
           13,
           13,
           12,
           12,
           12,
           12,
           10,
           10,
           10,
           10,
           10,
           9,
           9,
           8,
           8,
           8,
           7,
           7,
           7,
           7,
           7,
           6,
           6,
           6,
           5,
           5,
           5,
           5,
           5,
           4,
           4,
           4,
           4,
           4,
           4,
           4,
           4,
           4,
           4,
           3,
           3,
           3,
           3,
           3,
           3,
           3,
           3,
           2,
           2,
           2,
           2,
           2,
           2,
           1,
           1,
           1,
           1,
           1,
           1,
           1,
           1,
           1,
           1,
           1,
           1,
           1,
           1,
           1,
           1,
           1
          ],
          "coloraxis": "coloraxis",
          "size": [
           2897,
           972,
           675,
           626,
           387,
           254,
           251,
           237,
           227,
           197,
           190,
           185,
           172,
           149,
           123,
           120,
           118,
           111,
           107,
           103,
           95,
           94,
           85,
           82,
           81,
           77,
           76,
           72,
           69,
           67,
           65,
           62,
           61,
           60,
           58,
           57,
           57,
           51,
           48,
           47,
           47,
           46,
           42,
           41,
           39,
           35,
           34,
           34,
           33,
           32,
           32,
           32,
           31,
           31,
           29,
           29,
           27,
           26,
           25,
           21,
           21,
           21,
           20,
           18,
           16,
           16,
           15,
           15,
           14,
           13,
           13,
           13,
           13,
           13,
           12,
           12,
           12,
           12,
           10,
           10,
           10,
           10,
           10,
           9,
           9,
           8,
           8,
           8,
           7,
           7,
           7,
           7,
           7,
           6,
           6,
           6,
           5,
           5,
           5,
           5,
           5,
           4,
           4,
           4,
           4,
           4,
           4,
           4,
           4,
           4,
           4,
           3,
           3,
           3,
           3,
           3,
           3,
           3,
           3,
           2,
           2,
           2,
           2,
           2,
           2,
           1,
           1,
           1,
           1,
           1,
           1,
           1,
           1,
           1,
           1,
           1,
           1,
           1,
           1,
           1,
           1,
           1
          ],
          "sizemode": "area",
          "sizeref": 7.2425
         },
         "name": "",
         "showlegend": false,
         "type": "scattergeo"
        }
       ],
       "layout": {
        "coloraxis": {
         "colorbar": {
          "title": {
           "text": "frequency"
          }
         },
         "colorscale": [
          [
           0,
           "#0d0887"
          ],
          [
           0.1111111111111111,
           "#46039f"
          ],
          [
           0.2222222222222222,
           "#7201a8"
          ],
          [
           0.3333333333333333,
           "#9c179e"
          ],
          [
           0.4444444444444444,
           "#bd3786"
          ],
          [
           0.5555555555555556,
           "#d8576b"
          ],
          [
           0.6666666666666666,
           "#ed7953"
          ],
          [
           0.7777777777777778,
           "#fb9f3a"
          ],
          [
           0.8888888888888888,
           "#fdca26"
          ],
          [
           1,
           "#f0f921"
          ]
         ]
        },
        "geo": {
         "center": {},
         "domain": {
          "x": [
           0,
           0.98
          ],
          "y": [
           0,
           1
          ]
         },
         "projection": {
          "type": "natural earth"
         }
        },
        "height": 600,
        "legend": {
         "itemsizing": "constant",
         "tracegroupgap": 0
        },
        "margin": {
         "t": 60
        },
        "template": {
         "data": {
          "bar": [
           {
            "error_x": {
             "color": "#2a3f5f"
            },
            "error_y": {
             "color": "#2a3f5f"
            },
            "marker": {
             "line": {
              "color": "#E5ECF6",
              "width": 0.5
             }
            },
            "type": "bar"
           }
          ],
          "barpolar": [
           {
            "marker": {
             "line": {
              "color": "#E5ECF6",
              "width": 0.5
             }
            },
            "type": "barpolar"
           }
          ],
          "carpet": [
           {
            "aaxis": {
             "endlinecolor": "#2a3f5f",
             "gridcolor": "white",
             "linecolor": "white",
             "minorgridcolor": "white",
             "startlinecolor": "#2a3f5f"
            },
            "baxis": {
             "endlinecolor": "#2a3f5f",
             "gridcolor": "white",
             "linecolor": "white",
             "minorgridcolor": "white",
             "startlinecolor": "#2a3f5f"
            },
            "type": "carpet"
           }
          ],
          "choropleth": [
           {
            "colorbar": {
             "outlinewidth": 0,
             "ticks": ""
            },
            "type": "choropleth"
           }
          ],
          "contour": [
           {
            "colorbar": {
             "outlinewidth": 0,
             "ticks": ""
            },
            "colorscale": [
             [
              0,
              "#0d0887"
             ],
             [
              0.1111111111111111,
              "#46039f"
             ],
             [
              0.2222222222222222,
              "#7201a8"
             ],
             [
              0.3333333333333333,
              "#9c179e"
             ],
             [
              0.4444444444444444,
              "#bd3786"
             ],
             [
              0.5555555555555556,
              "#d8576b"
             ],
             [
              0.6666666666666666,
              "#ed7953"
             ],
             [
              0.7777777777777778,
              "#fb9f3a"
             ],
             [
              0.8888888888888888,
              "#fdca26"
             ],
             [
              1,
              "#f0f921"
             ]
            ],
            "type": "contour"
           }
          ],
          "contourcarpet": [
           {
            "colorbar": {
             "outlinewidth": 0,
             "ticks": ""
            },
            "type": "contourcarpet"
           }
          ],
          "heatmap": [
           {
            "colorbar": {
             "outlinewidth": 0,
             "ticks": ""
            },
            "colorscale": [
             [
              0,
              "#0d0887"
             ],
             [
              0.1111111111111111,
              "#46039f"
             ],
             [
              0.2222222222222222,
              "#7201a8"
             ],
             [
              0.3333333333333333,
              "#9c179e"
             ],
             [
              0.4444444444444444,
              "#bd3786"
             ],
             [
              0.5555555555555556,
              "#d8576b"
             ],
             [
              0.6666666666666666,
              "#ed7953"
             ],
             [
              0.7777777777777778,
              "#fb9f3a"
             ],
             [
              0.8888888888888888,
              "#fdca26"
             ],
             [
              1,
              "#f0f921"
             ]
            ],
            "type": "heatmap"
           }
          ],
          "heatmapgl": [
           {
            "colorbar": {
             "outlinewidth": 0,
             "ticks": ""
            },
            "colorscale": [
             [
              0,
              "#0d0887"
             ],
             [
              0.1111111111111111,
              "#46039f"
             ],
             [
              0.2222222222222222,
              "#7201a8"
             ],
             [
              0.3333333333333333,
              "#9c179e"
             ],
             [
              0.4444444444444444,
              "#bd3786"
             ],
             [
              0.5555555555555556,
              "#d8576b"
             ],
             [
              0.6666666666666666,
              "#ed7953"
             ],
             [
              0.7777777777777778,
              "#fb9f3a"
             ],
             [
              0.8888888888888888,
              "#fdca26"
             ],
             [
              1,
              "#f0f921"
             ]
            ],
            "type": "heatmapgl"
           }
          ],
          "histogram": [
           {
            "marker": {
             "colorbar": {
              "outlinewidth": 0,
              "ticks": ""
             }
            },
            "type": "histogram"
           }
          ],
          "histogram2d": [
           {
            "colorbar": {
             "outlinewidth": 0,
             "ticks": ""
            },
            "colorscale": [
             [
              0,
              "#0d0887"
             ],
             [
              0.1111111111111111,
              "#46039f"
             ],
             [
              0.2222222222222222,
              "#7201a8"
             ],
             [
              0.3333333333333333,
              "#9c179e"
             ],
             [
              0.4444444444444444,
              "#bd3786"
             ],
             [
              0.5555555555555556,
              "#d8576b"
             ],
             [
              0.6666666666666666,
              "#ed7953"
             ],
             [
              0.7777777777777778,
              "#fb9f3a"
             ],
             [
              0.8888888888888888,
              "#fdca26"
             ],
             [
              1,
              "#f0f921"
             ]
            ],
            "type": "histogram2d"
           }
          ],
          "histogram2dcontour": [
           {
            "colorbar": {
             "outlinewidth": 0,
             "ticks": ""
            },
            "colorscale": [
             [
              0,
              "#0d0887"
             ],
             [
              0.1111111111111111,
              "#46039f"
             ],
             [
              0.2222222222222222,
              "#7201a8"
             ],
             [
              0.3333333333333333,
              "#9c179e"
             ],
             [
              0.4444444444444444,
              "#bd3786"
             ],
             [
              0.5555555555555556,
              "#d8576b"
             ],
             [
              0.6666666666666666,
              "#ed7953"
             ],
             [
              0.7777777777777778,
              "#fb9f3a"
             ],
             [
              0.8888888888888888,
              "#fdca26"
             ],
             [
              1,
              "#f0f921"
             ]
            ],
            "type": "histogram2dcontour"
           }
          ],
          "mesh3d": [
           {
            "colorbar": {
             "outlinewidth": 0,
             "ticks": ""
            },
            "type": "mesh3d"
           }
          ],
          "parcoords": [
           {
            "line": {
             "colorbar": {
              "outlinewidth": 0,
              "ticks": ""
             }
            },
            "type": "parcoords"
           }
          ],
          "scatter": [
           {
            "marker": {
             "colorbar": {
              "outlinewidth": 0,
              "ticks": ""
             }
            },
            "type": "scatter"
           }
          ],
          "scatter3d": [
           {
            "line": {
             "colorbar": {
              "outlinewidth": 0,
              "ticks": ""
             }
            },
            "marker": {
             "colorbar": {
              "outlinewidth": 0,
              "ticks": ""
             }
            },
            "type": "scatter3d"
           }
          ],
          "scattercarpet": [
           {
            "marker": {
             "colorbar": {
              "outlinewidth": 0,
              "ticks": ""
             }
            },
            "type": "scattercarpet"
           }
          ],
          "scattergeo": [
           {
            "marker": {
             "colorbar": {
              "outlinewidth": 0,
              "ticks": ""
             }
            },
            "type": "scattergeo"
           }
          ],
          "scattergl": [
           {
            "marker": {
             "colorbar": {
              "outlinewidth": 0,
              "ticks": ""
             }
            },
            "type": "scattergl"
           }
          ],
          "scattermapbox": [
           {
            "marker": {
             "colorbar": {
              "outlinewidth": 0,
              "ticks": ""
             }
            },
            "type": "scattermapbox"
           }
          ],
          "scatterpolar": [
           {
            "marker": {
             "colorbar": {
              "outlinewidth": 0,
              "ticks": ""
             }
            },
            "type": "scatterpolar"
           }
          ],
          "scatterpolargl": [
           {
            "marker": {
             "colorbar": {
              "outlinewidth": 0,
              "ticks": ""
             }
            },
            "type": "scatterpolargl"
           }
          ],
          "scatterternary": [
           {
            "marker": {
             "colorbar": {
              "outlinewidth": 0,
              "ticks": ""
             }
            },
            "type": "scatterternary"
           }
          ],
          "surface": [
           {
            "colorbar": {
             "outlinewidth": 0,
             "ticks": ""
            },
            "colorscale": [
             [
              0,
              "#0d0887"
             ],
             [
              0.1111111111111111,
              "#46039f"
             ],
             [
              0.2222222222222222,
              "#7201a8"
             ],
             [
              0.3333333333333333,
              "#9c179e"
             ],
             [
              0.4444444444444444,
              "#bd3786"
             ],
             [
              0.5555555555555556,
              "#d8576b"
             ],
             [
              0.6666666666666666,
              "#ed7953"
             ],
             [
              0.7777777777777778,
              "#fb9f3a"
             ],
             [
              0.8888888888888888,
              "#fdca26"
             ],
             [
              1,
              "#f0f921"
             ]
            ],
            "type": "surface"
           }
          ],
          "table": [
           {
            "cells": {
             "fill": {
              "color": "#EBF0F8"
             },
             "line": {
              "color": "white"
             }
            },
            "header": {
             "fill": {
              "color": "#C8D4E3"
             },
             "line": {
              "color": "white"
             }
            },
            "type": "table"
           }
          ]
         },
         "layout": {
          "annotationdefaults": {
           "arrowcolor": "#2a3f5f",
           "arrowhead": 0,
           "arrowwidth": 1
          },
          "colorscale": {
           "diverging": [
            [
             0,
             "#8e0152"
            ],
            [
             0.1,
             "#c51b7d"
            ],
            [
             0.2,
             "#de77ae"
            ],
            [
             0.3,
             "#f1b6da"
            ],
            [
             0.4,
             "#fde0ef"
            ],
            [
             0.5,
             "#f7f7f7"
            ],
            [
             0.6,
             "#e6f5d0"
            ],
            [
             0.7,
             "#b8e186"
            ],
            [
             0.8,
             "#7fbc41"
            ],
            [
             0.9,
             "#4d9221"
            ],
            [
             1,
             "#276419"
            ]
           ],
           "sequential": [
            [
             0,
             "#0d0887"
            ],
            [
             0.1111111111111111,
             "#46039f"
            ],
            [
             0.2222222222222222,
             "#7201a8"
            ],
            [
             0.3333333333333333,
             "#9c179e"
            ],
            [
             0.4444444444444444,
             "#bd3786"
            ],
            [
             0.5555555555555556,
             "#d8576b"
            ],
            [
             0.6666666666666666,
             "#ed7953"
            ],
            [
             0.7777777777777778,
             "#fb9f3a"
            ],
            [
             0.8888888888888888,
             "#fdca26"
            ],
            [
             1,
             "#f0f921"
            ]
           ],
           "sequentialminus": [
            [
             0,
             "#0d0887"
            ],
            [
             0.1111111111111111,
             "#46039f"
            ],
            [
             0.2222222222222222,
             "#7201a8"
            ],
            [
             0.3333333333333333,
             "#9c179e"
            ],
            [
             0.4444444444444444,
             "#bd3786"
            ],
            [
             0.5555555555555556,
             "#d8576b"
            ],
            [
             0.6666666666666666,
             "#ed7953"
            ],
            [
             0.7777777777777778,
             "#fb9f3a"
            ],
            [
             0.8888888888888888,
             "#fdca26"
            ],
            [
             1,
             "#f0f921"
            ]
           ]
          },
          "colorway": [
           "#636efa",
           "#EF553B",
           "#00cc96",
           "#ab63fa",
           "#FFA15A",
           "#19d3f3",
           "#FF6692",
           "#B6E880",
           "#FF97FF",
           "#FECB52"
          ],
          "font": {
           "color": "#2a3f5f"
          },
          "geo": {
           "bgcolor": "white",
           "lakecolor": "white",
           "landcolor": "#E5ECF6",
           "showlakes": true,
           "showland": true,
           "subunitcolor": "white"
          },
          "hoverlabel": {
           "align": "left"
          },
          "hovermode": "closest",
          "mapbox": {
           "style": "light"
          },
          "paper_bgcolor": "white",
          "plot_bgcolor": "#E5ECF6",
          "polar": {
           "angularaxis": {
            "gridcolor": "white",
            "linecolor": "white",
            "ticks": ""
           },
           "bgcolor": "#E5ECF6",
           "radialaxis": {
            "gridcolor": "white",
            "linecolor": "white",
            "ticks": ""
           }
          },
          "scene": {
           "xaxis": {
            "backgroundcolor": "#E5ECF6",
            "gridcolor": "white",
            "gridwidth": 2,
            "linecolor": "white",
            "showbackground": true,
            "ticks": "",
            "zerolinecolor": "white"
           },
           "yaxis": {
            "backgroundcolor": "#E5ECF6",
            "gridcolor": "white",
            "gridwidth": 2,
            "linecolor": "white",
            "showbackground": true,
            "ticks": "",
            "zerolinecolor": "white"
           },
           "zaxis": {
            "backgroundcolor": "#E5ECF6",
            "gridcolor": "white",
            "gridwidth": 2,
            "linecolor": "white",
            "showbackground": true,
            "ticks": "",
            "zerolinecolor": "white"
           }
          },
          "shapedefaults": {
           "line": {
            "color": "#2a3f5f"
           }
          },
          "ternary": {
           "aaxis": {
            "gridcolor": "white",
            "linecolor": "white",
            "ticks": ""
           },
           "baxis": {
            "gridcolor": "white",
            "linecolor": "white",
            "ticks": ""
           },
           "bgcolor": "#E5ECF6",
           "caxis": {
            "gridcolor": "white",
            "linecolor": "white",
            "ticks": ""
           }
          },
          "title": {
           "x": 0.05
          },
          "xaxis": {
           "automargin": true,
           "gridcolor": "white",
           "linecolor": "white",
           "ticks": "",
           "zerolinecolor": "white",
           "zerolinewidth": 2
          },
          "yaxis": {
           "automargin": true,
           "gridcolor": "white",
           "linecolor": "white",
           "ticks": "",
           "zerolinecolor": "white",
           "zerolinewidth": 2
          }
         }
        }
       }
      },
      "text/html": [
       "<div>\n",
       "        \n",
       "        \n",
       "            <div id=\"44906c66-e903-463f-9149-1b38590f9605\" class=\"plotly-graph-div\" style=\"height:600px; width:100%;\"></div>\n",
       "            <script type=\"text/javascript\">\n",
       "                require([\"plotly\"], function(Plotly) {\n",
       "                    window.PLOTLYENV=window.PLOTLYENV || {};\n",
       "                    \n",
       "                if (document.getElementById(\"44906c66-e903-463f-9149-1b38590f9605\")) {\n",
       "                    Plotly.newPlot(\n",
       "                        '44906c66-e903-463f-9149-1b38590f9605',\n",
       "                        [{\"geo\": \"geo\", \"hoverlabel\": {\"namelength\": 0}, \"hovertemplate\": \"<b>%{hovertext}</b><br><br>frequency=%{marker.color}<br>iso_alpha=%{location}\", \"hovertext\": [\"United States\", \"India\", \"Germany\", \"United Kingdom\", \"Canada\", \"Brazil\", \"Australia\", \"Netherlands\", \"France\", \"Russian Federation\", \"Poland\", \"Spain\", \"Italy\", \"Switzerland\", \"Iran, Islamic Republic of\", \"Sweden\", \"Pakistan\", \"Turkey\", \"South Africa\", \"Mexico\", \"Denmark\", \"Israel\", \"Belgium\", \"Bangladesh\", \"Austria\", \"Greece\", \"Czechia\", \"Ukraine\", \"Norway\", \"Finland\", \"Indonesia\", \"Romania\", \"Argentina\", \"Bulgaria\", \"Portugal\", \"Nigeria\", \"Philippines\", \"Ireland\", \"New Zealand\", \"Japan\", \"China\", \"Hungary\", \"Chile\", \"Thailand\", \"Slovenia\", \"Malaysia\", \"Serbia\", \"Kenya\", \"Colombia\", \"Singapore\", \"Egypt\", \"Croatia\", \"Sri Lanka\", \"Lithuania\", \"Viet Nam\", \"Slovakia\", \"Taiwan, Province of China\", \"Hong Kong\", \"Nepal\", \"United Arab Emirates\", \"Latvia\", \"Korea, Republic of\", \"Tunisia\", \"Lebanon\", \"Estonia\", \"Belarus\", \"Morocco\", \"Saudi Arabia\", \"Costa Rica\", \"El Salvador\", \"Uruguay\", \"Uganda\", \"Ecuador\", \"Dominican Republic\", \"Peru\", \"Albania\", \"Algeria\", \"Ghana\", \"Cameroon\", \"Georgia\", \"Myanmar\", \"Tanzania, United Republic of\", \"Armenia\", \"Cambodia\", \"Jordan\", \"Guatemala\", \"Venezuela, Bolivarian Republic of\", \"Luxembourg\", \"C\\u00f4te d'Ivoire\", \"Cuba\", \"Bosnia and Herzegovina\", \"Mauritius\", \"North Macedonia\", \"Zimbabwe\", \"Qatar\", \"Cyprus\", \"Iceland\", \"Malta\", \"Montenegro\", \"Kazakhstan\", \"Syrian Arab Republic\", \"Paraguay\", \"Sudan\", \"Ethiopia\", \"Afghanistan\", \"Uzbekistan\", \"Mongolia\", \"Nicaragua\", \"Bolivia, Plurinational State of\", \"Libya\", \"Azerbaijan\", \"Panama\", \"Yemen\", \"Honduras\", \"Jamaica\", \"Kuwait\", \"Congo\", \"Trinidad and Tobago\", \"Haiti\", \"Namibia\", \"Madagascar\", \"Fiji\", \"Senegal\", \"Moldova, Republic of\", \"Iraq\", \"Guyana\", \"Botswana\", \"Malawi\", \"Mali\", \"Benin\", \"Togo\", \"Zambia\", \"Bhutan\", \"Guinea\", \"Kyrgyzstan\", \"Oman\", \"Korea, Democratic People's Republic of\", \"Djibouti\", \"Liberia\", \"Mauritania\", \"Bahrain\", \"Mozambique\"], \"legendgroup\": \"\", \"locations\": [\"USA\", \"IND\", \"DEU\", \"GBR\", \"CAN\", \"BRA\", \"AUS\", \"NLD\", \"FRA\", \"RUS\", \"POL\", \"ESP\", \"ITA\", \"CHE\", \"IRN\", \"SWE\", \"PAK\", \"TUR\", \"ZAF\", \"MEX\", \"DNK\", \"ISR\", \"BEL\", \"BGD\", \"AUT\", \"GRC\", \"CZE\", \"UKR\", \"NOR\", \"FIN\", \"IDN\", \"ROU\", \"ARG\", \"BGR\", \"PRT\", \"NGA\", \"PHL\", \"IRL\", \"NZL\", \"JPN\", \"CHN\", \"HUN\", \"CHL\", \"THA\", \"SVN\", \"MYS\", \"SRB\", \"KEN\", \"COL\", \"SGP\", \"EGY\", \"HRV\", \"LKA\", \"LTU\", \"VNM\", \"SVK\", \"TWN\", \"HKG\", \"NPL\", \"ARE\", \"LVA\", \"KOR\", \"TUN\", \"LBN\", \"EST\", \"BLR\", \"MAR\", \"SAU\", \"CRI\", \"SLV\", \"URY\", \"UGA\", \"ECU\", \"DOM\", \"PER\", \"ALB\", \"DZA\", \"GHA\", \"CMR\", \"GEO\", \"MMR\", \"TZA\", \"ARM\", \"KHM\", \"JOR\", \"GTM\", \"VEN\", \"LUX\", \"CIV\", \"CUB\", \"BIH\", \"MUS\", \"MKD\", \"ZWE\", \"QAT\", \"CYP\", \"ISL\", \"MLT\", \"MNE\", \"KAZ\", \"SYR\", \"PRY\", \"SDN\", \"ETH\", \"AFG\", \"UZB\", \"MNG\", \"NIC\", \"BOL\", \"LBY\", \"AZE\", \"PAN\", \"YEM\", \"HND\", \"JAM\", \"KWT\", \"COG\", \"TTO\", \"HTI\", \"NAM\", \"MDG\", \"FJI\", \"SEN\", \"MDA\", \"IRQ\", \"GUY\", \"BWA\", \"MWI\", \"MLI\", \"BEN\", \"TGO\", \"ZMB\", \"BTN\", \"GIN\", \"KGZ\", \"OMN\", \"PRK\", \"DJI\", \"LBR\", \"MRT\", \"BHR\", \"MOZ\"], \"marker\": {\"color\": [2897, 972, 675, 626, 387, 254, 251, 237, 227, 197, 190, 185, 172, 149, 123, 120, 118, 111, 107, 103, 95, 94, 85, 82, 81, 77, 76, 72, 69, 67, 65, 62, 61, 60, 58, 57, 57, 51, 48, 47, 47, 46, 42, 41, 39, 35, 34, 34, 33, 32, 32, 32, 31, 31, 29, 29, 27, 26, 25, 21, 21, 21, 20, 18, 16, 16, 15, 15, 14, 13, 13, 13, 13, 13, 12, 12, 12, 12, 10, 10, 10, 10, 10, 9, 9, 8, 8, 8, 7, 7, 7, 7, 7, 6, 6, 6, 5, 5, 5, 5, 5, 4, 4, 4, 4, 4, 4, 4, 4, 4, 4, 3, 3, 3, 3, 3, 3, 3, 3, 2, 2, 2, 2, 2, 2, 1, 1, 1, 1, 1, 1, 1, 1, 1, 1, 1, 1, 1, 1, 1, 1, 1], \"coloraxis\": \"coloraxis\", \"size\": [2897, 972, 675, 626, 387, 254, 251, 237, 227, 197, 190, 185, 172, 149, 123, 120, 118, 111, 107, 103, 95, 94, 85, 82, 81, 77, 76, 72, 69, 67, 65, 62, 61, 60, 58, 57, 57, 51, 48, 47, 47, 46, 42, 41, 39, 35, 34, 34, 33, 32, 32, 32, 31, 31, 29, 29, 27, 26, 25, 21, 21, 21, 20, 18, 16, 16, 15, 15, 14, 13, 13, 13, 13, 13, 12, 12, 12, 12, 10, 10, 10, 10, 10, 9, 9, 8, 8, 8, 7, 7, 7, 7, 7, 6, 6, 6, 5, 5, 5, 5, 5, 4, 4, 4, 4, 4, 4, 4, 4, 4, 4, 3, 3, 3, 3, 3, 3, 3, 3, 2, 2, 2, 2, 2, 2, 1, 1, 1, 1, 1, 1, 1, 1, 1, 1, 1, 1, 1, 1, 1, 1, 1], \"sizemode\": \"area\", \"sizeref\": 7.2425}, \"name\": \"\", \"showlegend\": false, \"type\": \"scattergeo\"}],\n",
       "                        {\"coloraxis\": {\"colorbar\": {\"title\": {\"text\": \"frequency\"}}, \"colorscale\": [[0.0, \"#0d0887\"], [0.1111111111111111, \"#46039f\"], [0.2222222222222222, \"#7201a8\"], [0.3333333333333333, \"#9c179e\"], [0.4444444444444444, \"#bd3786\"], [0.5555555555555556, \"#d8576b\"], [0.6666666666666666, \"#ed7953\"], [0.7777777777777778, \"#fb9f3a\"], [0.8888888888888888, \"#fdca26\"], [1.0, \"#f0f921\"]]}, \"geo\": {\"center\": {}, \"domain\": {\"x\": [0.0, 0.98], \"y\": [0.0, 1.0]}, \"projection\": {\"type\": \"natural earth\"}}, \"height\": 600, \"legend\": {\"itemsizing\": \"constant\", \"tracegroupgap\": 0}, \"margin\": {\"t\": 60}, \"template\": {\"data\": {\"bar\": [{\"error_x\": {\"color\": \"#2a3f5f\"}, \"error_y\": {\"color\": \"#2a3f5f\"}, \"marker\": {\"line\": {\"color\": \"#E5ECF6\", \"width\": 0.5}}, \"type\": \"bar\"}], \"barpolar\": [{\"marker\": {\"line\": {\"color\": \"#E5ECF6\", \"width\": 0.5}}, \"type\": \"barpolar\"}], \"carpet\": [{\"aaxis\": {\"endlinecolor\": \"#2a3f5f\", \"gridcolor\": \"white\", \"linecolor\": \"white\", \"minorgridcolor\": \"white\", \"startlinecolor\": \"#2a3f5f\"}, \"baxis\": {\"endlinecolor\": \"#2a3f5f\", \"gridcolor\": \"white\", \"linecolor\": \"white\", \"minorgridcolor\": \"white\", \"startlinecolor\": \"#2a3f5f\"}, \"type\": \"carpet\"}], \"choropleth\": [{\"colorbar\": {\"outlinewidth\": 0, \"ticks\": \"\"}, \"type\": \"choropleth\"}], \"contour\": [{\"colorbar\": {\"outlinewidth\": 0, \"ticks\": \"\"}, \"colorscale\": [[0.0, \"#0d0887\"], [0.1111111111111111, \"#46039f\"], [0.2222222222222222, \"#7201a8\"], [0.3333333333333333, \"#9c179e\"], [0.4444444444444444, \"#bd3786\"], [0.5555555555555556, \"#d8576b\"], [0.6666666666666666, \"#ed7953\"], [0.7777777777777778, \"#fb9f3a\"], [0.8888888888888888, \"#fdca26\"], [1.0, \"#f0f921\"]], \"type\": \"contour\"}], \"contourcarpet\": [{\"colorbar\": {\"outlinewidth\": 0, \"ticks\": \"\"}, \"type\": \"contourcarpet\"}], \"heatmap\": [{\"colorbar\": {\"outlinewidth\": 0, \"ticks\": \"\"}, \"colorscale\": [[0.0, \"#0d0887\"], [0.1111111111111111, \"#46039f\"], [0.2222222222222222, \"#7201a8\"], [0.3333333333333333, \"#9c179e\"], [0.4444444444444444, \"#bd3786\"], [0.5555555555555556, \"#d8576b\"], [0.6666666666666666, \"#ed7953\"], [0.7777777777777778, \"#fb9f3a\"], [0.8888888888888888, \"#fdca26\"], [1.0, \"#f0f921\"]], \"type\": \"heatmap\"}], \"heatmapgl\": [{\"colorbar\": {\"outlinewidth\": 0, \"ticks\": \"\"}, \"colorscale\": [[0.0, \"#0d0887\"], [0.1111111111111111, \"#46039f\"], [0.2222222222222222, \"#7201a8\"], [0.3333333333333333, \"#9c179e\"], [0.4444444444444444, \"#bd3786\"], [0.5555555555555556, \"#d8576b\"], [0.6666666666666666, \"#ed7953\"], [0.7777777777777778, \"#fb9f3a\"], [0.8888888888888888, \"#fdca26\"], [1.0, \"#f0f921\"]], \"type\": \"heatmapgl\"}], \"histogram\": [{\"marker\": {\"colorbar\": {\"outlinewidth\": 0, \"ticks\": \"\"}}, \"type\": \"histogram\"}], \"histogram2d\": [{\"colorbar\": {\"outlinewidth\": 0, \"ticks\": \"\"}, \"colorscale\": [[0.0, \"#0d0887\"], [0.1111111111111111, \"#46039f\"], [0.2222222222222222, \"#7201a8\"], [0.3333333333333333, \"#9c179e\"], [0.4444444444444444, \"#bd3786\"], [0.5555555555555556, \"#d8576b\"], [0.6666666666666666, \"#ed7953\"], [0.7777777777777778, \"#fb9f3a\"], [0.8888888888888888, \"#fdca26\"], [1.0, \"#f0f921\"]], \"type\": \"histogram2d\"}], \"histogram2dcontour\": [{\"colorbar\": {\"outlinewidth\": 0, \"ticks\": \"\"}, \"colorscale\": [[0.0, \"#0d0887\"], [0.1111111111111111, \"#46039f\"], [0.2222222222222222, \"#7201a8\"], [0.3333333333333333, \"#9c179e\"], [0.4444444444444444, \"#bd3786\"], [0.5555555555555556, \"#d8576b\"], [0.6666666666666666, \"#ed7953\"], [0.7777777777777778, \"#fb9f3a\"], [0.8888888888888888, \"#fdca26\"], [1.0, \"#f0f921\"]], \"type\": \"histogram2dcontour\"}], \"mesh3d\": [{\"colorbar\": {\"outlinewidth\": 0, \"ticks\": \"\"}, \"type\": \"mesh3d\"}], \"parcoords\": [{\"line\": {\"colorbar\": {\"outlinewidth\": 0, \"ticks\": \"\"}}, \"type\": \"parcoords\"}], \"scatter\": [{\"marker\": {\"colorbar\": {\"outlinewidth\": 0, \"ticks\": \"\"}}, \"type\": \"scatter\"}], \"scatter3d\": [{\"line\": {\"colorbar\": {\"outlinewidth\": 0, \"ticks\": \"\"}}, \"marker\": {\"colorbar\": {\"outlinewidth\": 0, \"ticks\": \"\"}}, \"type\": \"scatter3d\"}], \"scattercarpet\": [{\"marker\": {\"colorbar\": {\"outlinewidth\": 0, \"ticks\": \"\"}}, \"type\": \"scattercarpet\"}], \"scattergeo\": [{\"marker\": {\"colorbar\": {\"outlinewidth\": 0, \"ticks\": \"\"}}, \"type\": \"scattergeo\"}], \"scattergl\": [{\"marker\": {\"colorbar\": {\"outlinewidth\": 0, \"ticks\": \"\"}}, \"type\": \"scattergl\"}], \"scattermapbox\": [{\"marker\": {\"colorbar\": {\"outlinewidth\": 0, \"ticks\": \"\"}}, \"type\": \"scattermapbox\"}], \"scatterpolar\": [{\"marker\": {\"colorbar\": {\"outlinewidth\": 0, \"ticks\": \"\"}}, \"type\": \"scatterpolar\"}], \"scatterpolargl\": [{\"marker\": {\"colorbar\": {\"outlinewidth\": 0, \"ticks\": \"\"}}, \"type\": \"scatterpolargl\"}], \"scatterternary\": [{\"marker\": {\"colorbar\": {\"outlinewidth\": 0, \"ticks\": \"\"}}, \"type\": \"scatterternary\"}], \"surface\": [{\"colorbar\": {\"outlinewidth\": 0, \"ticks\": \"\"}, \"colorscale\": [[0.0, \"#0d0887\"], [0.1111111111111111, \"#46039f\"], [0.2222222222222222, \"#7201a8\"], [0.3333333333333333, \"#9c179e\"], [0.4444444444444444, \"#bd3786\"], [0.5555555555555556, \"#d8576b\"], [0.6666666666666666, \"#ed7953\"], [0.7777777777777778, \"#fb9f3a\"], [0.8888888888888888, \"#fdca26\"], [1.0, \"#f0f921\"]], \"type\": \"surface\"}], \"table\": [{\"cells\": {\"fill\": {\"color\": \"#EBF0F8\"}, \"line\": {\"color\": \"white\"}}, \"header\": {\"fill\": {\"color\": \"#C8D4E3\"}, \"line\": {\"color\": \"white\"}}, \"type\": \"table\"}]}, \"layout\": {\"annotationdefaults\": {\"arrowcolor\": \"#2a3f5f\", \"arrowhead\": 0, \"arrowwidth\": 1}, \"colorscale\": {\"diverging\": [[0, \"#8e0152\"], [0.1, \"#c51b7d\"], [0.2, \"#de77ae\"], [0.3, \"#f1b6da\"], [0.4, \"#fde0ef\"], [0.5, \"#f7f7f7\"], [0.6, \"#e6f5d0\"], [0.7, \"#b8e186\"], [0.8, \"#7fbc41\"], [0.9, \"#4d9221\"], [1, \"#276419\"]], \"sequential\": [[0.0, \"#0d0887\"], [0.1111111111111111, \"#46039f\"], [0.2222222222222222, \"#7201a8\"], [0.3333333333333333, \"#9c179e\"], [0.4444444444444444, \"#bd3786\"], [0.5555555555555556, \"#d8576b\"], [0.6666666666666666, \"#ed7953\"], [0.7777777777777778, \"#fb9f3a\"], [0.8888888888888888, \"#fdca26\"], [1.0, \"#f0f921\"]], \"sequentialminus\": [[0.0, \"#0d0887\"], [0.1111111111111111, \"#46039f\"], [0.2222222222222222, \"#7201a8\"], [0.3333333333333333, \"#9c179e\"], [0.4444444444444444, \"#bd3786\"], [0.5555555555555556, \"#d8576b\"], [0.6666666666666666, \"#ed7953\"], [0.7777777777777778, \"#fb9f3a\"], [0.8888888888888888, \"#fdca26\"], [1.0, \"#f0f921\"]]}, \"colorway\": [\"#636efa\", \"#EF553B\", \"#00cc96\", \"#ab63fa\", \"#FFA15A\", \"#19d3f3\", \"#FF6692\", \"#B6E880\", \"#FF97FF\", \"#FECB52\"], \"font\": {\"color\": \"#2a3f5f\"}, \"geo\": {\"bgcolor\": \"white\", \"lakecolor\": \"white\", \"landcolor\": \"#E5ECF6\", \"showlakes\": true, \"showland\": true, \"subunitcolor\": \"white\"}, \"hoverlabel\": {\"align\": \"left\"}, \"hovermode\": \"closest\", \"mapbox\": {\"style\": \"light\"}, \"paper_bgcolor\": \"white\", \"plot_bgcolor\": \"#E5ECF6\", \"polar\": {\"angularaxis\": {\"gridcolor\": \"white\", \"linecolor\": \"white\", \"ticks\": \"\"}, \"bgcolor\": \"#E5ECF6\", \"radialaxis\": {\"gridcolor\": \"white\", \"linecolor\": \"white\", \"ticks\": \"\"}}, \"scene\": {\"xaxis\": {\"backgroundcolor\": \"#E5ECF6\", \"gridcolor\": \"white\", \"gridwidth\": 2, \"linecolor\": \"white\", \"showbackground\": true, \"ticks\": \"\", \"zerolinecolor\": \"white\"}, \"yaxis\": {\"backgroundcolor\": \"#E5ECF6\", \"gridcolor\": \"white\", \"gridwidth\": 2, \"linecolor\": \"white\", \"showbackground\": true, \"ticks\": \"\", \"zerolinecolor\": \"white\"}, \"zaxis\": {\"backgroundcolor\": \"#E5ECF6\", \"gridcolor\": \"white\", \"gridwidth\": 2, \"linecolor\": \"white\", \"showbackground\": true, \"ticks\": \"\", \"zerolinecolor\": \"white\"}}, \"shapedefaults\": {\"line\": {\"color\": \"#2a3f5f\"}}, \"ternary\": {\"aaxis\": {\"gridcolor\": \"white\", \"linecolor\": \"white\", \"ticks\": \"\"}, \"baxis\": {\"gridcolor\": \"white\", \"linecolor\": \"white\", \"ticks\": \"\"}, \"bgcolor\": \"#E5ECF6\", \"caxis\": {\"gridcolor\": \"white\", \"linecolor\": \"white\", \"ticks\": \"\"}}, \"title\": {\"x\": 0.05}, \"xaxis\": {\"automargin\": true, \"gridcolor\": \"white\", \"linecolor\": \"white\", \"ticks\": \"\", \"zerolinecolor\": \"white\", \"zerolinewidth\": 2}, \"yaxis\": {\"automargin\": true, \"gridcolor\": \"white\", \"linecolor\": \"white\", \"ticks\": \"\", \"zerolinecolor\": \"white\", \"zerolinewidth\": 2}}}},\n",
       "                        {\"responsive\": true}\n",
       "                    ).then(function(){\n",
       "                            \n",
       "var gd = document.getElementById('44906c66-e903-463f-9149-1b38590f9605');\n",
       "var x = new MutationObserver(function (mutations, observer) {{\n",
       "        var display = window.getComputedStyle(gd).display;\n",
       "        if (!display || display === 'none') {{\n",
       "            console.log([gd, 'removed!']);\n",
       "            Plotly.purge(gd);\n",
       "            observer.disconnect();\n",
       "        }}\n",
       "}});\n",
       "\n",
       "// Listen for the removal of the full notebook cells\n",
       "var notebookContainer = gd.closest('#notebook-container');\n",
       "if (notebookContainer) {{\n",
       "    x.observe(notebookContainer, {childList: true});\n",
       "}}\n",
       "\n",
       "// Listen for the clearing of the current output cell\n",
       "var outputEl = gd.closest('.output');\n",
       "if (outputEl) {{\n",
       "    x.observe(outputEl, {childList: true});\n",
       "}}\n",
       "\n",
       "                        })\n",
       "                };\n",
       "                });\n",
       "            </script>\n",
       "        </div>"
      ]
     },
     "metadata": {},
     "output_type": "display_data"
    }
   ],
   "source": [
    "fig = px.scatter_geo(countries_plot_2, locations=\"iso_alpha\",\n",
    "                     hover_name=\"countries\", size=\"frequency\", color=\"frequency\",\n",
    "                     projection=\"natural earth\")\n",
    "fig.show()"
   ]
  },
  {
   "cell_type": "markdown",
   "metadata": {},
   "source": [
    "Our maps indicates that survey participant's come primarily from the **US, Canada, Western Europe, India, and Australia**. Participation from Central America, South America, and Africa is minor."
   ]
  },
  {
   "cell_type": "markdown",
   "metadata": {},
   "source": [
    "#### Montly Stack Overflow Visits"
   ]
  },
  {
   "cell_type": "markdown",
   "metadata": {},
   "source": [
    "We don't have access to the number of visits by country in the survey. Nonetheless, participant did report how often they visit Stack Overflow."
   ]
  },
  {
   "cell_type": "code",
   "execution_count": 226,
   "metadata": {},
   "outputs": [
    {
     "data": {
      "image/png": "[encoded data removed]",
      "text/plain": [
       "<Figure size 432x288 with 1 Axes>"
      ]
     },
     "metadata": {
      "needs_background": "light"
     },
     "output_type": "display_data"
    }
   ],
   "source": [
    "bar_plot_percent('SOVisitFreq', 'barh', 'Stack OverFlow Visits %', sort=True);"
   ]
  },
  {
   "cell_type": "code",
   "execution_count": 122,
   "metadata": {},
   "outputs": [
    {
     "data": {
      "text/plain": [
       "Multiple times per day                                30.97\n",
       "Daily or almost daily                                 30.23\n",
       "A few times per week                                  22.65\n",
       "A few times per month or weekly                       12.26\n",
       "Less than once per month or monthly                    2.99\n",
       "I have never visited Stack Overflow (before today)     0.89\n",
       "Name: SOVisitFreq, dtype: float64"
      ]
     },
     "execution_count": 122,
     "metadata": {},
     "output_type": "execute_result"
    }
   ],
   "source": [
    "get_percent('SOVisitFreq')"
   ]
  },
  {
   "cell_type": "markdown",
   "metadata": {},
   "source": [
    "Around **61% of participants report visiting Stack Overflow every day**. This is hardly surprising since is the Stack Overflow survey!"
   ]
  },
  {
   "cell_type": "markdown",
   "metadata": {},
   "source": [
    "### Data Scientist Role"
   ]
  },
  {
   "cell_type": "markdown",
   "metadata": {},
   "source": [
    "#### Contributing to Open Source"
   ]
  },
  {
   "cell_type": "code",
   "execution_count": 224,
   "metadata": {},
   "outputs": [
    {
     "data": {
      "image/png": "[encoded data removed]",
      "text/plain": [
       "<Figure size 432x288 with 1 Axes>"
      ]
     },
     "metadata": {
      "needs_background": "light"
     },
     "output_type": "display_data"
    }
   ],
   "source": [
    "bar_plot_percent('OpenSourcer', 'barh', 'Contributing to Open Source %', sort=True);"
   ]
  },
  {
   "cell_type": "code",
   "execution_count": 124,
   "metadata": {},
   "outputs": [
    {
     "data": {
      "text/plain": [
       "Never                                                 34.09\n",
       "Less than once per year                               28.88\n",
       "Less than once a month but more than once per year    23.66\n",
       "Once a month or more often                            13.37\n",
       "Name: OpenSourcer, dtype: float64"
      ]
     },
     "execution_count": 124,
     "metadata": {},
     "output_type": "execute_result"
    }
   ],
   "source": [
    "get_percent('OpenSourcer')"
   ]
  },
  {
   "cell_type": "markdown",
   "metadata": {},
   "source": [
    "Over **~37% of Data Scientists report to contribute to open source more than once per year**, and **13.37% once a month or more often**. This percentages are remarkably similar to the numbers for the whole developers sample reported by Stack Overflow (~25% and ~12% respectively)"
   ]
  },
  {
   "cell_type": "markdown",
   "metadata": {},
   "source": [
    "#### Coding as a Hobby"
   ]
  },
  {
   "cell_type": "code",
   "execution_count": 125,
   "metadata": {},
   "outputs": [
    {
     "data": {
      "image/png": "[encoded data removed]",
      "text/plain": [
       "<Figure size 432x288 with 1 Axes>"
      ]
     },
     "metadata": {
      "needs_background": "light"
     },
     "output_type": "display_data"
    }
   ],
   "source": [
    "bar_plot_percent('Hobbyist', 'barh', 'Coding as a Hobby %', sort=True);"
   ]
  },
  {
   "cell_type": "code",
   "execution_count": 126,
   "metadata": {},
   "outputs": [
    {
     "data": {
      "text/plain": [
       "Yes    81.49\n",
       "No     18.51\n",
       "Name: Hobbyist, dtype: float64"
      ]
     },
     "execution_count": 126,
     "metadata": {},
     "output_type": "execute_result"
    }
   ],
   "source": [
    "get_percent('Hobbyist')"
   ]
  },
  {
   "cell_type": "markdown",
   "metadata": {},
   "source": [
    "**~81% of Data Scientists report to code as a hobby**, again very close to the ~80% from the whole developer's sample. "
   ]
  },
  {
   "cell_type": "markdown",
   "metadata": {},
   "source": [
    "### Experience"
   ]
  },
  {
   "cell_type": "markdown",
   "metadata": {},
   "source": [
    "#### Years Since Learning to Code"
   ]
  },
  {
   "cell_type": "markdown",
   "metadata": {},
   "source": [
    "Here we have an interesting problem. There is a **mix of intergers and strings types**. Casting everything to numerical won't work, unless we handle the non-numerical values firts. I'll map *'Less than 1 year'* to 1 and *'More than 50 years'* to 51.This will work for us since we will partition the data into broader groups later."
   ]
  },
  {
   "cell_type": "code",
   "execution_count": 127,
   "metadata": {},
   "outputs": [
    {
     "data": {
      "text/plain": [
       "array(['13', '12', '5', '17', '10', '35', '6', '8', '4', '25', '1', '30',\n",
       "       '3', '7', '41', '16', '20', '22', '18', '23', '21', '19', '14',\n",
       "       '32', '27', '2', '9', '15', '40', '33', '11', '26',\n",
       "       'Less than 1 year', '24', '37', nan, '28', '34', '29', '36', '45',\n",
       "       '46', '31', '38', 'More than 50 years', '48', '39', '42', '50',\n",
       "       '47', '43', '44', '49'], dtype=object)"
      ]
     },
     "execution_count": 127,
     "metadata": {},
     "output_type": "execute_result"
    }
   ],
   "source": [
    "df_ds.YearsCode.unique()"
   ]
  },
  {
   "cell_type": "code",
   "execution_count": 128,
   "metadata": {},
   "outputs": [],
   "source": [
    "df_ds.YearsCode.replace({'Less than 1 year': 1, 'More than 50 years': 51}, inplace=True)"
   ]
  },
  {
   "cell_type": "markdown",
   "metadata": {},
   "source": [
    "We cast everything to float to create the age ranges with conditional logic"
   ]
  },
  {
   "cell_type": "code",
   "execution_count": 129,
   "metadata": {},
   "outputs": [],
   "source": [
    "df_ds.YearsCode = df_ds.YearsCode.astype('float64')"
   ]
  },
  {
   "cell_type": "code",
   "execution_count": 130,
   "metadata": {},
   "outputs": [],
   "source": [
    "conditions_years = [\n",
    "    (df_ds['YearsCode'] < 5),\n",
    "    (df_ds['YearsCode'] >= 5) & (df_ds['YearsCode'] <= 9),\n",
    "    (df_ds['YearsCode'] >= 10) & (df_ds['YearsCode'] <= 14),\n",
    "    (df_ds['YearsCode'] >= 15) & (df_ds['YearsCode'] <= 19),\n",
    "    (df_ds['YearsCode'] >= 20) & (df_ds['YearsCode'] <= 24),\n",
    "    (df_ds['YearsCode'] >= 25) & (df_ds['YearsCode'] <= 29),\n",
    "    (df_ds['YearsCode'] >= 30) & (df_ds['YearsCode'] <= 34),\n",
    "    (df_ds['YearsCode'] >= 35) & (df_ds['YearsCode'] <= 39),\n",
    "    (df_ds['YearsCode'] >= 40) & (df_ds['YearsCode'] <= 44),\n",
    "    (df_ds['YearsCode'] >= 45) & (df_ds['YearsCode'] <= 49),\n",
    "    (df_ds['YearsCode'] >= 50)\n",
    "    ]\n",
    "\n",
    "categories_years = [\n",
    "    '5 years or less', '5 to 9 years', '10 to 14 years', '15 to 19 years',\n",
    "    '20 to 24 years', '25 to 29 years', '30 to 34 years', '35 to 39 years', \n",
    "    '40 to 44 years', '45 to 49 years', '50 years or more'\n",
    "    ]\n",
    "\n",
    "df_ds['YearsCodeR'] = np.select(conditions_years, categories_years)"
   ]
  },
  {
   "cell_type": "markdown",
   "metadata": {},
   "source": [
    "A bunch of zeros will be generated, so we will replace those witn NaN values before ploting"
   ]
  },
  {
   "cell_type": "code",
   "execution_count": 131,
   "metadata": {},
   "outputs": [],
   "source": [
    "df_ds.YearsCodeR.replace({'0': np.nan}, inplace=True)"
   ]
  },
  {
   "cell_type": "markdown",
   "metadata": {},
   "source": [
    "We then obtain the following"
   ]
  },
  {
   "cell_type": "code",
   "execution_count": 132,
   "metadata": {},
   "outputs": [
    {
     "data": {
      "image/png": "[encoded data removed]",
      "text/plain": [
       "<Figure size 432x288 with 1 Axes>"
      ]
     },
     "metadata": {
      "needs_background": "light"
     },
     "output_type": "display_data"
    }
   ],
   "source": [
    "bar_plot_percent('YearsCodeR', 'barh', 'Years Since Learning to Code %', order=categories_years);"
   ]
  },
  {
   "cell_type": "code",
   "execution_count": 133,
   "metadata": {},
   "outputs": [
    {
     "data": {
      "text/plain": [
       "5 to 9 years        28.38\n",
       "10 to 14 years      19.18\n",
       "5 years or less     18.58\n",
       "15 to 19 years      11.27\n",
       "20 to 24 years       8.42\n",
       "30 to 34 years       4.52\n",
       "25 to 29 years       4.49\n",
       "35 to 39 years       3.15\n",
       "40 to 44 years       1.36\n",
       "45 to 49 years       0.40\n",
       "50 years or more     0.25\n",
       "Name: YearsCodeR, dtype: float64"
      ]
     },
     "execution_count": 133,
     "metadata": {},
     "output_type": "execute_result"
    }
   ],
   "source": [
    "get_percent('YearsCodeR')"
   ]
  },
  {
   "cell_type": "markdown",
   "metadata": {},
   "source": [
    "The pattern of years since learning to code is basically identical to the one reported by all developers. Is often said that it has been an explotion in Data Science interest in the last decade or so. **~47% of Data Scientists report having learned to code in the last 9 years**, which is slightly less than the ~51% for all developers."
   ]
  },
  {
   "cell_type": "markdown",
   "metadata": {},
   "source": [
    "#### Years Coding Professionally"
   ]
  },
  {
   "cell_type": "markdown",
   "metadata": {},
   "source": [
    "Years coding professionlly has the same issues found in Years Coding, so we will repeat the steps."
   ]
  },
  {
   "cell_type": "code",
   "execution_count": 134,
   "metadata": {},
   "outputs": [
    {
     "data": {
      "text/plain": [
       "array(['3', '10', nan, '8', '18', '5', '13', '1', '25', '2', '6', '4',\n",
       "       '35', '11', '7', '20', '9', '16', '21', '30', 'Less than 1 year',\n",
       "       '17', '15', '19', '37', '12', '23', '40', '22', '29', '24', '45',\n",
       "       '32', '14', '43', '34', 'More than 50 years', '26', '33', '44',\n",
       "       '36', '28', '27', '31', '50', '42', '39', '38', '41', '46', '47'],\n",
       "      dtype=object)"
      ]
     },
     "execution_count": 134,
     "metadata": {},
     "output_type": "execute_result"
    }
   ],
   "source": [
    "df_ds.YearsCodePro.unique()"
   ]
  },
  {
   "cell_type": "code",
   "execution_count": 135,
   "metadata": {},
   "outputs": [],
   "source": [
    "df_ds.YearsCodePro.replace({'Less than 1 year': 1, 'More than 50 years': 51}, inplace=True)"
   ]
  },
  {
   "cell_type": "code",
   "execution_count": 136,
   "metadata": {},
   "outputs": [],
   "source": [
    "df_ds.YearsCodePro = df_ds.YearsCodePro.astype('float64')"
   ]
  },
  {
   "cell_type": "code",
   "execution_count": 137,
   "metadata": {},
   "outputs": [],
   "source": [
    "df_ds['YearsCodeProR'] = np.select(conditions_years, categories_years)"
   ]
  },
  {
   "cell_type": "code",
   "execution_count": 138,
   "metadata": {},
   "outputs": [],
   "source": [
    "df_ds.YearsCodeProR.replace({'0': np.nan}, inplace=True)"
   ]
  },
  {
   "cell_type": "code",
   "execution_count": 139,
   "metadata": {},
   "outputs": [
    {
     "data": {
      "image/png": "[encoded data removed]",
      "text/plain": [
       "<Figure size 432x288 with 1 Axes>"
      ]
     },
     "metadata": {
      "needs_background": "light"
     },
     "output_type": "display_data"
    }
   ],
   "source": [
    "bar_plot_percent('YearsCodeProR', 'barh', 'Years Since Coding Profesionally %', order=categories_years);"
   ]
  },
  {
   "cell_type": "code",
   "execution_count": 140,
   "metadata": {},
   "outputs": [
    {
     "data": {
      "text/plain": [
       "5 to 9 years        28.38\n",
       "10 to 14 years      19.18\n",
       "5 years or less     18.58\n",
       "15 to 19 years      11.27\n",
       "20 to 24 years       8.42\n",
       "30 to 34 years       4.52\n",
       "25 to 29 years       4.49\n",
       "35 to 39 years       3.15\n",
       "40 to 44 years       1.36\n",
       "45 to 49 years       0.40\n",
       "50 years or more     0.25\n",
       "Name: YearsCodeProR, dtype: float64"
      ]
     },
     "execution_count": 140,
     "metadata": {},
     "output_type": "execute_result"
    }
   ],
   "source": [
    "get_percent('YearsCodeProR')"
   ]
  },
  {
   "cell_type": "markdown",
   "metadata": {},
   "source": [
    "Here we found an interesting patter. **Only ~18% of Data Scientists report less than 5 years of coding professionally**. This number is **~41% for all developers**. This may be an indication of many things: a bias in age group respondent in Data Scientists (older), maybe catalized by the need for additional years of training before entering the industry; or maybe is just the cycle of recruitment of new Data Scientists is slower than for developers in general. Many options."
   ]
  },
  {
   "cell_type": "markdown",
   "metadata": {},
   "source": [
    "#### Writing That First Line of Code"
   ]
  },
  {
   "cell_type": "markdown",
   "metadata": {},
   "source": [
    "Here we have the same problems as in the previous cases, so we will repeat the steps again. One caveat is that now we need to redefine age ranges (i.e., change conditions and categories)"
   ]
  },
  {
   "cell_type": "code",
   "execution_count": 141,
   "metadata": {},
   "outputs": [
    {
     "data": {
      "text/plain": [
       "array(['15', '20', '16', '11', '18', '12', '9', '14', '7', nan, '10',\n",
       "       '17', '19', '13', '33', '22', '30', 'Younger than 5 years', '24',\n",
       "       '8', '21', '26', '5', '23', '25', '6', '29', '31', '28', '34',\n",
       "       '32', '35', '27', 'Older than 85', '50', '43', '56', '45', '36',\n",
       "       '79', '39', '40', '42', '37', '65', '38', '41', '51', '61', '44'],\n",
       "      dtype=object)"
      ]
     },
     "execution_count": 141,
     "metadata": {},
     "output_type": "execute_result"
    }
   ],
   "source": [
    "df_ds.Age1stCode.unique()"
   ]
  },
  {
   "cell_type": "code",
   "execution_count": 142,
   "metadata": {},
   "outputs": [],
   "source": [
    "df_ds.Age1stCode.replace({'Younger than 5 years': 4, 'Older than 85': 86}, inplace=True)"
   ]
  },
  {
   "cell_type": "code",
   "execution_count": 143,
   "metadata": {},
   "outputs": [],
   "source": [
    "df_ds.Age1stCode = df_ds.Age1stCode.astype('float64')"
   ]
  },
  {
   "cell_type": "code",
   "execution_count": 144,
   "metadata": {},
   "outputs": [],
   "source": [
    "conditions_age = [\n",
    "    (df_ds['Age1stCode'] < 10),\n",
    "    (df_ds['Age1stCode'] >= 10) & (df_ds['Age1stCode'] <= 11),\n",
    "    (df_ds['Age1stCode'] >= 12) & (df_ds['Age1stCode'] <= 13),\n",
    "    (df_ds['Age1stCode'] >= 14) & (df_ds['Age1stCode'] <= 15),\n",
    "    (df_ds['Age1stCode'] >= 16) & (df_ds['Age1stCode'] <= 17),\n",
    "    (df_ds['Age1stCode'] >= 18) & (df_ds['Age1stCode'] <= 19),\n",
    "    (df_ds['Age1stCode'] >= 20) & (df_ds['Age1stCode'] <= 21),\n",
    "    (df_ds['Age1stCode'] >= 22) & (df_ds['Age1stCode'] <= 23),\n",
    "    (df_ds['Age1stCode'] >= 24) & (df_ds['Age1stCode'] <= 25),\n",
    "    (df_ds['Age1stCode'] >= 26) & (df_ds['Age1stCode'] <= 27),\n",
    "    (df_ds['Age1stCode'] >= 28) & (df_ds['Age1stCode'] <= 29),\n",
    "    (df_ds['Age1stCode'] >= 50)\n",
    "    ]\n",
    "\n",
    "categories_age = [\n",
    "    'Younger than 10 years', '10 to 11 years old', '12 to 13 years old', '14 to 15 years old',\n",
    "    '16 to 17 years old', '18 to 19 years old', '20 to 21 years old', '22 to 23 years old', \n",
    "    '24 to 25 years old', '26 to 27 years old', '28 to 29 years old', '30 years old or older'\n",
    "    ]\n",
    "\n",
    "df_ds['Age1stCodeR'] = np.select(conditions_age, categories_age)"
   ]
  },
  {
   "cell_type": "code",
   "execution_count": 145,
   "metadata": {},
   "outputs": [],
   "source": [
    "df_ds.Age1stCodeR.replace({'0': np.nan}, inplace=True)"
   ]
  },
  {
   "cell_type": "code",
   "execution_count": 146,
   "metadata": {},
   "outputs": [
    {
     "data": {
      "image/png": "[encoded data removed]",
      "text/plain": [
       "<Figure size 432x288 with 1 Axes>"
      ]
     },
     "metadata": {
      "needs_background": "light"
     },
     "output_type": "display_data"
    }
   ],
   "source": [
    "bar_plot_percent('Age1stCodeR', 'barh', 'Writing That First Line of Code %', order=categories_age);"
   ]
  },
  {
   "cell_type": "code",
   "execution_count": 147,
   "metadata": {},
   "outputs": [
    {
     "data": {
      "text/plain": [
       "14 to 15 years old       18.58\n",
       "12 to 13 years old       15.75\n",
       "16 to 17 years old       15.42\n",
       "18 to 19 years old       14.51\n",
       "Younger than 10 years    10.51\n",
       "10 to 11 years old        9.91\n",
       "20 to 21 years old        7.11\n",
       "22 to 23 years old        3.64\n",
       "24 to 25 years old        2.43\n",
       "26 to 27 years old        1.13\n",
       "28 to 29 years old        0.87\n",
       "30 years old or older     0.15\n",
       "Name: Age1stCodeR, dtype: float64"
      ]
     },
     "execution_count": 147,
     "metadata": {},
     "output_type": "execute_result"
    }
   ],
   "source": [
    "get_percent('Age1stCodeR')"
   ]
  },
  {
   "cell_type": "markdown",
   "metadata": {},
   "source": [
    "The distribution for this variable looks very similar to the one for all developers. Roughly **68% of Data Scientists mentioned that they wrote that first line of code as kids** (i.e., 17 years or less). I find this to be very surprising, since I often read or hear Data Scientists saying that they learned to code in college or grad school. As a personal note, depending how you count, **I am among a tiny ~2% minority of people who wrote that first line at age 25 or older** Yikes!"
   ]
  },
  {
   "cell_type": "markdown",
   "metadata": {},
   "source": [
    "###  Education"
   ]
  },
  {
   "cell_type": "markdown",
   "metadata": {},
   "source": [
    "#### How Many Developers are Students?"
   ]
  },
  {
   "cell_type": "code",
   "execution_count": 148,
   "metadata": {},
   "outputs": [
    {
     "data": {
      "image/png": "[encoded data removed]",
      "text/plain": [
       "<Figure size 432x288 with 1 Axes>"
      ]
     },
     "metadata": {
      "needs_background": "light"
     },
     "output_type": "display_data"
    }
   ],
   "source": [
    "bar_plot_percent('Student', 'barh', 'How Many Developers are Students? %', sort=True);"
   ]
  },
  {
   "cell_type": "code",
   "execution_count": 149,
   "metadata": {},
   "outputs": [
    {
     "data": {
      "text/plain": [
       "No                72.77\n",
       "Yes, full-time    18.70\n",
       "Yes, part-time     8.54\n",
       "Name: Student, dtype: float64"
      ]
     },
     "execution_count": 149,
     "metadata": {},
     "output_type": "execute_result"
    }
   ],
   "source": [
    "get_percent('Student')"
   ]
  },
  {
   "cell_type": "markdown",
   "metadata": {},
   "source": [
    "**Around 27% report to be part-time or full time student**. This is very similar to the numbers for the developers full sample."
   ]
  },
  {
   "cell_type": "markdown",
   "metadata": {},
   "source": [
    "#### Educational Attainment"
   ]
  },
  {
   "cell_type": "code",
   "execution_count": 150,
   "metadata": {},
   "outputs": [
    {
     "data": {
      "image/png": "[encoded data removed]",
      "text/plain": [
       "<Figure size 432x288 with 1 Axes>"
      ]
     },
     "metadata": {
      "needs_background": "light"
     },
     "output_type": "display_data"
    }
   ],
   "source": [
    "order_ed = [\n",
    "    'I never completed any formal education', 'Primary/elementary school',\n",
    "    'Secondary school (e.g. American high school, German Realschule or Gymnasium, etc.)',\n",
    "    'Some college/university study without earning a degree',\n",
    "    'Associate degree',\n",
    "    'Bachelor’s degree (BA, BS, B.Eng., etc.)',\n",
    "    'Master’s degree (MA, MS, M.Eng., MBA, etc.)',\n",
    "    'Professional degree (JD, MD, etc.)',\n",
    "    'Other doctoral degree (Ph.D, Ed.D., etc.)'\n",
    "    ]\n",
    "bar_plot_percent('EdLevel', 'barh', 'Educational Attainment %', order=order_ed);"
   ]
  },
  {
   "cell_type": "code",
   "execution_count": 151,
   "metadata": {},
   "outputs": [
    {
     "data": {
      "text/plain": [
       "Bachelor’s degree (BA, BS, B.Eng., etc.)                                              39.57\n",
       "Master’s degree (MA, MS, M.Eng., MBA, etc.)                                           31.94\n",
       "Some college/university study without earning a degree                                 9.09\n",
       "Other doctoral degree (Ph.D, Ed.D., etc.)                                              8.38\n",
       "Secondary school (e.g. American high school, German Realschule or Gymnasium, etc.)     5.41\n",
       "Associate degree                                                                       2.66\n",
       "Professional degree (JD, MD, etc.)                                                     1.47\n",
       "Primary/elementary school                                                              0.88\n",
       "I never completed any formal education                                                 0.60\n",
       "Name: EdLevel, dtype: float64"
      ]
     },
     "execution_count": 151,
     "metadata": {},
     "output_type": "execute_result"
    }
   ],
   "source": [
    "get_percent('EdLevel')"
   ]
  },
  {
   "cell_type": "markdown",
   "metadata": {},
   "source": [
    "The rumors are true! **Data Scientists are highly educated: ~81% have BA or higher**,**~42% have MA or higher**, and **~10% professional degrees and PhD**. This is **sharp contrast with developers in general who report ~72%, ~26%, and ~4%, respectively**. If spending a long time in school it is not your idea of fun, you might get more bang for your buck (and time) going into a different area than Data Science."
   ]
  },
  {
   "cell_type": "markdown",
   "metadata": {},
   "source": [
    "#### Undergraduate Major"
   ]
  },
  {
   "cell_type": "code",
   "execution_count": 152,
   "metadata": {},
   "outputs": [
    {
     "data": {
      "image/png": "[encoded data removed]",
      "text/plain": [
       "<Figure size 432x288 with 1 Axes>"
      ]
     },
     "metadata": {
      "needs_background": "light"
     },
     "output_type": "display_data"
    }
   ],
   "source": [
    "bar_plot_percent('UndergradMajor', 'barh', 'Undergraduate Major %', sort=True);"
   ]
  },
  {
   "cell_type": "code",
   "execution_count": 153,
   "metadata": {},
   "outputs": [
    {
     "data": {
      "text/plain": [
       "Computer science, computer engineering, or software engineering          51.34\n",
       "Mathematics or statistics                                                 9.91\n",
       "Another engineering discipline (ex. civil, electrical, mechanical)        9.06\n",
       "A natural science (ex. biology, chemistry, physics)                       8.91\n",
       "Information systems, information technology, or system administration     6.83\n",
       "A business discipline (ex. accounting, finance, marketing)                4.58\n",
       "A social science (ex. anthropology, psychology, political science)        3.19\n",
       "Web development or web design                                             2.05\n",
       "A humanities discipline (ex. literature, history, philosophy)             1.81\n",
       "Fine arts or performing arts (ex. graphic design, music, studio art)      0.96\n",
       "I never declared a major                                                  0.78\n",
       "A health science (ex. nursing, pharmacy, radiology)                       0.58\n",
       "Name: UndergradMajor, dtype: float64"
      ]
     },
     "execution_count": 153,
     "metadata": {},
     "output_type": "execute_result"
    }
   ],
   "source": [
    "get_percent('UndergradMajor')"
   ]
  },
  {
   "cell_type": "markdown",
   "metadata": {},
   "source": [
    "**Computer science and engineering dominates undergraduate majors with ~51%**, but a at a lesser extent than in developers in general (~62%). **Math/Statistics/Engineering majors have a great presence too with ~19%**. Another personal note, I'm among that sad tiny minority of **3.19% individuals with social sciences majors**, Oh boy!"
   ]
  },
  {
   "cell_type": "markdown",
   "metadata": {},
   "source": [
    "#### Other Types of Education"
   ]
  },
  {
   "cell_type": "markdown",
   "metadata": {},
   "source": [
    "This feature is a string of multiple answers concatenated by a ';'. This is a bit tricky to plot, and there many ways to approch this. My approach will be:\n",
    "\n",
    "- Declare a list of strings, with the categories to be counted\n",
    "- Declare a empty dictionary to count occurrences of each category\n",
    "- Loop over each category, applying a lambda function to split each string by ';', and get the total count for each category. \n",
    "- Re-asign to the empty dictionary, and make it into a pandas dataframe"
   ]
  },
  {
   "cell_type": "code",
   "execution_count": 154,
   "metadata": {},
   "outputs": [],
   "source": [
    "c = [\n",
    "    'Taught yourself a new language, framework, or tool without taking a formal course',\n",
    "    'Taken an online course in programming or software development (e.g. a MOOC)',\n",
    "    'Contributed to open source software',\n",
    "    'Received on-the-job training in software development',\n",
    "    'Participated in a hackathon',\n",
    "    'Participated in online coding competitions (e.g. HackerRank, CodeChef, TopCoder)',\n",
    "    'Taken a part-time in-person course in programming or software development',\n",
    "    'Participated in a full-time developer training program or bootcamp',\n",
    "    'Completed an industry certification program (e.g. MCPD)'\n",
    "]\n",
    "\n",
    "tmp = {}"
   ]
  },
  {
   "cell_type": "code",
   "execution_count": 155,
   "metadata": {},
   "outputs": [],
   "source": [
    "for s in c:\n",
    "    tmp[s] = (df_ds.EduOther.apply(lambda x: (str(x).split(';')).count(s))).sum()"
   ]
  },
  {
   "cell_type": "code",
   "execution_count": 156,
   "metadata": {},
   "outputs": [],
   "source": [
    "ed_df = pd.DataFrame.from_dict(tmp, orient='index')"
   ]
  },
  {
   "cell_type": "code",
   "execution_count": 157,
   "metadata": {},
   "outputs": [
    {
     "data": {
      "image/png": "[encoded data removed]",
      "text/plain": [
       "<Figure size 432x288 with 1 Axes>"
      ]
     },
     "metadata": {
      "needs_background": "light"
     },
     "output_type": "display_data"
    }
   ],
   "source": [
    "ed_df.apply(lambda x: np.round((x/df_ds.EduOther.notna().sum())*100, decimals=2)).plot(kind='barh', title='Other Types of Education %');"
   ]
  },
  {
   "cell_type": "code",
   "execution_count": 158,
   "metadata": {},
   "outputs": [
    {
     "data": {
      "text/html": [
       "<div>\n",
       "<style scoped>\n",
       "    .dataframe tbody tr th:only-of-type {\n",
       "        vertical-align: middle;\n",
       "    }\n",
       "\n",
       "    .dataframe tbody tr th {\n",
       "        vertical-align: top;\n",
       "    }\n",
       "\n",
       "    .dataframe thead th {\n",
       "        text-align: right;\n",
       "    }\n",
       "</style>\n",
       "<table border=\"1\" class=\"dataframe\">\n",
       "  <thead>\n",
       "    <tr style=\"text-align: right;\">\n",
       "      <th></th>\n",
       "      <th>0</th>\n",
       "    </tr>\n",
       "  </thead>\n",
       "  <tbody>\n",
       "    <tr>\n",
       "      <td>Taught yourself a new language, framework, or tool without taking a formal course</td>\n",
       "      <td>86.61</td>\n",
       "    </tr>\n",
       "    <tr>\n",
       "      <td>Taken an online course in programming or software development (e.g. a MOOC)</td>\n",
       "      <td>69.09</td>\n",
       "    </tr>\n",
       "    <tr>\n",
       "      <td>Contributed to open source software</td>\n",
       "      <td>42.63</td>\n",
       "    </tr>\n",
       "    <tr>\n",
       "      <td>Received on-the-job training in software development</td>\n",
       "      <td>40.88</td>\n",
       "    </tr>\n",
       "    <tr>\n",
       "      <td>Participated in a hackathon</td>\n",
       "      <td>29.03</td>\n",
       "    </tr>\n",
       "    <tr>\n",
       "      <td>Participated in online coding competitions (e.g. HackerRank, CodeChef, TopCoder)</td>\n",
       "      <td>28.45</td>\n",
       "    </tr>\n",
       "    <tr>\n",
       "      <td>Taken a part-time in-person course in programming or software development</td>\n",
       "      <td>23.77</td>\n",
       "    </tr>\n",
       "    <tr>\n",
       "      <td>Participated in a full-time developer training program or bootcamp</td>\n",
       "      <td>17.72</td>\n",
       "    </tr>\n",
       "    <tr>\n",
       "      <td>Completed an industry certification program (e.g. MCPD)</td>\n",
       "      <td>17.92</td>\n",
       "    </tr>\n",
       "  </tbody>\n",
       "</table>\n",
       "</div>"
      ],
      "text/plain": [
       "                                                        0\n",
       "Taught yourself a new language, framework, or t...  86.61\n",
       "Taken an online course in programming or softwa...  69.09\n",
       "Contributed to open source software                 42.63\n",
       "Received on-the-job training in software develo...  40.88\n",
       "Participated in a hackathon                         29.03\n",
       "Participated in online coding competitions (e.g...  28.45\n",
       "Taken a part-time in-person course in programmi...  23.77\n",
       "Participated in a full-time developer training ...  17.72\n",
       "Completed an industry certification program (e....  17.92"
      ]
     },
     "execution_count": 158,
     "metadata": {},
     "output_type": "execute_result"
    }
   ],
   "source": [
    "ed_df.apply(lambda x: np.round((x/df_ds.EduOther.notna().sum())*100, decimals=2))"
   ]
  },
  {
   "cell_type": "markdown",
   "metadata": {},
   "source": [
    "Self-education is very common among Data Scientists in the survey, with **~86% saying that they self-taught** some new language, framework, or tool, and **~69% that they have taken some MOOC**. This numbers are very similar to the whole sample of developers."
   ]
  },
  {
   "cell_type": "markdown",
   "metadata": {},
   "source": [
    "### Demographics"
   ]
  },
  {
   "cell_type": "markdown",
   "metadata": {},
   "source": [
    "#### Race and Ethnicity"
   ]
  },
  {
   "cell_type": "markdown",
   "metadata": {},
   "source": [
    "Race and Ethnicity are particularly complicated, since people may identify as belonging to multiple groups. By inspecting the data, looks like people were **allowed to select multiple groups**. This is, of course, the best choice in terms of accuracy, but makes analysis almost imposible without making hard and arbitrary choices regarding how to group people into buckets. You might be thinking: **\"Can you just categorize as multiracial/multiethnic to people that selected multiple options\"?** Absolutely. This would have been a great option. Unfortunately, **people did selected multiracial and *at the same time* other optins like Biracial, White, Middle Estern, etc.** In fact, there are *123 unique combinatios* of races/ethnicities in the survey. If we lump together as *multiracial* to people that chose multiple groups, Black or of African descent will get nulified as a group. If we apply the same logic applied to 'Other types of education' were will be double counting responses: if I selected Latino and Biracial, my answer will contribute to the total of both responses. \n",
    "\n",
    "What to do? I'll go with the double counting. I think this option respect people choices (to some degree) and makes our visualization cleaner."
   ]
  },
  {
   "cell_type": "code",
   "execution_count": 159,
   "metadata": {},
   "outputs": [],
   "source": [
    "c = [\n",
    "    'White or of European descent',\n",
    "    'South Asian',\n",
    "    'Hispanic or Latino/Latina',\n",
    "    'East Asian',\n",
    "    'Middle Eastern',\n",
    "    'Black or of African descent',\n",
    "    'Multiracial',\n",
    "    'Biracial',\n",
    "    'Native American, Pacific Islander, or Indigenous Australian'\n",
    "    ]\n",
    "\n",
    "tmp = {}"
   ]
  },
  {
   "cell_type": "code",
   "execution_count": 160,
   "metadata": {},
   "outputs": [],
   "source": [
    "for s in c:\n",
    "    tmp[s] = (df_ds.Ethnicity.apply(lambda x: (str(x).split(';')).count(s))).sum()"
   ]
  },
  {
   "cell_type": "code",
   "execution_count": 161,
   "metadata": {},
   "outputs": [],
   "source": [
    "et_df = pd.DataFrame.from_dict(tmp, orient='index')"
   ]
  },
  {
   "cell_type": "code",
   "execution_count": 162,
   "metadata": {},
   "outputs": [
    {
     "data": {
      "image/png": "[encoded data removed]",
      "text/plain": [
       "<Figure size 432x288 with 1 Axes>"
      ]
     },
     "metadata": {
      "needs_background": "light"
     },
     "output_type": "display_data"
    }
   ],
   "source": [
    "et_df.apply(lambda x: np.round((x/df_ds.Ethnicity.notna().sum())*100, decimals=2)).plot(kind='barh', title='Ethnicity %');"
   ]
  },
  {
   "cell_type": "code",
   "execution_count": 163,
   "metadata": {},
   "outputs": [
    {
     "data": {
      "text/html": [
       "<div>\n",
       "<style scoped>\n",
       "    .dataframe tbody tr th:only-of-type {\n",
       "        vertical-align: middle;\n",
       "    }\n",
       "\n",
       "    .dataframe tbody tr th {\n",
       "        vertical-align: top;\n",
       "    }\n",
       "\n",
       "    .dataframe thead th {\n",
       "        text-align: right;\n",
       "    }\n",
       "</style>\n",
       "<table border=\"1\" class=\"dataframe\">\n",
       "  <thead>\n",
       "    <tr style=\"text-align: right;\">\n",
       "      <th></th>\n",
       "      <th>0</th>\n",
       "    </tr>\n",
       "  </thead>\n",
       "  <tbody>\n",
       "    <tr>\n",
       "      <td>White or of European descent</td>\n",
       "      <td>70.31</td>\n",
       "    </tr>\n",
       "    <tr>\n",
       "      <td>South Asian</td>\n",
       "      <td>12.57</td>\n",
       "    </tr>\n",
       "    <tr>\n",
       "      <td>Hispanic or Latino/Latina</td>\n",
       "      <td>7.99</td>\n",
       "    </tr>\n",
       "    <tr>\n",
       "      <td>East Asian</td>\n",
       "      <td>6.12</td>\n",
       "    </tr>\n",
       "    <tr>\n",
       "      <td>Middle Eastern</td>\n",
       "      <td>5.37</td>\n",
       "    </tr>\n",
       "    <tr>\n",
       "      <td>Black or of African descent</td>\n",
       "      <td>3.89</td>\n",
       "    </tr>\n",
       "    <tr>\n",
       "      <td>Multiracial</td>\n",
       "      <td>3.50</td>\n",
       "    </tr>\n",
       "    <tr>\n",
       "      <td>Biracial</td>\n",
       "      <td>1.91</td>\n",
       "    </tr>\n",
       "    <tr>\n",
       "      <td>Native American, Pacific Islander, or Indigenous Australian</td>\n",
       "      <td>1.62</td>\n",
       "    </tr>\n",
       "  </tbody>\n",
       "</table>\n",
       "</div>"
      ],
      "text/plain": [
       "                                                        0\n",
       "White or of European descent                        70.31\n",
       "South Asian                                         12.57\n",
       "Hispanic or Latino/Latina                            7.99\n",
       "East Asian                                           6.12\n",
       "Middle Eastern                                       5.37\n",
       "Black or of African descent                          3.89\n",
       "Multiracial                                          3.50\n",
       "Biracial                                             1.91\n",
       "Native American, Pacific Islander, or Indigenou...   1.62"
      ]
     },
     "execution_count": 163,
     "metadata": {},
     "output_type": "execute_result"
    }
   ],
   "source": [
    "et_df.apply(lambda x: np.round((x/df_ds.Ethnicity.notna().sum())*100, decimals=2))"
   ]
  },
  {
   "cell_type": "markdown",
   "metadata": {},
   "source": [
    "Again, race and ethnicity looks pretty similar to the reported for the full sample. People from **white and european ancestry dominate the sample with 70%**, followed by people from **south asia (mostly from India) with 12.57%**."
   ]
  },
  {
   "cell_type": "markdown",
   "metadata": {},
   "source": [
    "#### Gender"
   ]
  },
  {
   "cell_type": "markdown",
   "metadata": {},
   "source": [
    "Gender is as complex as ethnicity. Again, people selected multiple choices. We will group people into three categories: **Woman, Man, and Non-binary, genderqueer, or gender non-conforming**."
   ]
  },
  {
   "cell_type": "code",
   "execution_count": 164,
   "metadata": {},
   "outputs": [],
   "source": [
    "df_ds['Gender2'] = df_ds.Gender.replace({\n",
    "    'Man;Non-binary, genderqueer, or gender non-conforming': 'Non-binary, genderqueer, or gender non-conforming',\n",
    "    'Woman;Man': 'Non-binary, genderqueer, or gender non-conforming',\n",
    "    'Woman;Man;Non-binary, genderqueer, or gender non-conforming': 'Non-binary, genderqueer, or gender non-conforming',\n",
    "    'Woman;Non-binary, genderqueer, or gender non-conforming': 'Non-binary, genderqueer, or gender non-conforming'\n",
    "              })"
   ]
  },
  {
   "cell_type": "code",
   "execution_count": 165,
   "metadata": {},
   "outputs": [
    {
     "data": {
      "image/png": "[encoded data removed]",
      "text/plain": [
       "<Figure size 432x288 with 1 Axes>"
      ]
     },
     "metadata": {
      "needs_background": "light"
     },
     "output_type": "display_data"
    }
   ],
   "source": [
    "bar_plot_percent('Gender2', 'barh', 'Gender %', sort=True);"
   ]
  },
  {
   "cell_type": "code",
   "execution_count": 166,
   "metadata": {},
   "outputs": [
    {
     "data": {
      "text/plain": [
       "Man                                                  90.72\n",
       "Woman                                                 7.63\n",
       "Non-binary, genderqueer, or gender non-conforming     1.65\n",
       "Name: Gender2, dtype: float64"
      ]
     },
     "execution_count": 166,
     "metadata": {},
     "output_type": "execute_result"
    }
   ],
   "source": [
    "get_percent('Gender2')"
   ]
  },
  {
   "cell_type": "markdown",
   "metadata": {},
   "source": [
    "**Males completely dominate the sample with ~91%**, pretty similar to the ~92 for the entire sample"
   ]
  },
  {
   "cell_type": "markdown",
   "metadata": {},
   "source": [
    "#### Experience and Gender"
   ]
  },
  {
   "cell_type": "code",
   "execution_count": 167,
   "metadata": {},
   "outputs": [
    {
     "data": {
      "image/png": "[encoded data removed]",
      "text/plain": [
       "<Figure size 432x288 with 1 Axes>"
      ]
     },
     "metadata": {
      "needs_background": "light"
     },
     "output_type": "display_data"
    }
   ],
   "source": [
    "bar_plot_percent('YearsCodeR', 'barh', 'Men: Years Since Learning to Code %', order=categories_years, df=df_ds[df_ds['Gender'] == 'Man']);"
   ]
  },
  {
   "cell_type": "code",
   "execution_count": 168,
   "metadata": {},
   "outputs": [
    {
     "data": {
      "text/plain": [
       "5 to 9 years        27.72\n",
       "10 to 14 years      19.58\n",
       "5 years or less     17.52\n",
       "15 to 19 years      11.68\n",
       "20 to 24 years       8.70\n",
       "25 to 29 years       4.72\n",
       "30 to 34 years       4.72\n",
       "35 to 39 years       3.27\n",
       "40 to 44 years       1.45\n",
       "45 to 49 years       0.41\n",
       "50 years or more     0.24\n",
       "Name: YearsCodeR, dtype: float64"
      ]
     },
     "execution_count": 168,
     "metadata": {},
     "output_type": "execute_result"
    }
   ],
   "source": [
    "get_percent('YearsCodeR', df=df_ds[df_ds['Gender'] == 'Man'])"
   ]
  },
  {
   "cell_type": "markdown",
   "metadata": {},
   "source": [
    "Almost **24%** of male Data Scientists learned to code 20 or more years ago."
   ]
  },
  {
   "cell_type": "code",
   "execution_count": 169,
   "metadata": {},
   "outputs": [
    {
     "data": {
      "image/png": "[encoded data removed]",
      "text/plain": [
       "<Figure size 432x288 with 1 Axes>"
      ]
     },
     "metadata": {
      "needs_background": "light"
     },
     "output_type": "display_data"
    }
   ],
   "source": [
    "bar_plot_percent('YearsCodeR', 'barh', 'Women: Years Since Learning to Code %', order=categories_years, df=df_ds[df_ds['Gender'] == 'Woman']);"
   ]
  },
  {
   "cell_type": "code",
   "execution_count": 170,
   "metadata": {},
   "outputs": [
    {
     "data": {
      "text/plain": [
       "5 to 9 years       36.86\n",
       "5 years or less    28.70\n",
       "10 to 14 years     16.45\n",
       "15 to 19 years      8.04\n",
       "20 to 24 years      5.74\n",
       "25 to 29 years      2.17\n",
       "30 to 34 years      1.40\n",
       "35 to 39 years      0.64\n",
       "Name: YearsCodeR, dtype: float64"
      ]
     },
     "execution_count": 170,
     "metadata": {},
     "output_type": "execute_result"
    }
   ],
   "source": [
    "get_percent('YearsCodeR', df=df_ds[df_ds['Gender'] == 'Woman'])"
   ]
  },
  {
   "cell_type": "markdown",
   "metadata": {},
   "source": [
    "**There aren't female Data Scientists with more of 40 since learned to code**, and **only ~10% did it 20 or more years ago**. This may be related to the historical problem of retention of women in the Tech Industry and STEM disciplines."
   ]
  },
  {
   "cell_type": "code",
   "execution_count": 171,
   "metadata": {},
   "outputs": [
    {
     "data": {
      "image/png": "[encoded data removed]",
      "text/plain": [
       "<Figure size 432x288 with 1 Axes>"
      ]
     },
     "metadata": {
      "needs_background": "light"
     },
     "output_type": "display_data"
    }
   ],
   "source": [
    "bar_plot_percent('YearsCodeR', 'barh', 'Non-binary, genderqueer, or non-conforming: Years Since Learning to Code %', order=categories_years, df=df_ds[df_ds['Gender'] == 'Non-binary, genderqueer, or gender non-conforming']);"
   ]
  },
  {
   "cell_type": "code",
   "execution_count": 172,
   "metadata": {},
   "outputs": [
    {
     "data": {
      "text/plain": [
       "5 to 9 years       30.38\n",
       "5 years or less    18.99\n",
       "10 to 14 years     16.46\n",
       "15 to 19 years     11.39\n",
       "20 to 24 years      7.59\n",
       "35 to 39 years      5.06\n",
       "25 to 29 years      5.06\n",
       "30 to 34 years      2.53\n",
       "40 to 44 years      1.27\n",
       "45 to 49 years      1.27\n",
       "Name: YearsCodeR, dtype: float64"
      ]
     },
     "execution_count": 172,
     "metadata": {},
     "output_type": "execute_result"
    }
   ],
   "source": [
    "get_percent('YearsCodeR', df_ds[df_ds['Gender'] == 'Non-binary, genderqueer, or gender non-conforming'])"
   ]
  },
  {
   "cell_type": "markdown",
   "metadata": {},
   "source": [
    "Interestingly, **~23% of Non-binary, genderqueer, or non-conforming Data Scientists report 20 or more years of coding experience**, slighly lower than males. Nonetheles, is important to remember that females and gender minorities are very small portion of the sample, so caution must me taken when interpreting this numbers."
   ]
  },
  {
   "cell_type": "markdown",
   "metadata": {},
   "source": [
    "#### Sexual Orientation"
   ]
  },
  {
   "cell_type": "code",
   "execution_count": 173,
   "metadata": {},
   "outputs": [
    {
     "data": {
      "text/plain": [
       "array(['Straight / Heterosexual', nan, 'Bisexual', 'Gay or Lesbian',\n",
       "       'Bisexual;Straight / Heterosexual',\n",
       "       'Bisexual;Gay or Lesbian;Straight / Heterosexual',\n",
       "       'Bisexual;Gay or Lesbian',\n",
       "       'Gay or Lesbian;Straight / Heterosexual'], dtype=object)"
      ]
     },
     "execution_count": 173,
     "metadata": {},
     "output_type": "execute_result"
    }
   ],
   "source": [
    "df_ds.Sexuality.unique()"
   ]
  },
  {
   "cell_type": "code",
   "execution_count": 174,
   "metadata": {},
   "outputs": [],
   "source": [
    "df_ds.Sexuality.replace({\n",
    "    'Bisexual;Straight / Heterosexual': 'Bisexual',\n",
    "    'Bisexual;Gay or Lesbian;Straight / Heterosexual': 'Bisexual',\n",
    "    'Bisexual;Gay or Lesbian': 'Bisexual',\n",
    "    'Gay or Lesbian;Straight / Heterosexual': 'Bisexual'\n",
    "}, inplace=True)"
   ]
  },
  {
   "cell_type": "code",
   "execution_count": 175,
   "metadata": {},
   "outputs": [
    {
     "data": {
      "image/png": "[encoded data removed]",
      "text/plain": [
       "<Figure size 432x288 with 1 Axes>"
      ]
     },
     "metadata": {
      "needs_background": "light"
     },
     "output_type": "display_data"
    }
   ],
   "source": [
    "bar_plot_percent('Sexuality', 'barh', 'Sexual Orientation %', sort=True);"
   ]
  },
  {
   "cell_type": "code",
   "execution_count": 176,
   "metadata": {},
   "outputs": [
    {
     "data": {
      "text/plain": [
       "Straight / Heterosexual    91.89\n",
       "Bisexual                    5.90\n",
       "Gay or Lesbian              2.21\n",
       "Name: Sexuality, dtype: float64"
      ]
     },
     "execution_count": 176,
     "metadata": {},
     "output_type": "execute_result"
    }
   ],
   "source": [
    "get_percent('Sexuality')"
   ]
  },
  {
   "cell_type": "markdown",
   "metadata": {},
   "source": [
    "Around **8% of the sample report to seld-identify as Bisexual, Gay, or Lesbian**. Since this is a world-wide survey, it is hard to have a reference point. For instance, in the US there are report suggesting that around 4.5~ are LGBT. "
   ]
  },
  {
   "cell_type": "markdown",
   "metadata": {},
   "source": [
    "#### Disability Status\n",
    "Unfortunately, this feature is absent in the dataset"
   ]
  },
  {
   "cell_type": "markdown",
   "metadata": {},
   "source": [
    "#### Age"
   ]
  },
  {
   "cell_type": "code",
   "execution_count": 177,
   "metadata": {},
   "outputs": [],
   "source": [
    "conditions_a = [\n",
    "    (df_ds['Age'] < 15),\n",
    "    (df_ds['Age'] >= 15) & (df_ds['Age'] <= 19),\n",
    "    (df_ds['Age'] >= 20) & (df_ds['Age'] <= 24),\n",
    "    (df_ds['Age'] >= 25) & (df_ds['Age'] <= 29),\n",
    "    (df_ds['Age'] >= 30) & (df_ds['Age'] <= 34),\n",
    "    (df_ds['Age'] >= 35) & (df_ds['Age'] <= 39),\n",
    "    (df_ds['Age'] >= 40) & (df_ds['Age'] <= 44),\n",
    "    (df_ds['Age'] >= 45) & (df_ds['Age'] <= 49),\n",
    "    (df_ds['Age'] >= 50) & (df_ds['Age'] <= 54),\n",
    "    (df_ds['Age'] >= 55) & (df_ds['Age'] <= 59),\n",
    "    (df_ds['Age1stCode'] >= 60)\n",
    "    ]\n",
    "\n",
    "categories_a = [\n",
    "    'Younger than 15 years', '15 to 19 years', '20 to 24 years', \n",
    "    '25 to 29 years','30 to 34 years', '35 to 39 years', '40 to 44 years', \n",
    "    '45 to 49 years', '50 to 54 years','55 to 59 years', '60 years and older'\n",
    "    ]\n",
    "\n",
    "df_ds['AgeR'] = np.select(conditions_a, categories_a)"
   ]
  },
  {
   "cell_type": "code",
   "execution_count": 178,
   "metadata": {},
   "outputs": [],
   "source": [
    "df_ds.AgeR.replace({'0': np.nan}, inplace=True)"
   ]
  },
  {
   "cell_type": "code",
   "execution_count": 179,
   "metadata": {
    "scrolled": true
   },
   "outputs": [
    {
     "data": {
      "image/png": "[encoded data removed]",
      "text/plain": [
       "<Figure size 432x288 with 1 Axes>"
      ]
     },
     "metadata": {
      "needs_background": "light"
     },
     "output_type": "display_data"
    }
   ],
   "source": [
    "bar_plot_percent('AgeR', 'barh', 'Age %', order=categories_a);"
   ]
  },
  {
   "cell_type": "code",
   "execution_count": 180,
   "metadata": {},
   "outputs": [
    {
     "data": {
      "text/plain": [
       "25 to 29 years           27.86\n",
       "30 to 34 years           20.37\n",
       "20 to 24 years           18.92\n",
       "35 to 39 years           13.44\n",
       "40 to 44 years            7.70\n",
       "45 to 49 years            4.44\n",
       "50 to 54 years            2.97\n",
       "15 to 19 years            2.34\n",
       "55 to 59 years            1.67\n",
       "Younger than 15 years     0.21\n",
       "60 years and older        0.09\n",
       "Name: AgeR, dtype: float64"
      ]
     },
     "execution_count": 180,
     "metadata": {},
     "output_type": "execute_result"
    }
   ],
   "source": [
    "get_percent('AgeR')"
   ]
  },
  {
   "cell_type": "markdown",
   "metadata": {},
   "source": [
    "People in Data Science, as in Tech, tend to be young: **~50% is 29 or younger**, and **~70% is 35 or younger**. Compare this with the [11% of physicians younger than 35% in the US](https://www.statista.com/statistics/415961/share-of-age-among-us-physicians/). True, becoming a physician takes longer than becoming a Data Scientist (in general), but remember that most Data Scientists have advance degrees MA and PhD. Part of this may be explained by the obvious fact that the Data/Tech industry has blossomed very recently compared to the Medical profession. In any case, the fact is that **if you get into Data Science, you will be confronting a very young demographic work environment and pool of competitors.**"
   ]
  },
  {
   "cell_type": "markdown",
   "metadata": {},
   "source": [
    "#### Average Age by Country"
   ]
  },
  {
   "cell_type": "markdown",
   "metadata": {},
   "source": [
    "In the Stack Overflow survey they decided to use bar plots for this. I'll go with a bubble map, since is a more compact and fair representation (no country exclusions)"
   ]
  },
  {
   "cell_type": "code",
   "execution_count": 182,
   "metadata": {},
   "outputs": [],
   "source": [
    "countries_plot_3 = countries_plot_2.merge(df_ds.groupby('Country')['Age'].mean(), left_index=True, right_index=True)"
   ]
  },
  {
   "cell_type": "code",
   "execution_count": 183,
   "metadata": {},
   "outputs": [],
   "source": [
    "countries_plot_3.dropna(inplace=True)"
   ]
  },
  {
   "cell_type": "code",
   "execution_count": 184,
   "metadata": {},
   "outputs": [
    {
     "data": {
      "application/vnd.plotly.v1+json": {
       "config": {
        "plotlyServerURL": "https://plot.ly"
       },
       "data": [
        {
         "geo": "geo",
         "hoverlabel": {
          "namelength": 0
         },
         "hovertemplate": "<b>%{hovertext}</b><br><br>Age=%{marker.color}<br>iso_alpha=%{location}",
         "hovertext": [
          "United States",
          "India",
          "Germany",
          "United Kingdom",
          "Canada",
          "Brazil",
          "Australia",
          "Netherlands",
          "France",
          "Russian Federation",
          "Poland",
          "Spain",
          "Italy",
          "Switzerland",
          "Iran, Islamic Republic of",
          "Sweden",
          "Pakistan",
          "Turkey",
          "South Africa",
          "Mexico",
          "Denmark",
          "Israel",
          "Belgium",
          "Bangladesh",
          "Austria",
          "Greece",
          "Czechia",
          "Ukraine",
          "Norway",
          "Finland",
          "Indonesia",
          "Romania",
          "Argentina",
          "Bulgaria",
          "Portugal",
          "Nigeria",
          "Philippines",
          "Ireland",
          "New Zealand",
          "Japan",
          "China",
          "Hungary",
          "Chile",
          "Thailand",
          "Slovenia",
          "Malaysia",
          "Serbia",
          "Kenya",
          "Colombia",
          "Singapore",
          "Egypt",
          "Croatia",
          "Sri Lanka",
          "Lithuania",
          "Viet Nam",
          "Slovakia",
          "Taiwan, Province of China",
          "Hong Kong",
          "Nepal",
          "United Arab Emirates",
          "Latvia",
          "Korea, Republic of",
          "Tunisia",
          "Lebanon",
          "Estonia",
          "Belarus",
          "Morocco",
          "Saudi Arabia",
          "Costa Rica",
          "El Salvador",
          "Uruguay",
          "Uganda",
          "Ecuador",
          "Dominican Republic",
          "Peru",
          "Albania",
          "Algeria",
          "Ghana",
          "Cameroon",
          "Georgia",
          "Myanmar",
          "Tanzania, United Republic of",
          "Armenia",
          "Cambodia",
          "Jordan",
          "Guatemala",
          "Venezuela, Bolivarian Republic of",
          "Luxembourg",
          "Côte d'Ivoire",
          "Cuba",
          "Bosnia and Herzegovina",
          "Mauritius",
          "North Macedonia",
          "Zimbabwe",
          "Qatar",
          "Cyprus",
          "Iceland",
          "Malta",
          "Montenegro",
          "Kazakhstan",
          "Syrian Arab Republic",
          "Paraguay",
          "Sudan",
          "Ethiopia",
          "Afghanistan",
          "Uzbekistan",
          "Mongolia",
          "Nicaragua",
          "Bolivia, Plurinational State of",
          "Libya",
          "Azerbaijan",
          "Panama",
          "Yemen",
          "Honduras",
          "Jamaica",
          "Kuwait",
          "Congo",
          "Trinidad and Tobago",
          "Haiti",
          "Namibia",
          "Madagascar",
          "Fiji",
          "Senegal",
          "Moldova, Republic of",
          "Guyana",
          "Botswana",
          "Malawi",
          "Mali",
          "Togo",
          "Zambia",
          "Bhutan",
          "Kyrgyzstan",
          "Oman",
          "Djibouti",
          "Mauritania",
          "Bahrain",
          "Mozambique"
         ],
         "legendgroup": "",
         "locations": [
          "USA",
          "IND",
          "DEU",
          "GBR",
          "CAN",
          "BRA",
          "AUS",
          "NLD",
          "FRA",
          "RUS",
          "POL",
          "ESP",
          "ITA",
          "CHE",
          "IRN",
          "SWE",
          "PAK",
          "TUR",
          "ZAF",
          "MEX",
          "DNK",
          "ISR",
          "BEL",
          "BGD",
          "AUT",
          "GRC",
          "CZE",
          "UKR",
          "NOR",
          "FIN",
          "IDN",
          "ROU",
          "ARG",
          "BGR",
          "PRT",
          "NGA",
          "PHL",
          "IRL",
          "NZL",
          "JPN",
          "CHN",
          "HUN",
          "CHL",
          "THA",
          "SVN",
          "MYS",
          "SRB",
          "KEN",
          "COL",
          "SGP",
          "EGY",
          "HRV",
          "LKA",
          "LTU",
          "VNM",
          "SVK",
          "TWN",
          "HKG",
          "NPL",
          "ARE",
          "LVA",
          "KOR",
          "TUN",
          "LBN",
          "EST",
          "BLR",
          "MAR",
          "SAU",
          "CRI",
          "SLV",
          "URY",
          "UGA",
          "ECU",
          "DOM",
          "PER",
          "ALB",
          "DZA",
          "GHA",
          "CMR",
          "GEO",
          "MMR",
          "TZA",
          "ARM",
          "KHM",
          "JOR",
          "GTM",
          "VEN",
          "LUX",
          "CIV",
          "CUB",
          "BIH",
          "MUS",
          "MKD",
          "ZWE",
          "QAT",
          "CYP",
          "ISL",
          "MLT",
          "MNE",
          "KAZ",
          "SYR",
          "PRY",
          "SDN",
          "ETH",
          "AFG",
          "UZB",
          "MNG",
          "NIC",
          "BOL",
          "LBY",
          "AZE",
          "PAN",
          "YEM",
          "HND",
          "JAM",
          "KWT",
          "COG",
          "TTO",
          "HTI",
          "NAM",
          "MDG",
          "FJI",
          "SEN",
          "MDA",
          "GUY",
          "BWA",
          "MWI",
          "MLI",
          "TGO",
          "ZMB",
          "BTN",
          "KGZ",
          "OMN",
          "DJI",
          "MRT",
          "BHR",
          "MOZ"
         ],
         "marker": {
          "color": [
           33.71027713625866,
           26.333079847908746,
           31.86677419354839,
           35.15669014084507,
           32.826210826210826,
           30.640495867768596,
           35.11572052401747,
           32.242990654205606,
           30.05687203791469,
           29.9672131147541,
           30.388571428571428,
           32.029761904761905,
           33.418238993710695,
           32.32608695652174,
           27.545045045045047,
           32.27777777777778,
           26.898019801980197,
           30.76530612244898,
           33.35204081632653,
           29.49462365591398,
           35.21590909090909,
           32.82738095238095,
           34.70238095238095,
           27.280701754385966,
           31.58108108108108,
           32.507246376811594,
           32.73913043478261,
           30.15625,
           34.49180327868852,
           33.375,
           26.8125,
           29.36,
           32.810344827586206,
           30.254545454545454,
           32.38181818181818,
           26.785714285714285,
           27.725,
           35.891304347826086,
           34.93478260869565,
           30.261904761904763,
           30.78787878787879,
           32.883720930232556,
           33.24390243902439,
           34,
           32.47222222222222,
           30.875,
           32.12903225806452,
           25.724137931034484,
           30.875,
           29.346153846153847,
           27.857142857142858,
           30.82758620689655,
           25.153846153846153,
           30.466666666666665,
           29,
           29.76923076923077,
           28.272727272727273,
           27.47826086956522,
           24.272727272727273,
           30.57894736842105,
           31.5,
           33,
           28.642857142857142,
           28.375,
           31.4375,
           26.846153846153847,
           30.727272727272727,
           29.384615384615383,
           30.833333333333332,
           32.083333333333336,
           34.15384615384615,
           28.818181818181817,
           33.84615384615385,
           28.363636363636363,
           31.5,
           26.454545454545453,
           34.22222222222222,
           26.88888888888889,
           26.285714285714285,
           29.857142857142858,
           25.571428571428573,
           27.3,
           27,
           23,
           34.22222222222222,
           29.285714285714285,
           34.375,
           33.42857142857143,
           33.4,
           27.428571428571427,
           31.5,
           26.285714285714285,
           29.5,
           28.166666666666668,
           32.4,
           31.333333333333332,
           32.75,
           28.5,
           26,
           27.2,
           22.8,
           27.5,
           25,
           22.333333333333332,
           27.666666666666668,
           32.666666666666664,
           24.5,
           26.5,
           34.333333333333336,
           33.333333333333336,
           26.25,
           44.666666666666664,
           26.666666666666668,
           31.666666666666668,
           29.666666666666668,
           31,
           32.333333333333336,
           33.333333333333336,
           25.5,
           28.5,
           24.5,
           52,
           34,
           24,
           21,
           32,
           26,
           24,
           21,
           28,
           24,
           31,
           14,
           39,
           36,
           38,
           29
          ],
          "coloraxis": "coloraxis",
          "size": [
           33.71027713625866,
           26.333079847908746,
           31.86677419354839,
           35.15669014084507,
           32.826210826210826,
           30.640495867768596,
           35.11572052401747,
           32.242990654205606,
           30.05687203791469,
           29.9672131147541,
           30.388571428571428,
           32.029761904761905,
           33.418238993710695,
           32.32608695652174,
           27.545045045045047,
           32.27777777777778,
           26.898019801980197,
           30.76530612244898,
           33.35204081632653,
           29.49462365591398,
           35.21590909090909,
           32.82738095238095,
           34.70238095238095,
           27.280701754385966,
           31.58108108108108,
           32.507246376811594,
           32.73913043478261,
           30.15625,
           34.49180327868852,
           33.375,
           26.8125,
           29.36,
           32.810344827586206,
           30.254545454545454,
           32.38181818181818,
           26.785714285714285,
           27.725,
           35.891304347826086,
           34.93478260869565,
           30.261904761904763,
           30.78787878787879,
           32.883720930232556,
           33.24390243902439,
           34,
           32.47222222222222,
           30.875,
           32.12903225806452,
           25.724137931034484,
           30.875,
           29.346153846153847,
           27.857142857142858,
           30.82758620689655,
           25.153846153846153,
           30.466666666666665,
           29,
           29.76923076923077,
           28.272727272727273,
           27.47826086956522,
           24.272727272727273,
           30.57894736842105,
           31.5,
           33,
           28.642857142857142,
           28.375,
           31.4375,
           26.846153846153847,
           30.727272727272727,
           29.384615384615383,
           30.833333333333332,
           32.083333333333336,
           34.15384615384615,
           28.818181818181817,
           33.84615384615385,
           28.363636363636363,
           31.5,
           26.454545454545453,
           34.22222222222222,
           26.88888888888889,
           26.285714285714285,
           29.857142857142858,
           25.571428571428573,
           27.3,
           27,
           23,
           34.22222222222222,
           29.285714285714285,
           34.375,
           33.42857142857143,
           33.4,
           27.428571428571427,
           31.5,
           26.285714285714285,
           29.5,
           28.166666666666668,
           32.4,
           31.333333333333332,
           32.75,
           28.5,
           26,
           27.2,
           22.8,
           27.5,
           25,
           22.333333333333332,
           27.666666666666668,
           32.666666666666664,
           24.5,
           26.5,
           34.333333333333336,
           33.333333333333336,
           26.25,
           44.666666666666664,
           26.666666666666668,
           31.666666666666668,
           29.666666666666668,
           31,
           32.333333333333336,
           33.333333333333336,
           25.5,
           28.5,
           24.5,
           52,
           34,
           24,
           21,
           32,
           26,
           24,
           21,
           28,
           24,
           31,
           14,
           39,
           36,
           38,
           29
          ],
          "sizemode": "area",
          "sizeref": 0.13
         },
         "name": "",
         "showlegend": false,
         "type": "scattergeo"
        }
       ],
       "layout": {
        "coloraxis": {
         "colorbar": {
          "title": {
           "text": "Age"
          }
         },
         "colorscale": [
          [
           0,
           "#0d0887"
          ],
          [
           0.1111111111111111,
           "#46039f"
          ],
          [
           0.2222222222222222,
           "#7201a8"
          ],
          [
           0.3333333333333333,
           "#9c179e"
          ],
          [
           0.4444444444444444,
           "#bd3786"
          ],
          [
           0.5555555555555556,
           "#d8576b"
          ],
          [
           0.6666666666666666,
           "#ed7953"
          ],
          [
           0.7777777777777778,
           "#fb9f3a"
          ],
          [
           0.8888888888888888,
           "#fdca26"
          ],
          [
           1,
           "#f0f921"
          ]
         ]
        },
        "geo": {
         "center": {},
         "domain": {
          "x": [
           0,
           0.98
          ],
          "y": [
           0,
           1
          ]
         },
         "projection": {
          "type": "natural earth"
         }
        },
        "height": 600,
        "legend": {
         "itemsizing": "constant",
         "tracegroupgap": 0
        },
        "margin": {
         "t": 60
        },
        "template": {
         "data": {
          "bar": [
           {
            "error_x": {
             "color": "#2a3f5f"
            },
            "error_y": {
             "color": "#2a3f5f"
            },
            "marker": {
             "line": {
              "color": "#E5ECF6",
              "width": 0.5
             }
            },
            "type": "bar"
           }
          ],
          "barpolar": [
           {
            "marker": {
             "line": {
              "color": "#E5ECF6",
              "width": 0.5
             }
            },
            "type": "barpolar"
           }
          ],
          "carpet": [
           {
            "aaxis": {
             "endlinecolor": "#2a3f5f",
             "gridcolor": "white",
             "linecolor": "white",
             "minorgridcolor": "white",
             "startlinecolor": "#2a3f5f"
            },
            "baxis": {
             "endlinecolor": "#2a3f5f",
             "gridcolor": "white",
             "linecolor": "white",
             "minorgridcolor": "white",
             "startlinecolor": "#2a3f5f"
            },
            "type": "carpet"
           }
          ],
          "choropleth": [
           {
            "colorbar": {
             "outlinewidth": 0,
             "ticks": ""
            },
            "type": "choropleth"
           }
          ],
          "contour": [
           {
            "colorbar": {
             "outlinewidth": 0,
             "ticks": ""
            },
            "colorscale": [
             [
              0,
              "#0d0887"
             ],
             [
              0.1111111111111111,
              "#46039f"
             ],
             [
              0.2222222222222222,
              "#7201a8"
             ],
             [
              0.3333333333333333,
              "#9c179e"
             ],
             [
              0.4444444444444444,
              "#bd3786"
             ],
             [
              0.5555555555555556,
              "#d8576b"
             ],
             [
              0.6666666666666666,
              "#ed7953"
             ],
             [
              0.7777777777777778,
              "#fb9f3a"
             ],
             [
              0.8888888888888888,
              "#fdca26"
             ],
             [
              1,
              "#f0f921"
             ]
            ],
            "type": "contour"
           }
          ],
          "contourcarpet": [
           {
            "colorbar": {
             "outlinewidth": 0,
             "ticks": ""
            },
            "type": "contourcarpet"
           }
          ],
          "heatmap": [
           {
            "colorbar": {
             "outlinewidth": 0,
             "ticks": ""
            },
            "colorscale": [
             [
              0,
              "#0d0887"
             ],
             [
              0.1111111111111111,
              "#46039f"
             ],
             [
              0.2222222222222222,
              "#7201a8"
             ],
             [
              0.3333333333333333,
              "#9c179e"
             ],
             [
              0.4444444444444444,
              "#bd3786"
             ],
             [
              0.5555555555555556,
              "#d8576b"
             ],
             [
              0.6666666666666666,
              "#ed7953"
             ],
             [
              0.7777777777777778,
              "#fb9f3a"
             ],
             [
              0.8888888888888888,
              "#fdca26"
             ],
             [
              1,
              "#f0f921"
             ]
            ],
            "type": "heatmap"
           }
          ],
          "heatmapgl": [
           {
            "colorbar": {
             "outlinewidth": 0,
             "ticks": ""
            },
            "colorscale": [
             [
              0,
              "#0d0887"
             ],
             [
              0.1111111111111111,
              "#46039f"
             ],
             [
              0.2222222222222222,
              "#7201a8"
             ],
             [
              0.3333333333333333,
              "#9c179e"
             ],
             [
              0.4444444444444444,
              "#bd3786"
             ],
             [
              0.5555555555555556,
              "#d8576b"
             ],
             [
              0.6666666666666666,
              "#ed7953"
             ],
             [
              0.7777777777777778,
              "#fb9f3a"
             ],
             [
              0.8888888888888888,
              "#fdca26"
             ],
             [
              1,
              "#f0f921"
             ]
            ],
            "type": "heatmapgl"
           }
          ],
          "histogram": [
           {
            "marker": {
             "colorbar": {
              "outlinewidth": 0,
              "ticks": ""
             }
            },
            "type": "histogram"
           }
          ],
          "histogram2d": [
           {
            "colorbar": {
             "outlinewidth": 0,
             "ticks": ""
            },
            "colorscale": [
             [
              0,
              "#0d0887"
             ],
             [
              0.1111111111111111,
              "#46039f"
             ],
             [
              0.2222222222222222,
              "#7201a8"
             ],
             [
              0.3333333333333333,
              "#9c179e"
             ],
             [
              0.4444444444444444,
              "#bd3786"
             ],
             [
              0.5555555555555556,
              "#d8576b"
             ],
             [
              0.6666666666666666,
              "#ed7953"
             ],
             [
              0.7777777777777778,
              "#fb9f3a"
             ],
             [
              0.8888888888888888,
              "#fdca26"
             ],
             [
              1,
              "#f0f921"
             ]
            ],
            "type": "histogram2d"
           }
          ],
          "histogram2dcontour": [
           {
            "colorbar": {
             "outlinewidth": 0,
             "ticks": ""
            },
            "colorscale": [
             [
              0,
              "#0d0887"
             ],
             [
              0.1111111111111111,
              "#46039f"
             ],
             [
              0.2222222222222222,
              "#7201a8"
             ],
             [
              0.3333333333333333,
              "#9c179e"
             ],
             [
              0.4444444444444444,
              "#bd3786"
             ],
             [
              0.5555555555555556,
              "#d8576b"
             ],
             [
              0.6666666666666666,
              "#ed7953"
             ],
             [
              0.7777777777777778,
              "#fb9f3a"
             ],
             [
              0.8888888888888888,
              "#fdca26"
             ],
             [
              1,
              "#f0f921"
             ]
            ],
            "type": "histogram2dcontour"
           }
          ],
          "mesh3d": [
           {
            "colorbar": {
             "outlinewidth": 0,
             "ticks": ""
            },
            "type": "mesh3d"
           }
          ],
          "parcoords": [
           {
            "line": {
             "colorbar": {
              "outlinewidth": 0,
              "ticks": ""
             }
            },
            "type": "parcoords"
           }
          ],
          "scatter": [
           {
            "marker": {
             "colorbar": {
              "outlinewidth": 0,
              "ticks": ""
             }
            },
            "type": "scatter"
           }
          ],
          "scatter3d": [
           {
            "line": {
             "colorbar": {
              "outlinewidth": 0,
              "ticks": ""
             }
            },
            "marker": {
             "colorbar": {
              "outlinewidth": 0,
              "ticks": ""
             }
            },
            "type": "scatter3d"
           }
          ],
          "scattercarpet": [
           {
            "marker": {
             "colorbar": {
              "outlinewidth": 0,
              "ticks": ""
             }
            },
            "type": "scattercarpet"
           }
          ],
          "scattergeo": [
           {
            "marker": {
             "colorbar": {
              "outlinewidth": 0,
              "ticks": ""
             }
            },
            "type": "scattergeo"
           }
          ],
          "scattergl": [
           {
            "marker": {
             "colorbar": {
              "outlinewidth": 0,
              "ticks": ""
             }
            },
            "type": "scattergl"
           }
          ],
          "scattermapbox": [
           {
            "marker": {
             "colorbar": {
              "outlinewidth": 0,
              "ticks": ""
             }
            },
            "type": "scattermapbox"
           }
          ],
          "scatterpolar": [
           {
            "marker": {
             "colorbar": {
              "outlinewidth": 0,
              "ticks": ""
             }
            },
            "type": "scatterpolar"
           }
          ],
          "scatterpolargl": [
           {
            "marker": {
             "colorbar": {
              "outlinewidth": 0,
              "ticks": ""
             }
            },
            "type": "scatterpolargl"
           }
          ],
          "scatterternary": [
           {
            "marker": {
             "colorbar": {
              "outlinewidth": 0,
              "ticks": ""
             }
            },
            "type": "scatterternary"
           }
          ],
          "surface": [
           {
            "colorbar": {
             "outlinewidth": 0,
             "ticks": ""
            },
            "colorscale": [
             [
              0,
              "#0d0887"
             ],
             [
              0.1111111111111111,
              "#46039f"
             ],
             [
              0.2222222222222222,
              "#7201a8"
             ],
             [
              0.3333333333333333,
              "#9c179e"
             ],
             [
              0.4444444444444444,
              "#bd3786"
             ],
             [
              0.5555555555555556,
              "#d8576b"
             ],
             [
              0.6666666666666666,
              "#ed7953"
             ],
             [
              0.7777777777777778,
              "#fb9f3a"
             ],
             [
              0.8888888888888888,
              "#fdca26"
             ],
             [
              1,
              "#f0f921"
             ]
            ],
            "type": "surface"
           }
          ],
          "table": [
           {
            "cells": {
             "fill": {
              "color": "#EBF0F8"
             },
             "line": {
              "color": "white"
             }
            },
            "header": {
             "fill": {
              "color": "#C8D4E3"
             },
             "line": {
              "color": "white"
             }
            },
            "type": "table"
           }
          ]
         },
         "layout": {
          "annotationdefaults": {
           "arrowcolor": "#2a3f5f",
           "arrowhead": 0,
           "arrowwidth": 1
          },
          "colorscale": {
           "diverging": [
            [
             0,
             "#8e0152"
            ],
            [
             0.1,
             "#c51b7d"
            ],
            [
             0.2,
             "#de77ae"
            ],
            [
             0.3,
             "#f1b6da"
            ],
            [
             0.4,
             "#fde0ef"
            ],
            [
             0.5,
             "#f7f7f7"
            ],
            [
             0.6,
             "#e6f5d0"
            ],
            [
             0.7,
             "#b8e186"
            ],
            [
             0.8,
             "#7fbc41"
            ],
            [
             0.9,
             "#4d9221"
            ],
            [
             1,
             "#276419"
            ]
           ],
           "sequential": [
            [
             0,
             "#0d0887"
            ],
            [
             0.1111111111111111,
             "#46039f"
            ],
            [
             0.2222222222222222,
             "#7201a8"
            ],
            [
             0.3333333333333333,
             "#9c179e"
            ],
            [
             0.4444444444444444,
             "#bd3786"
            ],
            [
             0.5555555555555556,
             "#d8576b"
            ],
            [
             0.6666666666666666,
             "#ed7953"
            ],
            [
             0.7777777777777778,
             "#fb9f3a"
            ],
            [
             0.8888888888888888,
             "#fdca26"
            ],
            [
             1,
             "#f0f921"
            ]
           ],
           "sequentialminus": [
            [
             0,
             "#0d0887"
            ],
            [
             0.1111111111111111,
             "#46039f"
            ],
            [
             0.2222222222222222,
             "#7201a8"
            ],
            [
             0.3333333333333333,
             "#9c179e"
            ],
            [
             0.4444444444444444,
             "#bd3786"
            ],
            [
             0.5555555555555556,
             "#d8576b"
            ],
            [
             0.6666666666666666,
             "#ed7953"
            ],
            [
             0.7777777777777778,
             "#fb9f3a"
            ],
            [
             0.8888888888888888,
             "#fdca26"
            ],
            [
             1,
             "#f0f921"
            ]
           ]
          },
          "colorway": [
           "#636efa",
           "#EF553B",
           "#00cc96",
           "#ab63fa",
           "#FFA15A",
           "#19d3f3",
           "#FF6692",
           "#B6E880",
           "#FF97FF",
           "#FECB52"
          ],
          "font": {
           "color": "#2a3f5f"
          },
          "geo": {
           "bgcolor": "white",
           "lakecolor": "white",
           "landcolor": "#E5ECF6",
           "showlakes": true,
           "showland": true,
           "subunitcolor": "white"
          },
          "hoverlabel": {
           "align": "left"
          },
          "hovermode": "closest",
          "mapbox": {
           "style": "light"
          },
          "paper_bgcolor": "white",
          "plot_bgcolor": "#E5ECF6",
          "polar": {
           "angularaxis": {
            "gridcolor": "white",
            "linecolor": "white",
            "ticks": ""
           },
           "bgcolor": "#E5ECF6",
           "radialaxis": {
            "gridcolor": "white",
            "linecolor": "white",
            "ticks": ""
           }
          },
          "scene": {
           "xaxis": {
            "backgroundcolor": "#E5ECF6",
            "gridcolor": "white",
            "gridwidth": 2,
            "linecolor": "white",
            "showbackground": true,
            "ticks": "",
            "zerolinecolor": "white"
           },
           "yaxis": {
            "backgroundcolor": "#E5ECF6",
            "gridcolor": "white",
            "gridwidth": 2,
            "linecolor": "white",
            "showbackground": true,
            "ticks": "",
            "zerolinecolor": "white"
           },
           "zaxis": {
            "backgroundcolor": "#E5ECF6",
            "gridcolor": "white",
            "gridwidth": 2,
            "linecolor": "white",
            "showbackground": true,
            "ticks": "",
            "zerolinecolor": "white"
           }
          },
          "shapedefaults": {
           "line": {
            "color": "#2a3f5f"
           }
          },
          "ternary": {
           "aaxis": {
            "gridcolor": "white",
            "linecolor": "white",
            "ticks": ""
           },
           "baxis": {
            "gridcolor": "white",
            "linecolor": "white",
            "ticks": ""
           },
           "bgcolor": "#E5ECF6",
           "caxis": {
            "gridcolor": "white",
            "linecolor": "white",
            "ticks": ""
           }
          },
          "title": {
           "x": 0.05
          },
          "xaxis": {
           "automargin": true,
           "gridcolor": "white",
           "linecolor": "white",
           "ticks": "",
           "zerolinecolor": "white",
           "zerolinewidth": 2
          },
          "yaxis": {
           "automargin": true,
           "gridcolor": "white",
           "linecolor": "white",
           "ticks": "",
           "zerolinecolor": "white",
           "zerolinewidth": 2
          }
         }
        }
       }
      },
      "text/html": [
       "<div>\n",
       "        \n",
       "        \n",
       "            <div id=\"0d10b15a-0e5d-49e9-bdc7-3e3105b03747\" class=\"plotly-graph-div\" style=\"height:600px; width:100%;\"></div>\n",
       "            <script type=\"text/javascript\">\n",
       "                require([\"plotly\"], function(Plotly) {\n",
       "                    window.PLOTLYENV=window.PLOTLYENV || {};\n",
       "                    \n",
       "                if (document.getElementById(\"0d10b15a-0e5d-49e9-bdc7-3e3105b03747\")) {\n",
       "                    Plotly.newPlot(\n",
       "                        '0d10b15a-0e5d-49e9-bdc7-3e3105b03747',\n",
       "                        [{\"geo\": \"geo\", \"hoverlabel\": {\"namelength\": 0}, \"hovertemplate\": \"<b>%{hovertext}</b><br><br>Age=%{marker.color}<br>iso_alpha=%{location}\", \"hovertext\": [\"United States\", \"India\", \"Germany\", \"United Kingdom\", \"Canada\", \"Brazil\", \"Australia\", \"Netherlands\", \"France\", \"Russian Federation\", \"Poland\", \"Spain\", \"Italy\", \"Switzerland\", \"Iran, Islamic Republic of\", \"Sweden\", \"Pakistan\", \"Turkey\", \"South Africa\", \"Mexico\", \"Denmark\", \"Israel\", \"Belgium\", \"Bangladesh\", \"Austria\", \"Greece\", \"Czechia\", \"Ukraine\", \"Norway\", \"Finland\", \"Indonesia\", \"Romania\", \"Argentina\", \"Bulgaria\", \"Portugal\", \"Nigeria\", \"Philippines\", \"Ireland\", \"New Zealand\", \"Japan\", \"China\", \"Hungary\", \"Chile\", \"Thailand\", \"Slovenia\", \"Malaysia\", \"Serbia\", \"Kenya\", \"Colombia\", \"Singapore\", \"Egypt\", \"Croatia\", \"Sri Lanka\", \"Lithuania\", \"Viet Nam\", \"Slovakia\", \"Taiwan, Province of China\", \"Hong Kong\", \"Nepal\", \"United Arab Emirates\", \"Latvia\", \"Korea, Republic of\", \"Tunisia\", \"Lebanon\", \"Estonia\", \"Belarus\", \"Morocco\", \"Saudi Arabia\", \"Costa Rica\", \"El Salvador\", \"Uruguay\", \"Uganda\", \"Ecuador\", \"Dominican Republic\", \"Peru\", \"Albania\", \"Algeria\", \"Ghana\", \"Cameroon\", \"Georgia\", \"Myanmar\", \"Tanzania, United Republic of\", \"Armenia\", \"Cambodia\", \"Jordan\", \"Guatemala\", \"Venezuela, Bolivarian Republic of\", \"Luxembourg\", \"C\\u00f4te d'Ivoire\", \"Cuba\", \"Bosnia and Herzegovina\", \"Mauritius\", \"North Macedonia\", \"Zimbabwe\", \"Qatar\", \"Cyprus\", \"Iceland\", \"Malta\", \"Montenegro\", \"Kazakhstan\", \"Syrian Arab Republic\", \"Paraguay\", \"Sudan\", \"Ethiopia\", \"Afghanistan\", \"Uzbekistan\", \"Mongolia\", \"Nicaragua\", \"Bolivia, Plurinational State of\", \"Libya\", \"Azerbaijan\", \"Panama\", \"Yemen\", \"Honduras\", \"Jamaica\", \"Kuwait\", \"Congo\", \"Trinidad and Tobago\", \"Haiti\", \"Namibia\", \"Madagascar\", \"Fiji\", \"Senegal\", \"Moldova, Republic of\", \"Guyana\", \"Botswana\", \"Malawi\", \"Mali\", \"Togo\", \"Zambia\", \"Bhutan\", \"Kyrgyzstan\", \"Oman\", \"Djibouti\", \"Mauritania\", \"Bahrain\", \"Mozambique\"], \"legendgroup\": \"\", \"locations\": [\"USA\", \"IND\", \"DEU\", \"GBR\", \"CAN\", \"BRA\", \"AUS\", \"NLD\", \"FRA\", \"RUS\", \"POL\", \"ESP\", \"ITA\", \"CHE\", \"IRN\", \"SWE\", \"PAK\", \"TUR\", \"ZAF\", \"MEX\", \"DNK\", \"ISR\", \"BEL\", \"BGD\", \"AUT\", \"GRC\", \"CZE\", \"UKR\", \"NOR\", \"FIN\", \"IDN\", \"ROU\", \"ARG\", \"BGR\", \"PRT\", \"NGA\", \"PHL\", \"IRL\", \"NZL\", \"JPN\", \"CHN\", \"HUN\", \"CHL\", \"THA\", \"SVN\", \"MYS\", \"SRB\", \"KEN\", \"COL\", \"SGP\", \"EGY\", \"HRV\", \"LKA\", \"LTU\", \"VNM\", \"SVK\", \"TWN\", \"HKG\", \"NPL\", \"ARE\", \"LVA\", \"KOR\", \"TUN\", \"LBN\", \"EST\", \"BLR\", \"MAR\", \"SAU\", \"CRI\", \"SLV\", \"URY\", \"UGA\", \"ECU\", \"DOM\", \"PER\", \"ALB\", \"DZA\", \"GHA\", \"CMR\", \"GEO\", \"MMR\", \"TZA\", \"ARM\", \"KHM\", \"JOR\", \"GTM\", \"VEN\", \"LUX\", \"CIV\", \"CUB\", \"BIH\", \"MUS\", \"MKD\", \"ZWE\", \"QAT\", \"CYP\", \"ISL\", \"MLT\", \"MNE\", \"KAZ\", \"SYR\", \"PRY\", \"SDN\", \"ETH\", \"AFG\", \"UZB\", \"MNG\", \"NIC\", \"BOL\", \"LBY\", \"AZE\", \"PAN\", \"YEM\", \"HND\", \"JAM\", \"KWT\", \"COG\", \"TTO\", \"HTI\", \"NAM\", \"MDG\", \"FJI\", \"SEN\", \"MDA\", \"GUY\", \"BWA\", \"MWI\", \"MLI\", \"TGO\", \"ZMB\", \"BTN\", \"KGZ\", \"OMN\", \"DJI\", \"MRT\", \"BHR\", \"MOZ\"], \"marker\": {\"color\": [33.71027713625866, 26.333079847908746, 31.86677419354839, 35.15669014084507, 32.826210826210826, 30.640495867768596, 35.11572052401747, 32.242990654205606, 30.05687203791469, 29.9672131147541, 30.388571428571428, 32.029761904761905, 33.418238993710695, 32.32608695652174, 27.545045045045047, 32.27777777777778, 26.898019801980197, 30.76530612244898, 33.35204081632653, 29.49462365591398, 35.21590909090909, 32.82738095238095, 34.70238095238095, 27.280701754385966, 31.58108108108108, 32.507246376811594, 32.73913043478261, 30.15625, 34.49180327868852, 33.375, 26.8125, 29.36, 32.810344827586206, 30.254545454545454, 32.38181818181818, 26.785714285714285, 27.725, 35.891304347826086, 34.93478260869565, 30.261904761904763, 30.78787878787879, 32.883720930232556, 33.24390243902439, 34.0, 32.47222222222222, 30.875, 32.12903225806452, 25.724137931034484, 30.875, 29.346153846153847, 27.857142857142858, 30.82758620689655, 25.153846153846153, 30.466666666666665, 29.0, 29.76923076923077, 28.272727272727273, 27.47826086956522, 24.272727272727273, 30.57894736842105, 31.5, 33.0, 28.642857142857142, 28.375, 31.4375, 26.846153846153847, 30.727272727272727, 29.384615384615383, 30.833333333333332, 32.083333333333336, 34.15384615384615, 28.818181818181817, 33.84615384615385, 28.363636363636363, 31.5, 26.454545454545453, 34.22222222222222, 26.88888888888889, 26.285714285714285, 29.857142857142858, 25.571428571428573, 27.3, 27.0, 23.0, 34.22222222222222, 29.285714285714285, 34.375, 33.42857142857143, 33.4, 27.428571428571427, 31.5, 26.285714285714285, 29.5, 28.166666666666668, 32.4, 31.333333333333332, 32.75, 28.5, 26.0, 27.2, 22.8, 27.5, 25.0, 22.333333333333332, 27.666666666666668, 32.666666666666664, 24.5, 26.5, 34.333333333333336, 33.333333333333336, 26.25, 44.666666666666664, 26.666666666666668, 31.666666666666668, 29.666666666666668, 31.0, 32.333333333333336, 33.333333333333336, 25.5, 28.5, 24.5, 52.0, 34.0, 24.0, 21.0, 32.0, 26.0, 24.0, 21.0, 28.0, 24.0, 31.0, 14.0, 39.0, 36.0, 38.0, 29.0], \"coloraxis\": \"coloraxis\", \"size\": [33.71027713625866, 26.333079847908746, 31.86677419354839, 35.15669014084507, 32.826210826210826, 30.640495867768596, 35.11572052401747, 32.242990654205606, 30.05687203791469, 29.9672131147541, 30.388571428571428, 32.029761904761905, 33.418238993710695, 32.32608695652174, 27.545045045045047, 32.27777777777778, 26.898019801980197, 30.76530612244898, 33.35204081632653, 29.49462365591398, 35.21590909090909, 32.82738095238095, 34.70238095238095, 27.280701754385966, 31.58108108108108, 32.507246376811594, 32.73913043478261, 30.15625, 34.49180327868852, 33.375, 26.8125, 29.36, 32.810344827586206, 30.254545454545454, 32.38181818181818, 26.785714285714285, 27.725, 35.891304347826086, 34.93478260869565, 30.261904761904763, 30.78787878787879, 32.883720930232556, 33.24390243902439, 34.0, 32.47222222222222, 30.875, 32.12903225806452, 25.724137931034484, 30.875, 29.346153846153847, 27.857142857142858, 30.82758620689655, 25.153846153846153, 30.466666666666665, 29.0, 29.76923076923077, 28.272727272727273, 27.47826086956522, 24.272727272727273, 30.57894736842105, 31.5, 33.0, 28.642857142857142, 28.375, 31.4375, 26.846153846153847, 30.727272727272727, 29.384615384615383, 30.833333333333332, 32.083333333333336, 34.15384615384615, 28.818181818181817, 33.84615384615385, 28.363636363636363, 31.5, 26.454545454545453, 34.22222222222222, 26.88888888888889, 26.285714285714285, 29.857142857142858, 25.571428571428573, 27.3, 27.0, 23.0, 34.22222222222222, 29.285714285714285, 34.375, 33.42857142857143, 33.4, 27.428571428571427, 31.5, 26.285714285714285, 29.5, 28.166666666666668, 32.4, 31.333333333333332, 32.75, 28.5, 26.0, 27.2, 22.8, 27.5, 25.0, 22.333333333333332, 27.666666666666668, 32.666666666666664, 24.5, 26.5, 34.333333333333336, 33.333333333333336, 26.25, 44.666666666666664, 26.666666666666668, 31.666666666666668, 29.666666666666668, 31.0, 32.333333333333336, 33.333333333333336, 25.5, 28.5, 24.5, 52.0, 34.0, 24.0, 21.0, 32.0, 26.0, 24.0, 21.0, 28.0, 24.0, 31.0, 14.0, 39.0, 36.0, 38.0, 29.0], \"sizemode\": \"area\", \"sizeref\": 0.13}, \"name\": \"\", \"showlegend\": false, \"type\": \"scattergeo\"}],\n",
       "                        {\"coloraxis\": {\"colorbar\": {\"title\": {\"text\": \"Age\"}}, \"colorscale\": [[0.0, \"#0d0887\"], [0.1111111111111111, \"#46039f\"], [0.2222222222222222, \"#7201a8\"], [0.3333333333333333, \"#9c179e\"], [0.4444444444444444, \"#bd3786\"], [0.5555555555555556, \"#d8576b\"], [0.6666666666666666, \"#ed7953\"], [0.7777777777777778, \"#fb9f3a\"], [0.8888888888888888, \"#fdca26\"], [1.0, \"#f0f921\"]]}, \"geo\": {\"center\": {}, \"domain\": {\"x\": [0.0, 0.98], \"y\": [0.0, 1.0]}, \"projection\": {\"type\": \"natural earth\"}}, \"height\": 600, \"legend\": {\"itemsizing\": \"constant\", \"tracegroupgap\": 0}, \"margin\": {\"t\": 60}, \"template\": {\"data\": {\"bar\": [{\"error_x\": {\"color\": \"#2a3f5f\"}, \"error_y\": {\"color\": \"#2a3f5f\"}, \"marker\": {\"line\": {\"color\": \"#E5ECF6\", \"width\": 0.5}}, \"type\": \"bar\"}], \"barpolar\": [{\"marker\": {\"line\": {\"color\": \"#E5ECF6\", \"width\": 0.5}}, \"type\": \"barpolar\"}], \"carpet\": [{\"aaxis\": {\"endlinecolor\": \"#2a3f5f\", \"gridcolor\": \"white\", \"linecolor\": \"white\", \"minorgridcolor\": \"white\", \"startlinecolor\": \"#2a3f5f\"}, \"baxis\": {\"endlinecolor\": \"#2a3f5f\", \"gridcolor\": \"white\", \"linecolor\": \"white\", \"minorgridcolor\": \"white\", \"startlinecolor\": \"#2a3f5f\"}, \"type\": \"carpet\"}], \"choropleth\": [{\"colorbar\": {\"outlinewidth\": 0, \"ticks\": \"\"}, \"type\": \"choropleth\"}], \"contour\": [{\"colorbar\": {\"outlinewidth\": 0, \"ticks\": \"\"}, \"colorscale\": [[0.0, \"#0d0887\"], [0.1111111111111111, \"#46039f\"], [0.2222222222222222, \"#7201a8\"], [0.3333333333333333, \"#9c179e\"], [0.4444444444444444, \"#bd3786\"], [0.5555555555555556, \"#d8576b\"], [0.6666666666666666, \"#ed7953\"], [0.7777777777777778, \"#fb9f3a\"], [0.8888888888888888, \"#fdca26\"], [1.0, \"#f0f921\"]], \"type\": \"contour\"}], \"contourcarpet\": [{\"colorbar\": {\"outlinewidth\": 0, \"ticks\": \"\"}, \"type\": \"contourcarpet\"}], \"heatmap\": [{\"colorbar\": {\"outlinewidth\": 0, \"ticks\": \"\"}, \"colorscale\": [[0.0, \"#0d0887\"], [0.1111111111111111, \"#46039f\"], [0.2222222222222222, \"#7201a8\"], [0.3333333333333333, \"#9c179e\"], [0.4444444444444444, \"#bd3786\"], [0.5555555555555556, \"#d8576b\"], [0.6666666666666666, \"#ed7953\"], [0.7777777777777778, \"#fb9f3a\"], [0.8888888888888888, \"#fdca26\"], [1.0, \"#f0f921\"]], \"type\": \"heatmap\"}], \"heatmapgl\": [{\"colorbar\": {\"outlinewidth\": 0, \"ticks\": \"\"}, \"colorscale\": [[0.0, \"#0d0887\"], [0.1111111111111111, \"#46039f\"], [0.2222222222222222, \"#7201a8\"], [0.3333333333333333, \"#9c179e\"], [0.4444444444444444, \"#bd3786\"], [0.5555555555555556, \"#d8576b\"], [0.6666666666666666, \"#ed7953\"], [0.7777777777777778, \"#fb9f3a\"], [0.8888888888888888, \"#fdca26\"], [1.0, \"#f0f921\"]], \"type\": \"heatmapgl\"}], \"histogram\": [{\"marker\": {\"colorbar\": {\"outlinewidth\": 0, \"ticks\": \"\"}}, \"type\": \"histogram\"}], \"histogram2d\": [{\"colorbar\": {\"outlinewidth\": 0, \"ticks\": \"\"}, \"colorscale\": [[0.0, \"#0d0887\"], [0.1111111111111111, \"#46039f\"], [0.2222222222222222, \"#7201a8\"], [0.3333333333333333, \"#9c179e\"], [0.4444444444444444, \"#bd3786\"], [0.5555555555555556, \"#d8576b\"], [0.6666666666666666, \"#ed7953\"], [0.7777777777777778, \"#fb9f3a\"], [0.8888888888888888, \"#fdca26\"], [1.0, \"#f0f921\"]], \"type\": \"histogram2d\"}], \"histogram2dcontour\": [{\"colorbar\": {\"outlinewidth\": 0, \"ticks\": \"\"}, \"colorscale\": [[0.0, \"#0d0887\"], [0.1111111111111111, \"#46039f\"], [0.2222222222222222, \"#7201a8\"], [0.3333333333333333, \"#9c179e\"], [0.4444444444444444, \"#bd3786\"], [0.5555555555555556, \"#d8576b\"], [0.6666666666666666, \"#ed7953\"], [0.7777777777777778, \"#fb9f3a\"], [0.8888888888888888, \"#fdca26\"], [1.0, \"#f0f921\"]], \"type\": \"histogram2dcontour\"}], \"mesh3d\": [{\"colorbar\": {\"outlinewidth\": 0, \"ticks\": \"\"}, \"type\": \"mesh3d\"}], \"parcoords\": [{\"line\": {\"colorbar\": {\"outlinewidth\": 0, \"ticks\": \"\"}}, \"type\": \"parcoords\"}], \"scatter\": [{\"marker\": {\"colorbar\": {\"outlinewidth\": 0, \"ticks\": \"\"}}, \"type\": \"scatter\"}], \"scatter3d\": [{\"line\": {\"colorbar\": {\"outlinewidth\": 0, \"ticks\": \"\"}}, \"marker\": {\"colorbar\": {\"outlinewidth\": 0, \"ticks\": \"\"}}, \"type\": \"scatter3d\"}], \"scattercarpet\": [{\"marker\": {\"colorbar\": {\"outlinewidth\": 0, \"ticks\": \"\"}}, \"type\": \"scattercarpet\"}], \"scattergeo\": [{\"marker\": {\"colorbar\": {\"outlinewidth\": 0, \"ticks\": \"\"}}, \"type\": \"scattergeo\"}], \"scattergl\": [{\"marker\": {\"colorbar\": {\"outlinewidth\": 0, \"ticks\": \"\"}}, \"type\": \"scattergl\"}], \"scattermapbox\": [{\"marker\": {\"colorbar\": {\"outlinewidth\": 0, \"ticks\": \"\"}}, \"type\": \"scattermapbox\"}], \"scatterpolar\": [{\"marker\": {\"colorbar\": {\"outlinewidth\": 0, \"ticks\": \"\"}}, \"type\": \"scatterpolar\"}], \"scatterpolargl\": [{\"marker\": {\"colorbar\": {\"outlinewidth\": 0, \"ticks\": \"\"}}, \"type\": \"scatterpolargl\"}], \"scatterternary\": [{\"marker\": {\"colorbar\": {\"outlinewidth\": 0, \"ticks\": \"\"}}, \"type\": \"scatterternary\"}], \"surface\": [{\"colorbar\": {\"outlinewidth\": 0, \"ticks\": \"\"}, \"colorscale\": [[0.0, \"#0d0887\"], [0.1111111111111111, \"#46039f\"], [0.2222222222222222, \"#7201a8\"], [0.3333333333333333, \"#9c179e\"], [0.4444444444444444, \"#bd3786\"], [0.5555555555555556, \"#d8576b\"], [0.6666666666666666, \"#ed7953\"], [0.7777777777777778, \"#fb9f3a\"], [0.8888888888888888, \"#fdca26\"], [1.0, \"#f0f921\"]], \"type\": \"surface\"}], \"table\": [{\"cells\": {\"fill\": {\"color\": \"#EBF0F8\"}, \"line\": {\"color\": \"white\"}}, \"header\": {\"fill\": {\"color\": \"#C8D4E3\"}, \"line\": {\"color\": \"white\"}}, \"type\": \"table\"}]}, \"layout\": {\"annotationdefaults\": {\"arrowcolor\": \"#2a3f5f\", \"arrowhead\": 0, \"arrowwidth\": 1}, \"colorscale\": {\"diverging\": [[0, \"#8e0152\"], [0.1, \"#c51b7d\"], [0.2, \"#de77ae\"], [0.3, \"#f1b6da\"], [0.4, \"#fde0ef\"], [0.5, \"#f7f7f7\"], [0.6, \"#e6f5d0\"], [0.7, \"#b8e186\"], [0.8, \"#7fbc41\"], [0.9, \"#4d9221\"], [1, \"#276419\"]], \"sequential\": [[0.0, \"#0d0887\"], [0.1111111111111111, \"#46039f\"], [0.2222222222222222, \"#7201a8\"], [0.3333333333333333, \"#9c179e\"], [0.4444444444444444, \"#bd3786\"], [0.5555555555555556, \"#d8576b\"], [0.6666666666666666, \"#ed7953\"], [0.7777777777777778, \"#fb9f3a\"], [0.8888888888888888, \"#fdca26\"], [1.0, \"#f0f921\"]], \"sequentialminus\": [[0.0, \"#0d0887\"], [0.1111111111111111, \"#46039f\"], [0.2222222222222222, \"#7201a8\"], [0.3333333333333333, \"#9c179e\"], [0.4444444444444444, \"#bd3786\"], [0.5555555555555556, \"#d8576b\"], [0.6666666666666666, \"#ed7953\"], [0.7777777777777778, \"#fb9f3a\"], [0.8888888888888888, \"#fdca26\"], [1.0, \"#f0f921\"]]}, \"colorway\": [\"#636efa\", \"#EF553B\", \"#00cc96\", \"#ab63fa\", \"#FFA15A\", \"#19d3f3\", \"#FF6692\", \"#B6E880\", \"#FF97FF\", \"#FECB52\"], \"font\": {\"color\": \"#2a3f5f\"}, \"geo\": {\"bgcolor\": \"white\", \"lakecolor\": \"white\", \"landcolor\": \"#E5ECF6\", \"showlakes\": true, \"showland\": true, \"subunitcolor\": \"white\"}, \"hoverlabel\": {\"align\": \"left\"}, \"hovermode\": \"closest\", \"mapbox\": {\"style\": \"light\"}, \"paper_bgcolor\": \"white\", \"plot_bgcolor\": \"#E5ECF6\", \"polar\": {\"angularaxis\": {\"gridcolor\": \"white\", \"linecolor\": \"white\", \"ticks\": \"\"}, \"bgcolor\": \"#E5ECF6\", \"radialaxis\": {\"gridcolor\": \"white\", \"linecolor\": \"white\", \"ticks\": \"\"}}, \"scene\": {\"xaxis\": {\"backgroundcolor\": \"#E5ECF6\", \"gridcolor\": \"white\", \"gridwidth\": 2, \"linecolor\": \"white\", \"showbackground\": true, \"ticks\": \"\", \"zerolinecolor\": \"white\"}, \"yaxis\": {\"backgroundcolor\": \"#E5ECF6\", \"gridcolor\": \"white\", \"gridwidth\": 2, \"linecolor\": \"white\", \"showbackground\": true, \"ticks\": \"\", \"zerolinecolor\": \"white\"}, \"zaxis\": {\"backgroundcolor\": \"#E5ECF6\", \"gridcolor\": \"white\", \"gridwidth\": 2, \"linecolor\": \"white\", \"showbackground\": true, \"ticks\": \"\", \"zerolinecolor\": \"white\"}}, \"shapedefaults\": {\"line\": {\"color\": \"#2a3f5f\"}}, \"ternary\": {\"aaxis\": {\"gridcolor\": \"white\", \"linecolor\": \"white\", \"ticks\": \"\"}, \"baxis\": {\"gridcolor\": \"white\", \"linecolor\": \"white\", \"ticks\": \"\"}, \"bgcolor\": \"#E5ECF6\", \"caxis\": {\"gridcolor\": \"white\", \"linecolor\": \"white\", \"ticks\": \"\"}}, \"title\": {\"x\": 0.05}, \"xaxis\": {\"automargin\": true, \"gridcolor\": \"white\", \"linecolor\": \"white\", \"ticks\": \"\", \"zerolinecolor\": \"white\", \"zerolinewidth\": 2}, \"yaxis\": {\"automargin\": true, \"gridcolor\": \"white\", \"linecolor\": \"white\", \"ticks\": \"\", \"zerolinecolor\": \"white\", \"zerolinewidth\": 2}}}},\n",
       "                        {\"responsive\": true}\n",
       "                    ).then(function(){\n",
       "                            \n",
       "var gd = document.getElementById('0d10b15a-0e5d-49e9-bdc7-3e3105b03747');\n",
       "var x = new MutationObserver(function (mutations, observer) {{\n",
       "        var display = window.getComputedStyle(gd).display;\n",
       "        if (!display || display === 'none') {{\n",
       "            console.log([gd, 'removed!']);\n",
       "            Plotly.purge(gd);\n",
       "            observer.disconnect();\n",
       "        }}\n",
       "}});\n",
       "\n",
       "// Listen for the removal of the full notebook cells\n",
       "var notebookContainer = gd.closest('#notebook-container');\n",
       "if (notebookContainer) {{\n",
       "    x.observe(notebookContainer, {childList: true});\n",
       "}}\n",
       "\n",
       "// Listen for the clearing of the current output cell\n",
       "var outputEl = gd.closest('.output');\n",
       "if (outputEl) {{\n",
       "    x.observe(outputEl, {childList: true});\n",
       "}}\n",
       "\n",
       "                        })\n",
       "                };\n",
       "                });\n",
       "            </script>\n",
       "        </div>"
      ]
     },
     "metadata": {},
     "output_type": "display_data"
    }
   ],
   "source": [
    "fig = px.scatter_geo(countries_plot_3, locations=\"iso_alpha\",\n",
    "                     hover_name=\"countries\", size=\"Age\", color=\"Age\",\n",
    "                     projection=\"natural earth\")\n",
    "fig.show()"
   ]
  },
  {
   "cell_type": "markdown",
   "metadata": {},
   "source": [
    "Fiji has the highest average age! and it also happens to have a sample size of 2, so you probable want to look at this plot very carefully. "
   ]
  },
  {
   "cell_type": "markdown",
   "metadata": {},
   "source": [
    "#### Average Years of Coding Experience by Country"
   ]
  },
  {
   "cell_type": "code",
   "execution_count": 185,
   "metadata": {},
   "outputs": [],
   "source": [
    "countries_plot_4 = countries_plot_3.merge(df_ds.groupby('Country')['YearsCode'].mean(), left_index=True, right_index=True)"
   ]
  },
  {
   "cell_type": "code",
   "execution_count": 186,
   "metadata": {},
   "outputs": [],
   "source": [
    "countries_plot_4.dropna(inplace=True)"
   ]
  },
  {
   "cell_type": "code",
   "execution_count": 187,
   "metadata": {},
   "outputs": [
    {
     "data": {
      "application/vnd.plotly.v1+json": {
       "config": {
        "plotlyServerURL": "https://plot.ly"
       },
       "data": [
        {
         "geo": "geo",
         "hoverlabel": {
          "namelength": 0
         },
         "hovertemplate": "<b>%{hovertext}</b><br><br>YearsCode=%{marker.color}<br>iso_alpha=%{location}",
         "hovertext": [
          "United States",
          "India",
          "Germany",
          "United Kingdom",
          "Canada",
          "Brazil",
          "Australia",
          "Netherlands",
          "France",
          "Russian Federation",
          "Poland",
          "Spain",
          "Italy",
          "Switzerland",
          "Iran, Islamic Republic of",
          "Sweden",
          "Pakistan",
          "Turkey",
          "South Africa",
          "Mexico",
          "Denmark",
          "Israel",
          "Belgium",
          "Bangladesh",
          "Austria",
          "Greece",
          "Czechia",
          "Ukraine",
          "Norway",
          "Finland",
          "Indonesia",
          "Romania",
          "Argentina",
          "Bulgaria",
          "Portugal",
          "Nigeria",
          "Philippines",
          "Ireland",
          "New Zealand",
          "Japan",
          "China",
          "Hungary",
          "Chile",
          "Thailand",
          "Slovenia",
          "Malaysia",
          "Serbia",
          "Kenya",
          "Colombia",
          "Singapore",
          "Egypt",
          "Croatia",
          "Sri Lanka",
          "Lithuania",
          "Viet Nam",
          "Slovakia",
          "Taiwan, Province of China",
          "Hong Kong",
          "Nepal",
          "United Arab Emirates",
          "Latvia",
          "Korea, Republic of",
          "Tunisia",
          "Lebanon",
          "Estonia",
          "Belarus",
          "Morocco",
          "Saudi Arabia",
          "Costa Rica",
          "El Salvador",
          "Uruguay",
          "Uganda",
          "Ecuador",
          "Dominican Republic",
          "Peru",
          "Albania",
          "Algeria",
          "Ghana",
          "Cameroon",
          "Georgia",
          "Myanmar",
          "Tanzania, United Republic of",
          "Armenia",
          "Cambodia",
          "Jordan",
          "Guatemala",
          "Venezuela, Bolivarian Republic of",
          "Luxembourg",
          "Côte d'Ivoire",
          "Cuba",
          "Bosnia and Herzegovina",
          "Mauritius",
          "North Macedonia",
          "Zimbabwe",
          "Qatar",
          "Cyprus",
          "Iceland",
          "Malta",
          "Montenegro",
          "Kazakhstan",
          "Syrian Arab Republic",
          "Paraguay",
          "Sudan",
          "Ethiopia",
          "Afghanistan",
          "Uzbekistan",
          "Mongolia",
          "Nicaragua",
          "Bolivia, Plurinational State of",
          "Libya",
          "Azerbaijan",
          "Panama",
          "Yemen",
          "Honduras",
          "Jamaica",
          "Kuwait",
          "Congo",
          "Trinidad and Tobago",
          "Haiti",
          "Namibia",
          "Madagascar",
          "Fiji",
          "Senegal",
          "Moldova, Republic of",
          "Guyana",
          "Botswana",
          "Malawi",
          "Mali",
          "Togo",
          "Zambia",
          "Bhutan",
          "Kyrgyzstan",
          "Oman",
          "Djibouti",
          "Mauritania",
          "Bahrain",
          "Mozambique"
         ],
         "legendgroup": "",
         "locations": [
          "USA",
          "IND",
          "DEU",
          "GBR",
          "CAN",
          "BRA",
          "AUS",
          "NLD",
          "FRA",
          "RUS",
          "POL",
          "ESP",
          "ITA",
          "CHE",
          "IRN",
          "SWE",
          "PAK",
          "TUR",
          "ZAF",
          "MEX",
          "DNK",
          "ISR",
          "BEL",
          "BGD",
          "AUT",
          "GRC",
          "CZE",
          "UKR",
          "NOR",
          "FIN",
          "IDN",
          "ROU",
          "ARG",
          "BGR",
          "PRT",
          "NGA",
          "PHL",
          "IRL",
          "NZL",
          "JPN",
          "CHN",
          "HUN",
          "CHL",
          "THA",
          "SVN",
          "MYS",
          "SRB",
          "KEN",
          "COL",
          "SGP",
          "EGY",
          "HRV",
          "LKA",
          "LTU",
          "VNM",
          "SVK",
          "TWN",
          "HKG",
          "NPL",
          "ARE",
          "LVA",
          "KOR",
          "TUN",
          "LBN",
          "EST",
          "BLR",
          "MAR",
          "SAU",
          "CRI",
          "SLV",
          "URY",
          "UGA",
          "ECU",
          "DOM",
          "PER",
          "ALB",
          "DZA",
          "GHA",
          "CMR",
          "GEO",
          "MMR",
          "TZA",
          "ARM",
          "KHM",
          "JOR",
          "GTM",
          "VEN",
          "LUX",
          "CIV",
          "CUB",
          "BIH",
          "MUS",
          "MKD",
          "ZWE",
          "QAT",
          "CYP",
          "ISL",
          "MLT",
          "MNE",
          "KAZ",
          "SYR",
          "PRY",
          "SDN",
          "ETH",
          "AFG",
          "UZB",
          "MNG",
          "NIC",
          "BOL",
          "LBY",
          "AZE",
          "PAN",
          "YEM",
          "HND",
          "JAM",
          "KWT",
          "COG",
          "TTO",
          "HTI",
          "NAM",
          "MDG",
          "FJI",
          "SEN",
          "MDA",
          "GUY",
          "BWA",
          "MWI",
          "MLI",
          "TGO",
          "ZMB",
          "BTN",
          "KGZ",
          "OMN",
          "DJI",
          "MRT",
          "BHR",
          "MOZ"
         ],
         "marker": {
          "color": [
           14.742618964918375,
           7.310237849017581,
           13.878518518518518,
           16.79326923076923,
           15.02088772845953,
           11.543307086614174,
           17.112,
           14.248945147679326,
           11.533039647577093,
           12.604060913705585,
           11.227513227513228,
           12.935135135135136,
           13.918604651162791,
           14.335570469798657,
           8.819672131147541,
           14.516666666666667,
           7.1440677966101696,
           11.018018018018019,
           12.962616822429906,
           10.932038834951456,
           16.49473684210526,
           13.436170212765957,
           15.321428571428571,
           6.888888888888889,
           14.555555555555555,
           12.246753246753247,
           14.6,
           10.67605633802817,
           15.014492753623188,
           13.044776119402986,
           7.25,
           10.241935483870968,
           13.918032786885245,
           11.3,
           14.017241379310345,
           5.75,
           7.614035087719298,
           16.19607843137255,
           15.479166666666666,
           11.106382978723405,
           9,
           13.133333333333333,
           13.095238095238095,
           15.121951219512194,
           13.743589743589743,
           11.06060606060606,
           10.264705882352942,
           5.454545454545454,
           10.757575757575758,
           10.5625,
           8.28125,
           11.838709677419354,
           5.774193548387097,
           9.32258064516129,
           9,
           11.571428571428571,
           9.777777777777779,
           9.76923076923077,
           5.64,
           9.571428571428571,
           10.619047619047619,
           11.571428571428571,
           8.75,
           10.444444444444445,
           12.25,
           8.866666666666667,
           5.733333333333333,
           10.2,
           13.357142857142858,
           11.846153846153847,
           12.538461538461538,
           6.3076923076923075,
           16.846153846153847,
           8.23076923076923,
           12.75,
           9.166666666666666,
           8.75,
           4.666666666666667,
           8.4,
           10.4,
           5,
           8.5,
           9.7,
           8.333333333333334,
           13.555555555555555,
           9.625,
           13.5,
           18.625,
           9,
           10.428571428571429,
           12.142857142857142,
           7.142857142857143,
           6.142857142857143,
           8.666666666666666,
           12.833333333333334,
           13.333333333333334,
           14.6,
           12.2,
           9.2,
           6.8,
           7,
           7.25,
           3.25,
           5,
           5.25,
           15.5,
           7.25,
           7,
           14.75,
           9,
           7.25,
           21.666666666666668,
           6.333333333333333,
           11.666666666666666,
           12.666666666666666,
           11,
           9.666666666666666,
           16.666666666666668,
           5,
           2.5,
           3.5,
           2,
           4,
           8,
           6,
           5,
           10,
           7,
           4,
           7,
           3,
           13,
           5,
           15,
           14,
           20,
           5
          ],
          "coloraxis": "coloraxis",
          "size": [
           14.742618964918375,
           7.310237849017581,
           13.878518518518518,
           16.79326923076923,
           15.02088772845953,
           11.543307086614174,
           17.112,
           14.248945147679326,
           11.533039647577093,
           12.604060913705585,
           11.227513227513228,
           12.935135135135136,
           13.918604651162791,
           14.335570469798657,
           8.819672131147541,
           14.516666666666667,
           7.1440677966101696,
           11.018018018018019,
           12.962616822429906,
           10.932038834951456,
           16.49473684210526,
           13.436170212765957,
           15.321428571428571,
           6.888888888888889,
           14.555555555555555,
           12.246753246753247,
           14.6,
           10.67605633802817,
           15.014492753623188,
           13.044776119402986,
           7.25,
           10.241935483870968,
           13.918032786885245,
           11.3,
           14.017241379310345,
           5.75,
           7.614035087719298,
           16.19607843137255,
           15.479166666666666,
           11.106382978723405,
           9,
           13.133333333333333,
           13.095238095238095,
           15.121951219512194,
           13.743589743589743,
           11.06060606060606,
           10.264705882352942,
           5.454545454545454,
           10.757575757575758,
           10.5625,
           8.28125,
           11.838709677419354,
           5.774193548387097,
           9.32258064516129,
           9,
           11.571428571428571,
           9.777777777777779,
           9.76923076923077,
           5.64,
           9.571428571428571,
           10.619047619047619,
           11.571428571428571,
           8.75,
           10.444444444444445,
           12.25,
           8.866666666666667,
           5.733333333333333,
           10.2,
           13.357142857142858,
           11.846153846153847,
           12.538461538461538,
           6.3076923076923075,
           16.846153846153847,
           8.23076923076923,
           12.75,
           9.166666666666666,
           8.75,
           4.666666666666667,
           8.4,
           10.4,
           5,
           8.5,
           9.7,
           8.333333333333334,
           13.555555555555555,
           9.625,
           13.5,
           18.625,
           9,
           10.428571428571429,
           12.142857142857142,
           7.142857142857143,
           6.142857142857143,
           8.666666666666666,
           12.833333333333334,
           13.333333333333334,
           14.6,
           12.2,
           9.2,
           6.8,
           7,
           7.25,
           3.25,
           5,
           5.25,
           15.5,
           7.25,
           7,
           14.75,
           9,
           7.25,
           21.666666666666668,
           6.333333333333333,
           11.666666666666666,
           12.666666666666666,
           11,
           9.666666666666666,
           16.666666666666668,
           5,
           2.5,
           3.5,
           2,
           4,
           8,
           6,
           5,
           10,
           7,
           4,
           7,
           3,
           13,
           5,
           15,
           14,
           20,
           5
          ],
          "sizemode": "area",
          "sizeref": 0.05416666666666667
         },
         "name": "",
         "showlegend": false,
         "type": "scattergeo"
        }
       ],
       "layout": {
        "coloraxis": {
         "colorbar": {
          "title": {
           "text": "YearsCode"
          }
         },
         "colorscale": [
          [
           0,
           "#0d0887"
          ],
          [
           0.1111111111111111,
           "#46039f"
          ],
          [
           0.2222222222222222,
           "#7201a8"
          ],
          [
           0.3333333333333333,
           "#9c179e"
          ],
          [
           0.4444444444444444,
           "#bd3786"
          ],
          [
           0.5555555555555556,
           "#d8576b"
          ],
          [
           0.6666666666666666,
           "#ed7953"
          ],
          [
           0.7777777777777778,
           "#fb9f3a"
          ],
          [
           0.8888888888888888,
           "#fdca26"
          ],
          [
           1,
           "#f0f921"
          ]
         ]
        },
        "geo": {
         "center": {},
         "domain": {
          "x": [
           0,
           0.98
          ],
          "y": [
           0,
           1
          ]
         },
         "projection": {
          "type": "natural earth"
         }
        },
        "height": 600,
        "legend": {
         "itemsizing": "constant",
         "tracegroupgap": 0
        },
        "margin": {
         "t": 60
        },
        "template": {
         "data": {
          "bar": [
           {
            "error_x": {
             "color": "#2a3f5f"
            },
            "error_y": {
             "color": "#2a3f5f"
            },
            "marker": {
             "line": {
              "color": "#E5ECF6",
              "width": 0.5
             }
            },
            "type": "bar"
           }
          ],
          "barpolar": [
           {
            "marker": {
             "line": {
              "color": "#E5ECF6",
              "width": 0.5
             }
            },
            "type": "barpolar"
           }
          ],
          "carpet": [
           {
            "aaxis": {
             "endlinecolor": "#2a3f5f",
             "gridcolor": "white",
             "linecolor": "white",
             "minorgridcolor": "white",
             "startlinecolor": "#2a3f5f"
            },
            "baxis": {
             "endlinecolor": "#2a3f5f",
             "gridcolor": "white",
             "linecolor": "white",
             "minorgridcolor": "white",
             "startlinecolor": "#2a3f5f"
            },
            "type": "carpet"
           }
          ],
          "choropleth": [
           {
            "colorbar": {
             "outlinewidth": 0,
             "ticks": ""
            },
            "type": "choropleth"
           }
          ],
          "contour": [
           {
            "colorbar": {
             "outlinewidth": 0,
             "ticks": ""
            },
            "colorscale": [
             [
              0,
              "#0d0887"
             ],
             [
              0.1111111111111111,
              "#46039f"
             ],
             [
              0.2222222222222222,
              "#7201a8"
             ],
             [
              0.3333333333333333,
              "#9c179e"
             ],
             [
              0.4444444444444444,
              "#bd3786"
             ],
             [
              0.5555555555555556,
              "#d8576b"
             ],
             [
              0.6666666666666666,
              "#ed7953"
             ],
             [
              0.7777777777777778,
              "#fb9f3a"
             ],
             [
              0.8888888888888888,
              "#fdca26"
             ],
             [
              1,
              "#f0f921"
             ]
            ],
            "type": "contour"
           }
          ],
          "contourcarpet": [
           {
            "colorbar": {
             "outlinewidth": 0,
             "ticks": ""
            },
            "type": "contourcarpet"
           }
          ],
          "heatmap": [
           {
            "colorbar": {
             "outlinewidth": 0,
             "ticks": ""
            },
            "colorscale": [
             [
              0,
              "#0d0887"
             ],
             [
              0.1111111111111111,
              "#46039f"
             ],
             [
              0.2222222222222222,
              "#7201a8"
             ],
             [
              0.3333333333333333,
              "#9c179e"
             ],
             [
              0.4444444444444444,
              "#bd3786"
             ],
             [
              0.5555555555555556,
              "#d8576b"
             ],
             [
              0.6666666666666666,
              "#ed7953"
             ],
             [
              0.7777777777777778,
              "#fb9f3a"
             ],
             [
              0.8888888888888888,
              "#fdca26"
             ],
             [
              1,
              "#f0f921"
             ]
            ],
            "type": "heatmap"
           }
          ],
          "heatmapgl": [
           {
            "colorbar": {
             "outlinewidth": 0,
             "ticks": ""
            },
            "colorscale": [
             [
              0,
              "#0d0887"
             ],
             [
              0.1111111111111111,
              "#46039f"
             ],
             [
              0.2222222222222222,
              "#7201a8"
             ],
             [
              0.3333333333333333,
              "#9c179e"
             ],
             [
              0.4444444444444444,
              "#bd3786"
             ],
             [
              0.5555555555555556,
              "#d8576b"
             ],
             [
              0.6666666666666666,
              "#ed7953"
             ],
             [
              0.7777777777777778,
              "#fb9f3a"
             ],
             [
              0.8888888888888888,
              "#fdca26"
             ],
             [
              1,
              "#f0f921"
             ]
            ],
            "type": "heatmapgl"
           }
          ],
          "histogram": [
           {
            "marker": {
             "colorbar": {
              "outlinewidth": 0,
              "ticks": ""
             }
            },
            "type": "histogram"
           }
          ],
          "histogram2d": [
           {
            "colorbar": {
             "outlinewidth": 0,
             "ticks": ""
            },
            "colorscale": [
             [
              0,
              "#0d0887"
             ],
             [
              0.1111111111111111,
              "#46039f"
             ],
             [
              0.2222222222222222,
              "#7201a8"
             ],
             [
              0.3333333333333333,
              "#9c179e"
             ],
             [
              0.4444444444444444,
              "#bd3786"
             ],
             [
              0.5555555555555556,
              "#d8576b"
             ],
             [
              0.6666666666666666,
              "#ed7953"
             ],
             [
              0.7777777777777778,
              "#fb9f3a"
             ],
             [
              0.8888888888888888,
              "#fdca26"
             ],
             [
              1,
              "#f0f921"
             ]
            ],
            "type": "histogram2d"
           }
          ],
          "histogram2dcontour": [
           {
            "colorbar": {
             "outlinewidth": 0,
             "ticks": ""
            },
            "colorscale": [
             [
              0,
              "#0d0887"
             ],
             [
              0.1111111111111111,
              "#46039f"
             ],
             [
              0.2222222222222222,
              "#7201a8"
             ],
             [
              0.3333333333333333,
              "#9c179e"
             ],
             [
              0.4444444444444444,
              "#bd3786"
             ],
             [
              0.5555555555555556,
              "#d8576b"
             ],
             [
              0.6666666666666666,
              "#ed7953"
             ],
             [
              0.7777777777777778,
              "#fb9f3a"
             ],
             [
              0.8888888888888888,
              "#fdca26"
             ],
             [
              1,
              "#f0f921"
             ]
            ],
            "type": "histogram2dcontour"
           }
          ],
          "mesh3d": [
           {
            "colorbar": {
             "outlinewidth": 0,
             "ticks": ""
            },
            "type": "mesh3d"
           }
          ],
          "parcoords": [
           {
            "line": {
             "colorbar": {
              "outlinewidth": 0,
              "ticks": ""
             }
            },
            "type": "parcoords"
           }
          ],
          "scatter": [
           {
            "marker": {
             "colorbar": {
              "outlinewidth": 0,
              "ticks": ""
             }
            },
            "type": "scatter"
           }
          ],
          "scatter3d": [
           {
            "line": {
             "colorbar": {
              "outlinewidth": 0,
              "ticks": ""
             }
            },
            "marker": {
             "colorbar": {
              "outlinewidth": 0,
              "ticks": ""
             }
            },
            "type": "scatter3d"
           }
          ],
          "scattercarpet": [
           {
            "marker": {
             "colorbar": {
              "outlinewidth": 0,
              "ticks": ""
             }
            },
            "type": "scattercarpet"
           }
          ],
          "scattergeo": [
           {
            "marker": {
             "colorbar": {
              "outlinewidth": 0,
              "ticks": ""
             }
            },
            "type": "scattergeo"
           }
          ],
          "scattergl": [
           {
            "marker": {
             "colorbar": {
              "outlinewidth": 0,
              "ticks": ""
             }
            },
            "type": "scattergl"
           }
          ],
          "scattermapbox": [
           {
            "marker": {
             "colorbar": {
              "outlinewidth": 0,
              "ticks": ""
             }
            },
            "type": "scattermapbox"
           }
          ],
          "scatterpolar": [
           {
            "marker": {
             "colorbar": {
              "outlinewidth": 0,
              "ticks": ""
             }
            },
            "type": "scatterpolar"
           }
          ],
          "scatterpolargl": [
           {
            "marker": {
             "colorbar": {
              "outlinewidth": 0,
              "ticks": ""
             }
            },
            "type": "scatterpolargl"
           }
          ],
          "scatterternary": [
           {
            "marker": {
             "colorbar": {
              "outlinewidth": 0,
              "ticks": ""
             }
            },
            "type": "scatterternary"
           }
          ],
          "surface": [
           {
            "colorbar": {
             "outlinewidth": 0,
             "ticks": ""
            },
            "colorscale": [
             [
              0,
              "#0d0887"
             ],
             [
              0.1111111111111111,
              "#46039f"
             ],
             [
              0.2222222222222222,
              "#7201a8"
             ],
             [
              0.3333333333333333,
              "#9c179e"
             ],
             [
              0.4444444444444444,
              "#bd3786"
             ],
             [
              0.5555555555555556,
              "#d8576b"
             ],
             [
              0.6666666666666666,
              "#ed7953"
             ],
             [
              0.7777777777777778,
              "#fb9f3a"
             ],
             [
              0.8888888888888888,
              "#fdca26"
             ],
             [
              1,
              "#f0f921"
             ]
            ],
            "type": "surface"
           }
          ],
          "table": [
           {
            "cells": {
             "fill": {
              "color": "#EBF0F8"
             },
             "line": {
              "color": "white"
             }
            },
            "header": {
             "fill": {
              "color": "#C8D4E3"
             },
             "line": {
              "color": "white"
             }
            },
            "type": "table"
           }
          ]
         },
         "layout": {
          "annotationdefaults": {
           "arrowcolor": "#2a3f5f",
           "arrowhead": 0,
           "arrowwidth": 1
          },
          "colorscale": {
           "diverging": [
            [
             0,
             "#8e0152"
            ],
            [
             0.1,
             "#c51b7d"
            ],
            [
             0.2,
             "#de77ae"
            ],
            [
             0.3,
             "#f1b6da"
            ],
            [
             0.4,
             "#fde0ef"
            ],
            [
             0.5,
             "#f7f7f7"
            ],
            [
             0.6,
             "#e6f5d0"
            ],
            [
             0.7,
             "#b8e186"
            ],
            [
             0.8,
             "#7fbc41"
            ],
            [
             0.9,
             "#4d9221"
            ],
            [
             1,
             "#276419"
            ]
           ],
           "sequential": [
            [
             0,
             "#0d0887"
            ],
            [
             0.1111111111111111,
             "#46039f"
            ],
            [
             0.2222222222222222,
             "#7201a8"
            ],
            [
             0.3333333333333333,
             "#9c179e"
            ],
            [
             0.4444444444444444,
             "#bd3786"
            ],
            [
             0.5555555555555556,
             "#d8576b"
            ],
            [
             0.6666666666666666,
             "#ed7953"
            ],
            [
             0.7777777777777778,
             "#fb9f3a"
            ],
            [
             0.8888888888888888,
             "#fdca26"
            ],
            [
             1,
             "#f0f921"
            ]
           ],
           "sequentialminus": [
            [
             0,
             "#0d0887"
            ],
            [
             0.1111111111111111,
             "#46039f"
            ],
            [
             0.2222222222222222,
             "#7201a8"
            ],
            [
             0.3333333333333333,
             "#9c179e"
            ],
            [
             0.4444444444444444,
             "#bd3786"
            ],
            [
             0.5555555555555556,
             "#d8576b"
            ],
            [
             0.6666666666666666,
             "#ed7953"
            ],
            [
             0.7777777777777778,
             "#fb9f3a"
            ],
            [
             0.8888888888888888,
             "#fdca26"
            ],
            [
             1,
             "#f0f921"
            ]
           ]
          },
          "colorway": [
           "#636efa",
           "#EF553B",
           "#00cc96",
           "#ab63fa",
           "#FFA15A",
           "#19d3f3",
           "#FF6692",
           "#B6E880",
           "#FF97FF",
           "#FECB52"
          ],
          "font": {
           "color": "#2a3f5f"
          },
          "geo": {
           "bgcolor": "white",
           "lakecolor": "white",
           "landcolor": "#E5ECF6",
           "showlakes": true,
           "showland": true,
           "subunitcolor": "white"
          },
          "hoverlabel": {
           "align": "left"
          },
          "hovermode": "closest",
          "mapbox": {
           "style": "light"
          },
          "paper_bgcolor": "white",
          "plot_bgcolor": "#E5ECF6",
          "polar": {
           "angularaxis": {
            "gridcolor": "white",
            "linecolor": "white",
            "ticks": ""
           },
           "bgcolor": "#E5ECF6",
           "radialaxis": {
            "gridcolor": "white",
            "linecolor": "white",
            "ticks": ""
           }
          },
          "scene": {
           "xaxis": {
            "backgroundcolor": "#E5ECF6",
            "gridcolor": "white",
            "gridwidth": 2,
            "linecolor": "white",
            "showbackground": true,
            "ticks": "",
            "zerolinecolor": "white"
           },
           "yaxis": {
            "backgroundcolor": "#E5ECF6",
            "gridcolor": "white",
            "gridwidth": 2,
            "linecolor": "white",
            "showbackground": true,
            "ticks": "",
            "zerolinecolor": "white"
           },
           "zaxis": {
            "backgroundcolor": "#E5ECF6",
            "gridcolor": "white",
            "gridwidth": 2,
            "linecolor": "white",
            "showbackground": true,
            "ticks": "",
            "zerolinecolor": "white"
           }
          },
          "shapedefaults": {
           "line": {
            "color": "#2a3f5f"
           }
          },
          "ternary": {
           "aaxis": {
            "gridcolor": "white",
            "linecolor": "white",
            "ticks": ""
           },
           "baxis": {
            "gridcolor": "white",
            "linecolor": "white",
            "ticks": ""
           },
           "bgcolor": "#E5ECF6",
           "caxis": {
            "gridcolor": "white",
            "linecolor": "white",
            "ticks": ""
           }
          },
          "title": {
           "x": 0.05
          },
          "xaxis": {
           "automargin": true,
           "gridcolor": "white",
           "linecolor": "white",
           "ticks": "",
           "zerolinecolor": "white",
           "zerolinewidth": 2
          },
          "yaxis": {
           "automargin": true,
           "gridcolor": "white",
           "linecolor": "white",
           "ticks": "",
           "zerolinecolor": "white",
           "zerolinewidth": 2
          }
         }
        }
       }
      },
      "text/html": [
       "<div>\n",
       "        \n",
       "        \n",
       "            <div id=\"dd7a879e-b87a-4e62-9622-3d40a6962887\" class=\"plotly-graph-div\" style=\"height:600px; width:100%;\"></div>\n",
       "            <script type=\"text/javascript\">\n",
       "                require([\"plotly\"], function(Plotly) {\n",
       "                    window.PLOTLYENV=window.PLOTLYENV || {};\n",
       "                    \n",
       "                if (document.getElementById(\"dd7a879e-b87a-4e62-9622-3d40a6962887\")) {\n",
       "                    Plotly.newPlot(\n",
       "                        'dd7a879e-b87a-4e62-9622-3d40a6962887',\n",
       "                        [{\"geo\": \"geo\", \"hoverlabel\": {\"namelength\": 0}, \"hovertemplate\": \"<b>%{hovertext}</b><br><br>YearsCode=%{marker.color}<br>iso_alpha=%{location}\", \"hovertext\": [\"United States\", \"India\", \"Germany\", \"United Kingdom\", \"Canada\", \"Brazil\", \"Australia\", \"Netherlands\", \"France\", \"Russian Federation\", \"Poland\", \"Spain\", \"Italy\", \"Switzerland\", \"Iran, Islamic Republic of\", \"Sweden\", \"Pakistan\", \"Turkey\", \"South Africa\", \"Mexico\", \"Denmark\", \"Israel\", \"Belgium\", \"Bangladesh\", \"Austria\", \"Greece\", \"Czechia\", \"Ukraine\", \"Norway\", \"Finland\", \"Indonesia\", \"Romania\", \"Argentina\", \"Bulgaria\", \"Portugal\", \"Nigeria\", \"Philippines\", \"Ireland\", \"New Zealand\", \"Japan\", \"China\", \"Hungary\", \"Chile\", \"Thailand\", \"Slovenia\", \"Malaysia\", \"Serbia\", \"Kenya\", \"Colombia\", \"Singapore\", \"Egypt\", \"Croatia\", \"Sri Lanka\", \"Lithuania\", \"Viet Nam\", \"Slovakia\", \"Taiwan, Province of China\", \"Hong Kong\", \"Nepal\", \"United Arab Emirates\", \"Latvia\", \"Korea, Republic of\", \"Tunisia\", \"Lebanon\", \"Estonia\", \"Belarus\", \"Morocco\", \"Saudi Arabia\", \"Costa Rica\", \"El Salvador\", \"Uruguay\", \"Uganda\", \"Ecuador\", \"Dominican Republic\", \"Peru\", \"Albania\", \"Algeria\", \"Ghana\", \"Cameroon\", \"Georgia\", \"Myanmar\", \"Tanzania, United Republic of\", \"Armenia\", \"Cambodia\", \"Jordan\", \"Guatemala\", \"Venezuela, Bolivarian Republic of\", \"Luxembourg\", \"C\\u00f4te d'Ivoire\", \"Cuba\", \"Bosnia and Herzegovina\", \"Mauritius\", \"North Macedonia\", \"Zimbabwe\", \"Qatar\", \"Cyprus\", \"Iceland\", \"Malta\", \"Montenegro\", \"Kazakhstan\", \"Syrian Arab Republic\", \"Paraguay\", \"Sudan\", \"Ethiopia\", \"Afghanistan\", \"Uzbekistan\", \"Mongolia\", \"Nicaragua\", \"Bolivia, Plurinational State of\", \"Libya\", \"Azerbaijan\", \"Panama\", \"Yemen\", \"Honduras\", \"Jamaica\", \"Kuwait\", \"Congo\", \"Trinidad and Tobago\", \"Haiti\", \"Namibia\", \"Madagascar\", \"Fiji\", \"Senegal\", \"Moldova, Republic of\", \"Guyana\", \"Botswana\", \"Malawi\", \"Mali\", \"Togo\", \"Zambia\", \"Bhutan\", \"Kyrgyzstan\", \"Oman\", \"Djibouti\", \"Mauritania\", \"Bahrain\", \"Mozambique\"], \"legendgroup\": \"\", \"locations\": [\"USA\", \"IND\", \"DEU\", \"GBR\", \"CAN\", \"BRA\", \"AUS\", \"NLD\", \"FRA\", \"RUS\", \"POL\", \"ESP\", \"ITA\", \"CHE\", \"IRN\", \"SWE\", \"PAK\", \"TUR\", \"ZAF\", \"MEX\", \"DNK\", \"ISR\", \"BEL\", \"BGD\", \"AUT\", \"GRC\", \"CZE\", \"UKR\", \"NOR\", \"FIN\", \"IDN\", \"ROU\", \"ARG\", \"BGR\", \"PRT\", \"NGA\", \"PHL\", \"IRL\", \"NZL\", \"JPN\", \"CHN\", \"HUN\", \"CHL\", \"THA\", \"SVN\", \"MYS\", \"SRB\", \"KEN\", \"COL\", \"SGP\", \"EGY\", \"HRV\", \"LKA\", \"LTU\", \"VNM\", \"SVK\", \"TWN\", \"HKG\", \"NPL\", \"ARE\", \"LVA\", \"KOR\", \"TUN\", \"LBN\", \"EST\", \"BLR\", \"MAR\", \"SAU\", \"CRI\", \"SLV\", \"URY\", \"UGA\", \"ECU\", \"DOM\", \"PER\", \"ALB\", \"DZA\", \"GHA\", \"CMR\", \"GEO\", \"MMR\", \"TZA\", \"ARM\", \"KHM\", \"JOR\", \"GTM\", \"VEN\", \"LUX\", \"CIV\", \"CUB\", \"BIH\", \"MUS\", \"MKD\", \"ZWE\", \"QAT\", \"CYP\", \"ISL\", \"MLT\", \"MNE\", \"KAZ\", \"SYR\", \"PRY\", \"SDN\", \"ETH\", \"AFG\", \"UZB\", \"MNG\", \"NIC\", \"BOL\", \"LBY\", \"AZE\", \"PAN\", \"YEM\", \"HND\", \"JAM\", \"KWT\", \"COG\", \"TTO\", \"HTI\", \"NAM\", \"MDG\", \"FJI\", \"SEN\", \"MDA\", \"GUY\", \"BWA\", \"MWI\", \"MLI\", \"TGO\", \"ZMB\", \"BTN\", \"KGZ\", \"OMN\", \"DJI\", \"MRT\", \"BHR\", \"MOZ\"], \"marker\": {\"color\": [14.742618964918375, 7.310237849017581, 13.878518518518518, 16.79326923076923, 15.02088772845953, 11.543307086614174, 17.112, 14.248945147679326, 11.533039647577093, 12.604060913705585, 11.227513227513228, 12.935135135135136, 13.918604651162791, 14.335570469798657, 8.819672131147541, 14.516666666666667, 7.1440677966101696, 11.018018018018019, 12.962616822429906, 10.932038834951456, 16.49473684210526, 13.436170212765957, 15.321428571428571, 6.888888888888889, 14.555555555555555, 12.246753246753247, 14.6, 10.67605633802817, 15.014492753623188, 13.044776119402986, 7.25, 10.241935483870968, 13.918032786885245, 11.3, 14.017241379310345, 5.75, 7.614035087719298, 16.19607843137255, 15.479166666666666, 11.106382978723405, 9.0, 13.133333333333333, 13.095238095238095, 15.121951219512194, 13.743589743589743, 11.06060606060606, 10.264705882352942, 5.454545454545454, 10.757575757575758, 10.5625, 8.28125, 11.838709677419354, 5.774193548387097, 9.32258064516129, 9.0, 11.571428571428571, 9.777777777777779, 9.76923076923077, 5.64, 9.571428571428571, 10.619047619047619, 11.571428571428571, 8.75, 10.444444444444445, 12.25, 8.866666666666667, 5.733333333333333, 10.2, 13.357142857142858, 11.846153846153847, 12.538461538461538, 6.3076923076923075, 16.846153846153847, 8.23076923076923, 12.75, 9.166666666666666, 8.75, 4.666666666666667, 8.4, 10.4, 5.0, 8.5, 9.7, 8.333333333333334, 13.555555555555555, 9.625, 13.5, 18.625, 9.0, 10.428571428571429, 12.142857142857142, 7.142857142857143, 6.142857142857143, 8.666666666666666, 12.833333333333334, 13.333333333333334, 14.6, 12.2, 9.2, 6.8, 7.0, 7.25, 3.25, 5.0, 5.25, 15.5, 7.25, 7.0, 14.75, 9.0, 7.25, 21.666666666666668, 6.333333333333333, 11.666666666666666, 12.666666666666666, 11.0, 9.666666666666666, 16.666666666666668, 5.0, 2.5, 3.5, 2.0, 4.0, 8.0, 6.0, 5.0, 10.0, 7.0, 4.0, 7.0, 3.0, 13.0, 5.0, 15.0, 14.0, 20.0, 5.0], \"coloraxis\": \"coloraxis\", \"size\": [14.742618964918375, 7.310237849017581, 13.878518518518518, 16.79326923076923, 15.02088772845953, 11.543307086614174, 17.112, 14.248945147679326, 11.533039647577093, 12.604060913705585, 11.227513227513228, 12.935135135135136, 13.918604651162791, 14.335570469798657, 8.819672131147541, 14.516666666666667, 7.1440677966101696, 11.018018018018019, 12.962616822429906, 10.932038834951456, 16.49473684210526, 13.436170212765957, 15.321428571428571, 6.888888888888889, 14.555555555555555, 12.246753246753247, 14.6, 10.67605633802817, 15.014492753623188, 13.044776119402986, 7.25, 10.241935483870968, 13.918032786885245, 11.3, 14.017241379310345, 5.75, 7.614035087719298, 16.19607843137255, 15.479166666666666, 11.106382978723405, 9.0, 13.133333333333333, 13.095238095238095, 15.121951219512194, 13.743589743589743, 11.06060606060606, 10.264705882352942, 5.454545454545454, 10.757575757575758, 10.5625, 8.28125, 11.838709677419354, 5.774193548387097, 9.32258064516129, 9.0, 11.571428571428571, 9.777777777777779, 9.76923076923077, 5.64, 9.571428571428571, 10.619047619047619, 11.571428571428571, 8.75, 10.444444444444445, 12.25, 8.866666666666667, 5.733333333333333, 10.2, 13.357142857142858, 11.846153846153847, 12.538461538461538, 6.3076923076923075, 16.846153846153847, 8.23076923076923, 12.75, 9.166666666666666, 8.75, 4.666666666666667, 8.4, 10.4, 5.0, 8.5, 9.7, 8.333333333333334, 13.555555555555555, 9.625, 13.5, 18.625, 9.0, 10.428571428571429, 12.142857142857142, 7.142857142857143, 6.142857142857143, 8.666666666666666, 12.833333333333334, 13.333333333333334, 14.6, 12.2, 9.2, 6.8, 7.0, 7.25, 3.25, 5.0, 5.25, 15.5, 7.25, 7.0, 14.75, 9.0, 7.25, 21.666666666666668, 6.333333333333333, 11.666666666666666, 12.666666666666666, 11.0, 9.666666666666666, 16.666666666666668, 5.0, 2.5, 3.5, 2.0, 4.0, 8.0, 6.0, 5.0, 10.0, 7.0, 4.0, 7.0, 3.0, 13.0, 5.0, 15.0, 14.0, 20.0, 5.0], \"sizemode\": \"area\", \"sizeref\": 0.05416666666666667}, \"name\": \"\", \"showlegend\": false, \"type\": \"scattergeo\"}],\n",
       "                        {\"coloraxis\": {\"colorbar\": {\"title\": {\"text\": \"YearsCode\"}}, \"colorscale\": [[0.0, \"#0d0887\"], [0.1111111111111111, \"#46039f\"], [0.2222222222222222, \"#7201a8\"], [0.3333333333333333, \"#9c179e\"], [0.4444444444444444, \"#bd3786\"], [0.5555555555555556, \"#d8576b\"], [0.6666666666666666, \"#ed7953\"], [0.7777777777777778, \"#fb9f3a\"], [0.8888888888888888, \"#fdca26\"], [1.0, \"#f0f921\"]]}, \"geo\": {\"center\": {}, \"domain\": {\"x\": [0.0, 0.98], \"y\": [0.0, 1.0]}, \"projection\": {\"type\": \"natural earth\"}}, \"height\": 600, \"legend\": {\"itemsizing\": \"constant\", \"tracegroupgap\": 0}, \"margin\": {\"t\": 60}, \"template\": {\"data\": {\"bar\": [{\"error_x\": {\"color\": \"#2a3f5f\"}, \"error_y\": {\"color\": \"#2a3f5f\"}, \"marker\": {\"line\": {\"color\": \"#E5ECF6\", \"width\": 0.5}}, \"type\": \"bar\"}], \"barpolar\": [{\"marker\": {\"line\": {\"color\": \"#E5ECF6\", \"width\": 0.5}}, \"type\": \"barpolar\"}], \"carpet\": [{\"aaxis\": {\"endlinecolor\": \"#2a3f5f\", \"gridcolor\": \"white\", \"linecolor\": \"white\", \"minorgridcolor\": \"white\", \"startlinecolor\": \"#2a3f5f\"}, \"baxis\": {\"endlinecolor\": \"#2a3f5f\", \"gridcolor\": \"white\", \"linecolor\": \"white\", \"minorgridcolor\": \"white\", \"startlinecolor\": \"#2a3f5f\"}, \"type\": \"carpet\"}], \"choropleth\": [{\"colorbar\": {\"outlinewidth\": 0, \"ticks\": \"\"}, \"type\": \"choropleth\"}], \"contour\": [{\"colorbar\": {\"outlinewidth\": 0, \"ticks\": \"\"}, \"colorscale\": [[0.0, \"#0d0887\"], [0.1111111111111111, \"#46039f\"], [0.2222222222222222, \"#7201a8\"], [0.3333333333333333, \"#9c179e\"], [0.4444444444444444, \"#bd3786\"], [0.5555555555555556, \"#d8576b\"], [0.6666666666666666, \"#ed7953\"], [0.7777777777777778, \"#fb9f3a\"], [0.8888888888888888, \"#fdca26\"], [1.0, \"#f0f921\"]], \"type\": \"contour\"}], \"contourcarpet\": [{\"colorbar\": {\"outlinewidth\": 0, \"ticks\": \"\"}, \"type\": \"contourcarpet\"}], \"heatmap\": [{\"colorbar\": {\"outlinewidth\": 0, \"ticks\": \"\"}, \"colorscale\": [[0.0, \"#0d0887\"], [0.1111111111111111, \"#46039f\"], [0.2222222222222222, \"#7201a8\"], [0.3333333333333333, \"#9c179e\"], [0.4444444444444444, \"#bd3786\"], [0.5555555555555556, \"#d8576b\"], [0.6666666666666666, \"#ed7953\"], [0.7777777777777778, \"#fb9f3a\"], [0.8888888888888888, \"#fdca26\"], [1.0, \"#f0f921\"]], \"type\": \"heatmap\"}], \"heatmapgl\": [{\"colorbar\": {\"outlinewidth\": 0, \"ticks\": \"\"}, \"colorscale\": [[0.0, \"#0d0887\"], [0.1111111111111111, \"#46039f\"], [0.2222222222222222, \"#7201a8\"], [0.3333333333333333, \"#9c179e\"], [0.4444444444444444, \"#bd3786\"], [0.5555555555555556, \"#d8576b\"], [0.6666666666666666, \"#ed7953\"], [0.7777777777777778, \"#fb9f3a\"], [0.8888888888888888, \"#fdca26\"], [1.0, \"#f0f921\"]], \"type\": \"heatmapgl\"}], \"histogram\": [{\"marker\": {\"colorbar\": {\"outlinewidth\": 0, \"ticks\": \"\"}}, \"type\": \"histogram\"}], \"histogram2d\": [{\"colorbar\": {\"outlinewidth\": 0, \"ticks\": \"\"}, \"colorscale\": [[0.0, \"#0d0887\"], [0.1111111111111111, \"#46039f\"], [0.2222222222222222, \"#7201a8\"], [0.3333333333333333, \"#9c179e\"], [0.4444444444444444, \"#bd3786\"], [0.5555555555555556, \"#d8576b\"], [0.6666666666666666, \"#ed7953\"], [0.7777777777777778, \"#fb9f3a\"], [0.8888888888888888, \"#fdca26\"], [1.0, \"#f0f921\"]], \"type\": \"histogram2d\"}], \"histogram2dcontour\": [{\"colorbar\": {\"outlinewidth\": 0, \"ticks\": \"\"}, \"colorscale\": [[0.0, \"#0d0887\"], [0.1111111111111111, \"#46039f\"], [0.2222222222222222, \"#7201a8\"], [0.3333333333333333, \"#9c179e\"], [0.4444444444444444, \"#bd3786\"], [0.5555555555555556, \"#d8576b\"], [0.6666666666666666, \"#ed7953\"], [0.7777777777777778, \"#fb9f3a\"], [0.8888888888888888, \"#fdca26\"], [1.0, \"#f0f921\"]], \"type\": \"histogram2dcontour\"}], \"mesh3d\": [{\"colorbar\": {\"outlinewidth\": 0, \"ticks\": \"\"}, \"type\": \"mesh3d\"}], \"parcoords\": [{\"line\": {\"colorbar\": {\"outlinewidth\": 0, \"ticks\": \"\"}}, \"type\": \"parcoords\"}], \"scatter\": [{\"marker\": {\"colorbar\": {\"outlinewidth\": 0, \"ticks\": \"\"}}, \"type\": \"scatter\"}], \"scatter3d\": [{\"line\": {\"colorbar\": {\"outlinewidth\": 0, \"ticks\": \"\"}}, \"marker\": {\"colorbar\": {\"outlinewidth\": 0, \"ticks\": \"\"}}, \"type\": \"scatter3d\"}], \"scattercarpet\": [{\"marker\": {\"colorbar\": {\"outlinewidth\": 0, \"ticks\": \"\"}}, \"type\": \"scattercarpet\"}], \"scattergeo\": [{\"marker\": {\"colorbar\": {\"outlinewidth\": 0, \"ticks\": \"\"}}, \"type\": \"scattergeo\"}], \"scattergl\": [{\"marker\": {\"colorbar\": {\"outlinewidth\": 0, \"ticks\": \"\"}}, \"type\": \"scattergl\"}], \"scattermapbox\": [{\"marker\": {\"colorbar\": {\"outlinewidth\": 0, \"ticks\": \"\"}}, \"type\": \"scattermapbox\"}], \"scatterpolar\": [{\"marker\": {\"colorbar\": {\"outlinewidth\": 0, \"ticks\": \"\"}}, \"type\": \"scatterpolar\"}], \"scatterpolargl\": [{\"marker\": {\"colorbar\": {\"outlinewidth\": 0, \"ticks\": \"\"}}, \"type\": \"scatterpolargl\"}], \"scatterternary\": [{\"marker\": {\"colorbar\": {\"outlinewidth\": 0, \"ticks\": \"\"}}, \"type\": \"scatterternary\"}], \"surface\": [{\"colorbar\": {\"outlinewidth\": 0, \"ticks\": \"\"}, \"colorscale\": [[0.0, \"#0d0887\"], [0.1111111111111111, \"#46039f\"], [0.2222222222222222, \"#7201a8\"], [0.3333333333333333, \"#9c179e\"], [0.4444444444444444, \"#bd3786\"], [0.5555555555555556, \"#d8576b\"], [0.6666666666666666, \"#ed7953\"], [0.7777777777777778, \"#fb9f3a\"], [0.8888888888888888, \"#fdca26\"], [1.0, \"#f0f921\"]], \"type\": \"surface\"}], \"table\": [{\"cells\": {\"fill\": {\"color\": \"#EBF0F8\"}, \"line\": {\"color\": \"white\"}}, \"header\": {\"fill\": {\"color\": \"#C8D4E3\"}, \"line\": {\"color\": \"white\"}}, \"type\": \"table\"}]}, \"layout\": {\"annotationdefaults\": {\"arrowcolor\": \"#2a3f5f\", \"arrowhead\": 0, \"arrowwidth\": 1}, \"colorscale\": {\"diverging\": [[0, \"#8e0152\"], [0.1, \"#c51b7d\"], [0.2, \"#de77ae\"], [0.3, \"#f1b6da\"], [0.4, \"#fde0ef\"], [0.5, \"#f7f7f7\"], [0.6, \"#e6f5d0\"], [0.7, \"#b8e186\"], [0.8, \"#7fbc41\"], [0.9, \"#4d9221\"], [1, \"#276419\"]], \"sequential\": [[0.0, \"#0d0887\"], [0.1111111111111111, \"#46039f\"], [0.2222222222222222, \"#7201a8\"], [0.3333333333333333, \"#9c179e\"], [0.4444444444444444, \"#bd3786\"], [0.5555555555555556, \"#d8576b\"], [0.6666666666666666, \"#ed7953\"], [0.7777777777777778, \"#fb9f3a\"], [0.8888888888888888, \"#fdca26\"], [1.0, \"#f0f921\"]], \"sequentialminus\": [[0.0, \"#0d0887\"], [0.1111111111111111, \"#46039f\"], [0.2222222222222222, \"#7201a8\"], [0.3333333333333333, \"#9c179e\"], [0.4444444444444444, \"#bd3786\"], [0.5555555555555556, \"#d8576b\"], [0.6666666666666666, \"#ed7953\"], [0.7777777777777778, \"#fb9f3a\"], [0.8888888888888888, \"#fdca26\"], [1.0, \"#f0f921\"]]}, \"colorway\": [\"#636efa\", \"#EF553B\", \"#00cc96\", \"#ab63fa\", \"#FFA15A\", \"#19d3f3\", \"#FF6692\", \"#B6E880\", \"#FF97FF\", \"#FECB52\"], \"font\": {\"color\": \"#2a3f5f\"}, \"geo\": {\"bgcolor\": \"white\", \"lakecolor\": \"white\", \"landcolor\": \"#E5ECF6\", \"showlakes\": true, \"showland\": true, \"subunitcolor\": \"white\"}, \"hoverlabel\": {\"align\": \"left\"}, \"hovermode\": \"closest\", \"mapbox\": {\"style\": \"light\"}, \"paper_bgcolor\": \"white\", \"plot_bgcolor\": \"#E5ECF6\", \"polar\": {\"angularaxis\": {\"gridcolor\": \"white\", \"linecolor\": \"white\", \"ticks\": \"\"}, \"bgcolor\": \"#E5ECF6\", \"radialaxis\": {\"gridcolor\": \"white\", \"linecolor\": \"white\", \"ticks\": \"\"}}, \"scene\": {\"xaxis\": {\"backgroundcolor\": \"#E5ECF6\", \"gridcolor\": \"white\", \"gridwidth\": 2, \"linecolor\": \"white\", \"showbackground\": true, \"ticks\": \"\", \"zerolinecolor\": \"white\"}, \"yaxis\": {\"backgroundcolor\": \"#E5ECF6\", \"gridcolor\": \"white\", \"gridwidth\": 2, \"linecolor\": \"white\", \"showbackground\": true, \"ticks\": \"\", \"zerolinecolor\": \"white\"}, \"zaxis\": {\"backgroundcolor\": \"#E5ECF6\", \"gridcolor\": \"white\", \"gridwidth\": 2, \"linecolor\": \"white\", \"showbackground\": true, \"ticks\": \"\", \"zerolinecolor\": \"white\"}}, \"shapedefaults\": {\"line\": {\"color\": \"#2a3f5f\"}}, \"ternary\": {\"aaxis\": {\"gridcolor\": \"white\", \"linecolor\": \"white\", \"ticks\": \"\"}, \"baxis\": {\"gridcolor\": \"white\", \"linecolor\": \"white\", \"ticks\": \"\"}, \"bgcolor\": \"#E5ECF6\", \"caxis\": {\"gridcolor\": \"white\", \"linecolor\": \"white\", \"ticks\": \"\"}}, \"title\": {\"x\": 0.05}, \"xaxis\": {\"automargin\": true, \"gridcolor\": \"white\", \"linecolor\": \"white\", \"ticks\": \"\", \"zerolinecolor\": \"white\", \"zerolinewidth\": 2}, \"yaxis\": {\"automargin\": true, \"gridcolor\": \"white\", \"linecolor\": \"white\", \"ticks\": \"\", \"zerolinecolor\": \"white\", \"zerolinewidth\": 2}}}},\n",
       "                        {\"responsive\": true}\n",
       "                    ).then(function(){\n",
       "                            \n",
       "var gd = document.getElementById('dd7a879e-b87a-4e62-9622-3d40a6962887');\n",
       "var x = new MutationObserver(function (mutations, observer) {{\n",
       "        var display = window.getComputedStyle(gd).display;\n",
       "        if (!display || display === 'none') {{\n",
       "            console.log([gd, 'removed!']);\n",
       "            Plotly.purge(gd);\n",
       "            observer.disconnect();\n",
       "        }}\n",
       "}});\n",
       "\n",
       "// Listen for the removal of the full notebook cells\n",
       "var notebookContainer = gd.closest('#notebook-container');\n",
       "if (notebookContainer) {{\n",
       "    x.observe(notebookContainer, {childList: true});\n",
       "}}\n",
       "\n",
       "// Listen for the clearing of the current output cell\n",
       "var outputEl = gd.closest('.output');\n",
       "if (outputEl) {{\n",
       "    x.observe(outputEl, {childList: true});\n",
       "}}\n",
       "\n",
       "                        })\n",
       "                };\n",
       "                });\n",
       "            </script>\n",
       "        </div>"
      ]
     },
     "metadata": {},
     "output_type": "display_data"
    }
   ],
   "source": [
    "fig = px.scatter_geo(countries_plot_4, locations=\"iso_alpha\",\n",
    "                     hover_name=\"countries\", size=\"YearsCode\", color=\"YearsCode\",\n",
    "                     projection=\"natural earth\")\n",
    "fig.show()"
   ]
  },
  {
   "cell_type": "markdown",
   "metadata": {},
   "source": [
    "Data Scientists from **Africa, the Middle East, and Eastern Europe, tend to have less years of experience**, whereas Data Scientists from **Western Europe, the US, Canada, Australia, and New Zealand tend to have more**. Keep in mind that the sample for most countries is very small. "
   ]
  },
  {
   "cell_type": "markdown",
   "metadata": {},
   "source": [
    "### Evaluating Competence"
   ]
  },
  {
   "cell_type": "markdown",
   "metadata": {},
   "source": [
    "#### All of the Developers Are Above Average?"
   ]
  },
  {
   "cell_type": "code",
   "execution_count": 188,
   "metadata": {},
   "outputs": [
    {
     "data": {
      "image/png": "[encoded data removed]",
      "text/plain": [
       "<Figure size 432x288 with 1 Axes>"
      ]
     },
     "metadata": {
      "needs_background": "light"
     },
     "output_type": "display_data"
    }
   ],
   "source": [
    "bar_plot_percent('ImpSyn', 'barh', 'Feelings of Competence Among All Data Scientist %', sort=True);"
   ]
  },
  {
   "cell_type": "code",
   "execution_count": 189,
   "metadata": {},
   "outputs": [
    {
     "data": {
      "text/plain": [
       "A little above average    42.98\n",
       "Far above average         27.07\n",
       "Average                   20.94\n",
       "A little below average     6.46\n",
       "Far below average          2.55\n",
       "Name: ImpSyn, dtype: float64"
      ]
     },
     "execution_count": 189,
     "metadata": {},
     "output_type": "execute_result"
    }
   ],
   "source": [
    "get_percent('ImpSyn')"
   ]
  },
  {
   "cell_type": "markdown",
   "metadata": {},
   "source": [
    "**~70% of respondents think they are above average and ~9% below average**. Confidence is bit higher than for all developers (~66%), but in general looks like the vast majority of Data Scientists think to be better than the average. The Stack Overflow team seems to think that this is a measure of 'impostor syndrome' (given the variable name). Even though 'impostor syndrome' technically is not some form of psychopathology, I have a few ideas of how to measure that 'construct' more accurately."
   ]
  },
  {
   "cell_type": "markdown",
   "metadata": {},
   "source": [
    "#### Feelings of (High) Competence By Gender"
   ]
  },
  {
   "cell_type": "code",
   "execution_count": 190,
   "metadata": {},
   "outputs": [],
   "source": [
    "totals_by_gender = df_ds.groupby('Gender2')['ImpSyn'].count().values\n",
    "percent_by_gender_high = df_ds[(df_ds.ImpSyn == 'Far above average') | (df_ds.ImpSyn == 'A little above average')].groupby('Gender2')['ImpSyn'].count() / totals_by_gender"
   ]
  },
  {
   "cell_type": "code",
   "execution_count": 191,
   "metadata": {},
   "outputs": [
    {
     "data": {
      "image/png": "[encoded data removed]",
      "text/plain": [
       "<Figure size 432x288 with 1 Axes>"
      ]
     },
     "metadata": {
      "needs_background": "light"
     },
     "output_type": "display_data"
    }
   ],
   "source": [
    "percent_by_gender_high.plot(kind='barh', title= \"Feeling of High Competence (Above average) by Gender %\");"
   ]
  },
  {
   "cell_type": "code",
   "execution_count": 192,
   "metadata": {},
   "outputs": [
    {
     "data": {
      "text/plain": [
       "Gender2\n",
       "Man                                                  0.711578\n",
       "Non-binary, genderqueer, or gender non-conforming    0.606061\n",
       "Woman                                                0.591331\n",
       "Name: ImpSyn, dtype: float64"
      ]
     },
     "execution_count": 192,
     "metadata": {},
     "output_type": "execute_result"
    }
   ],
   "source": [
    "percent_by_gender_high"
   ]
  },
  {
   "cell_type": "markdown",
   "metadata": {},
   "source": [
    "Looking at feelings of competence by gender, mens are at the top with **~71% thinkin they are better than average**. Women and Non-binary, genderqueer, or gender non-conforming individuals think the same but in a lesser extent."
   ]
  },
  {
   "cell_type": "markdown",
   "metadata": {},
   "source": [
    "#### Feelings of (Low) Competence by Gender"
   ]
  },
  {
   "cell_type": "code",
   "execution_count": 193,
   "metadata": {},
   "outputs": [],
   "source": [
    "percent_by_gender_low = df_ds[(df_ds.ImpSyn == 'Far below average') | (df_ds.ImpSyn == 'A little below average')].groupby('Gender2')['ImpSyn'].count() / totals_by_gender"
   ]
  },
  {
   "cell_type": "code",
   "execution_count": 194,
   "metadata": {},
   "outputs": [
    {
     "data": {
      "image/png": "[encoded data removed]",
      "text/plain": [
       "<Figure size 432x288 with 1 Axes>"
      ]
     },
     "metadata": {
      "needs_background": "light"
     },
     "output_type": "display_data"
    }
   ],
   "source": [
    "percent_by_gender_low.plot(kind='barh', title= \"Feeling of Low Competence (Below Average) by Gender %\");"
   ]
  },
  {
   "cell_type": "code",
   "execution_count": 195,
   "metadata": {},
   "outputs": [
    {
     "data": {
      "text/plain": [
       "Gender2\n",
       "Man                                                  0.085218\n",
       "Non-binary, genderqueer, or gender non-conforming    0.174242\n",
       "Woman                                                0.126935\n",
       "Name: ImpSyn, dtype: float64"
      ]
     },
     "execution_count": 195,
     "metadata": {},
     "output_type": "execute_result"
    }
   ],
   "source": [
    "percent_by_gender_low"
   ]
  },
  {
   "cell_type": "markdown",
   "metadata": {},
   "source": [
    "Even more notorious is the gap in feeling less competente than average: **only 8.5% of men report to think they are below average**. Both women and non-binary, genderqueer, or gender non-conforming report more than men, with 12.6% and 17.4%, respectively."
   ]
  },
  {
   "cell_type": "markdown",
   "metadata": {},
   "source": [
    "### Life Outside Work"
   ]
  },
  {
   "cell_type": "markdown",
   "metadata": {},
   "source": [
    "#### Children and Other Dependents"
   ]
  },
  {
   "cell_type": "code",
   "execution_count": 196,
   "metadata": {},
   "outputs": [
    {
     "data": {
      "image/png": "[encoded data removed]",
      "text/plain": [
       "<Figure size 432x288 with 1 Axes>"
      ]
     },
     "metadata": {
      "needs_background": "light"
     },
     "output_type": "display_data"
    }
   ],
   "source": [
    "bar_plot_percent('Dependents', 'barh', 'Respondents with Dependents %', sort=True);"
   ]
  },
  {
   "cell_type": "code",
   "execution_count": 197,
   "metadata": {},
   "outputs": [
    {
     "data": {
      "text/plain": [
       "No     57.89\n",
       "Yes    42.11\n",
       "Name: Dependents, dtype: float64"
      ]
     },
     "execution_count": 197,
     "metadata": {},
     "output_type": "execute_result"
    }
   ],
   "source": [
    "get_percent('Dependents')"
   ]
  },
  {
   "cell_type": "markdown",
   "metadata": {},
   "source": [
    "Near 42% of respondents report to have some type of dependent."
   ]
  },
  {
   "cell_type": "markdown",
   "metadata": {},
   "source": [
    "#### Families and IT Support"
   ]
  },
  {
   "cell_type": "code",
   "execution_count": 198,
   "metadata": {},
   "outputs": [
    {
     "data": {
      "image/png": "[encoded data removed]",
      "text/plain": [
       "<Figure size 432x288 with 1 Axes>"
      ]
     },
     "metadata": {
      "needs_background": "light"
     },
     "output_type": "display_data"
    }
   ],
   "source": [
    "bar_plot_percent('ITperson', 'barh', 'Are you the IT Support Person for Your Family? %', sort=True);"
   ]
  },
  {
   "cell_type": "markdown",
   "metadata": {},
   "source": [
    "Interestingly, most Data Scientists also have the title of IT person of their families."
   ]
  },
  {
   "cell_type": "code",
   "execution_count": 199,
   "metadata": {},
   "outputs": [
    {
     "data": {
      "image/png": "[encoded data removed]",
      "text/plain": [
       "<Figure size 432x288 with 1 Axes>"
      ]
     },
     "metadata": {
      "needs_background": "light"
     },
     "output_type": "display_data"
    }
   ],
   "source": [
    "bar_plot_percent('OffOn', 'barh', 'Have You Tried Turning It Off and On Again? %', sort=True);"
   ]
  },
  {
   "cell_type": "markdown",
   "metadata": {},
   "source": [
    "#### Will People Born Today Have a Better Life Than Their Parents?"
   ]
  },
  {
   "cell_type": "code",
   "execution_count": 200,
   "metadata": {},
   "outputs": [
    {
     "data": {
      "image/png": "[encoded data removed]",
      "text/plain": [
       "<Figure size 432x288 with 1 Axes>"
      ]
     },
     "metadata": {
      "needs_background": "light"
     },
     "output_type": "display_data"
    }
   ],
   "source": [
    "bar_plot_percent('BetterLife', 'barh', 'Will People Born Today Have a Better Life Than Their Parents? %', sort=True);"
   ]
  },
  {
   "cell_type": "code",
   "execution_count": 201,
   "metadata": {},
   "outputs": [
    {
     "data": {
      "text/plain": [
       "Yes    63.61\n",
       "No     36.39\n",
       "Name: BetterLife, dtype: float64"
      ]
     },
     "execution_count": 201,
     "metadata": {},
     "output_type": "execute_result"
    }
   ],
   "source": [
    "get_percent('BetterLife')"
   ]
  },
  {
   "cell_type": "markdown",
   "metadata": {},
   "source": [
    "Roughly 2 of every 3 Data Scientists think that people born today will have a better life than their parents (Climate change beg to disagree)"
   ]
  },
  {
   "cell_type": "markdown",
   "metadata": {},
   "source": [
    "#### Social Media Use"
   ]
  },
  {
   "cell_type": "code",
   "execution_count": 202,
   "metadata": {},
   "outputs": [
    {
     "data": {
      "image/png": "[encoded data removed]",
      "text/plain": [
       "<Figure size 432x288 with 1 Axes>"
      ]
     },
     "metadata": {
      "needs_background": "light"
     },
     "output_type": "display_data"
    }
   ],
   "source": [
    "bar_plot_percent('SocialMedia', 'barh', 'Social Media Use %', sort=True);"
   ]
  },
  {
   "cell_type": "markdown",
   "metadata": {},
   "source": [
    "The top 3 primary social media platforms for Data Science are WhatsApp, Facebook, and Reddit. For all respondents, this was Reddit, YouTube, and WhatsApp."
   ]
  },
  {
   "cell_type": "markdown",
   "metadata": {},
   "source": [
    "#### What's Your Handle?"
   ]
  },
  {
   "cell_type": "code",
   "execution_count": 203,
   "metadata": {},
   "outputs": [
    {
     "data": {
      "image/png": "[encoded data removed]",
      "text/plain": [
       "<Figure size 432x288 with 1 Axes>"
      ]
     },
     "metadata": {
      "needs_background": "light"
     },
     "output_type": "display_data"
    }
   ],
   "source": [
    "bar_plot_percent('ScreenName', 'barh', 'Social Media Use %', sort=True);"
   ]
  },
  {
   "cell_type": "markdown",
   "metadata": {},
   "source": [
    "#### IRL or online chat?"
   ]
  },
  {
   "cell_type": "code",
   "execution_count": 204,
   "metadata": {},
   "outputs": [
    {
     "data": {
      "image/png": "[encoded data removed]",
      "text/plain": [
       "<Figure size 432x288 with 1 Axes>"
      ]
     },
     "metadata": {
      "needs_background": "light"
     },
     "output_type": "display_data"
    }
   ],
   "source": [
    "bar_plot_percent('Extraversion', 'barh', 'Social Media Use %', sort=True);"
   ]
  },
  {
   "cell_type": "markdown",
   "metadata": {},
   "source": [
    "**~11% of Data Scientists don't want to communicate at all with anyone**. For some reason, the Stack Overflow team thinks that this is a measure of extra version. Personality psychologist aren't particularly happy with that."
   ]
  },
  {
   "cell_type": "markdown",
   "metadata": {},
   "source": [
    "## 5. Key Observations and Conclusions"
   ]
  },
  {
   "cell_type": "markdown",
   "metadata": {},
   "source": [
    "Let's summarize our findings in **10 key insights about Data Scientist's profile in the Stack Overflow Survey (2019)**:\n",
    "\n",
    "1. **~37%** of Data Scientists report to contribute to open source more than once per year, and 13.37% once a month or more often. \n",
    "2. **~81%** of Data Scientists report to code as a hobby.\n",
    "3. **~47%** of Data Scientists report having learned to code in the last 9 years.\n",
    "4. **~18%** of Data Scientists report less than 5 years of coding professionally.\n",
    "5. **~68%** of Data Scientists mentioned that they wrote that *first line of code* as kids (i.e., 17 years or less).\n",
    "6. **~27%** of Data Scientists report to be part-time or full time student. \n",
    "7. **Data Scientist are highly educated**: **~81%** have BA or higher,**~42%** have MA or higher, and **~10%** professional degrees and PhD. This is sharp contrast with developers in general who report ~72%, ~26%, and ~4%, respectively.\n",
    "8. Data Scientists of white and european ancestry dominate the sample with **70%**, followed by people from south asia (mostly from India) with **12.57%**.\n",
    "9. **~91%** of Data Scientists are males\n",
    "10. **~8%** of Data Scientists report to self-identify as Bisexual, Gay, or Lesbian.\n",
    "11. Data Scientists tend to be young: **~50%** is 29 or younger, and **~70%** is 35 or younger.\n",
    "12. **~70%** of Data Scientists think they are above average and only **~9%** below average. \n",
    "13. **~8.5%** of men report to think they are below average; Women report **~12.6%**; Non-binary, genderqueer, or gender non-conforming report **17.4%**.\n",
    "14. **~63%** of Data Scientists think that people born today will have a better life than their parents.\n",
    "15. The top 3 primary social media platforms for Data Scientists are **WhatsApp, Facebook, and Reddit**.\n",
    "\n",
    "\n",
    "**Bonus: ~11% of Data Scientists don't want to communicate with anyone at all**\n"
   ]
  }
 ],
 "metadata": {
  "file_extension": ".py",
  "kernelspec": {
   "display_name": "Python 3",
   "language": "python",
   "name": "python3"
  },
  "mimetype": "text/x-python",
  "name": "python",
  "npconvert_exporter": "python",
  "pygments_lexer": "ipython3",
  "version": 3
 },
 "nbformat": 4,
 "nbformat_minor": 2
}
